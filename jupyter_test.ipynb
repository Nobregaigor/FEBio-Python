{
 "metadata": {
  "language_info": {
   "codemirror_mode": {
    "name": "ipython",
    "version": 3
   },
   "file_extension": ".py",
   "mimetype": "text/x-python",
   "name": "python",
   "nbconvert_exporter": "python",
   "pygments_lexer": "ipython3",
   "version": "3.8.3-final"
  },
  "orig_nbformat": 2,
  "kernelspec": {
   "name": "Python 3.8.3 64-bit ('venv')",
   "display_name": "Python 3.8.3 64-bit ('venv')",
   "metadata": {
    "interpreter": {
     "hash": "4ce963eec525c72576d8dfcde812f8487bbeefd0db94f66638320c10fe71db33"
    }
   }
  }
 },
 "nbformat": 4,
 "nbformat_minor": 2,
 "cells": [
  {
   "cell_type": "code",
   "execution_count": 1,
   "metadata": {},
   "outputs": [],
   "source": [
    "import modules.classes.FEBio_xml_parser as FEBIO_PARSER"
   ]
  },
  {
   "cell_type": "code",
   "execution_count": 2,
   "metadata": {},
   "outputs": [],
   "source": [
    "from os import path\n",
    "\n",
    "file_dir = \"D:/Igor/Research_USF/University of South Florida/Mao, Wenbin - Igor/Febio-Models/Active-Models/PAQ/Myo_test/myo_hex_8_coarse_PAQ\"\n",
    "\n",
    "file_name = \"myo_hex_8_coarse_PAQ.feb\"\n",
    "\n",
    "file_path = path.join(file_dir, file_name)"
   ]
  },
  {
   "cell_type": "code",
   "execution_count": 3,
   "metadata": {
    "tags": []
   },
   "outputs": [
    {
     "output_type": "stream",
     "name": "stdout",
     "text": "Initializing...\n-Parsing.\n-Rooting.\n-Finding tags.\n--Found: Module.\n--Found: Control.\n--Found: Material.\n--Found: Globals.\n--Found: Geometry.\n--Found: Boundary.\n--Found: Loads.\n--Found: LoadData.\n--Found: Output.\n--Found: MeshData.\n"
    }
   ],
   "source": [
    "FBEIO_obj = FEBIO_PARSER.FEBio_xml_parser(file_path)"
   ]
  },
  {
   "cell_type": "code",
   "execution_count": 7,
   "metadata": {
    "tags": []
   },
   "outputs": [],
   "source": [
    "FEBio_nodests = FBEIO_obj.get_geometry_data(what=[(\"NodeSet\", \"Endocardio\", \"node\"), (\"NodeSet\", \"Epicardio\", \"node\"), (\"NodeSet\", \"Top_surface\", \"node\")], return_nodes=False, return_elems= False)\n",
    "\n",
    "FEBio_surfaces = FBEIO_obj.get_geometry_data(what=[(\"Surface\", \"Endocardio\", \"tri3\")], return_nodes=False, return_elems= False)"
   ]
  },
  {
   "cell_type": "code",
   "execution_count": 9,
   "metadata": {},
   "outputs": [],
   "source": [
    "# load geometry data\n",
    "\n",
    "from os import listdir, makedirs\n",
    "from os.path import isfile, join, isdir\n",
    "\n",
    "def find_files(path_to_folder, condition=None):\n",
    "\tif (condition):\n",
    "\t\tif (condition[0] == \"fileFormat\"):\n",
    "\t\t\t_l = len(condition[1])\n",
    "\t\t\treturn [(join(path_to_folder,f), f,f[:-_l - 1]) for f in listdir(path_to_folder) if isfile(join(path_to_folder, f)) and f[-_l:] == condition[1]]\n",
    "\t\telse:\n",
    "\t\t\traise(ValueError(\"Condition should be a tuple where the first argument is the condition name and the second is its value\"))\n",
    "\telse:\n",
    "\t\treturn [(join(path_to_folder,f), f, f.rsplit(\".\")[0]) for f in listdir(path_to_folder) if isfile(join(path_to_folder, f))]\n"
   ]
  },
  {
   "cell_type": "code",
   "execution_count": 10,
   "metadata": {},
   "outputs": [],
   "source": [
    "import numpy as np\n",
    "import pandas as pd"
   ]
  },
  {
   "cell_type": "code",
   "execution_count": 12,
   "metadata": {},
   "outputs": [],
   "source": [
    "# import compiled data\n",
    "\n",
    "compiled_dir = \"./compiled_data\"\n",
    "elems_file = \"elems_compiled.pickle\"\n",
    "nodes_file = \"nodes_compiled.pickle\"\n",
    "\n",
    "e_p = join(compiled_dir, elems_file)\n",
    "n_p = join(compiled_dir, nodes_file)\n",
    "\n",
    "elems_df = pd.read_pickle(e_p)\n",
    "nodes_df = pd.read_pickle(n_p)"
   ]
  },
  {
   "cell_type": "code",
   "execution_count": 13,
   "metadata": {},
   "outputs": [],
   "source": [
    "grouped_elems_df_time = elems_df.groupby([\"time\"])\n",
    "\n",
    "g_elem_first_by_f = grouped_elems_df_time.get_group(0.004).groupby([\"fileName\"])\n",
    "g_elem_last_by_f = grouped_elems_df_time.get_group(0.2).groupby([\"fileName\"])\n"
   ]
  },
  {
   "cell_type": "code",
   "execution_count": 15,
   "metadata": {
    "tags": []
   },
   "outputs": [
    {
     "output_type": "stream",
     "name": "stdout",
     "text": "       time  elem         sx       sy       sz      sxy      sxz      syz  \\\n20000   0.2   1.0  -5.941120  52.3022 -13.7855 -16.7291  1.01542 -3.05725   \n20001   0.2   2.0  -0.126393  47.6513 -13.2595 -23.5962  1.42053 -2.95780   \n20002   0.2   3.0   6.939390  40.5597 -13.4835 -29.2079  1.80529 -2.73696   \n20003   0.2   4.0  15.490000  32.0672 -14.2087 -33.3808  2.19098 -2.48461   \n20004   0.2   5.0  26.938700  24.1022 -13.1274 -35.0105  2.54833 -2.17264   \n\n                   fileName  \n20000  myo_hex_8_coarse_PAQ  \n20001  myo_hex_8_coarse_PAQ  \n20002  myo_hex_8_coarse_PAQ  \n20003  myo_hex_8_coarse_PAQ  \n20004  myo_hex_8_coarse_PAQ  \n"
    }
   ],
   "source": [
    "for (file_name, group) in g_elem_last_by_f:\n",
    "    print(group.head())"
   ]
  },
  {
   "cell_type": "code",
   "execution_count": null,
   "metadata": {},
   "outputs": [],
   "source": []
  }
 ]
}