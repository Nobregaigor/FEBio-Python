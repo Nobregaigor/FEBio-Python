{
 "metadata": {
  "language_info": {
   "codemirror_mode": {
    "name": "ipython",
    "version": 3
   },
   "file_extension": ".py",
   "mimetype": "text/x-python",
   "name": "python",
   "nbconvert_exporter": "python",
   "pygments_lexer": "ipython3",
   "version": "3.8.3-final"
  },
  "orig_nbformat": 2,
  "kernelspec": {
   "name": "Python 3.8.3 64-bit ('venv')",
   "display_name": "Python 3.8.3 64-bit ('venv')",
   "metadata": {
    "interpreter": {
     "hash": "4ce963eec525c72576d8dfcde812f8487bbeefd0db94f66638320c10fe71db33"
    }
   }
  }
 },
 "nbformat": 4,
 "nbformat_minor": 2,
 "cells": [
  {
   "cell_type": "code",
   "execution_count": 1,
   "metadata": {},
   "outputs": [],
   "source": [
    "import sys  \n",
    "from os import path\n",
    "import numpy as np\n",
    "import pandas as pd\n",
    "\n",
    "sys.path.append('../src/')"
   ]
  },
  {
   "cell_type": "code",
   "execution_count": 2,
   "metadata": {},
   "outputs": [],
   "source": [
    "# Load initial node data from file:\n",
    "from modules.classes.Data_Manipulator import Data_Manipulator\n",
    "\n",
    "file_dir = \"D:/Igor/Research_USF/University of South Florida/Mao, Wenbin - Igor/Febio-Models/Active-Models/PAQ/Myo_test/myo_hex_coarse_8_PAQ\"\n",
    "file_name = \"myo_hex_coarse_8_PAQ.feb\"\n",
    "\n",
    "file_path = path.join(file_dir, file_name)\n",
    "\n",
    "data_m = Data_Manipulator(file_path)\n",
    "node_data = data_m.get_node_data_from_face(data_m.face_dicts[0])\n",
    "\n",
    "xyz = node_data[[\"x\",\"y\",\"z\"]].to_numpy()"
   ]
  },
  {
   "source": [
    "# Compute volume using Convex Hull"
   ],
   "cell_type": "markdown",
   "metadata": {}
  },
  {
   "cell_type": "code",
   "execution_count": 3,
   "metadata": {},
   "outputs": [],
   "source": [
    "from scipy.spatial import ConvexHull\n",
    "\n",
    "vol_ch = ConvexHull(xyz, qhull_options=\"Qt Qx Qv Q4 Q14\").volume\n"
   ]
  },
  {
   "cell_type": "code",
   "execution_count": 4,
   "metadata": {},
   "outputs": [],
   "source": [
    "#  ref: https://stackoverflow.com/questions/24733185/volume-of-convex-hull-with-qhull-from-scipy\n",
    "def tetrahedron_volume(a, b, c, d):\n",
    "    return np.abs(np.einsum('ij,ij->i', a-d, np.cross(b-d, c-d))) / 6\n",
    "\n",
    "def convex_hull_volume_bis(pts):\n",
    "    ch = ConvexHull(pts)\n",
    "    simplices = np.column_stack((np.repeat(ch.vertices[0], ch.nsimplex), ch.simplices))\n",
    "    tets = ch.points[simplices]\n",
    "    return np.sum(tetrahedron_volume(tets[:, 0], tets[:, 1], tets[:, 2], tets[:, 3]))"
   ]
  },
  {
   "cell_type": "code",
   "execution_count": 5,
   "metadata": {},
   "outputs": [
    {
     "output_type": "execute_result",
     "data": {
      "text/plain": "122754.87266821964"
     },
     "metadata": {},
     "execution_count": 5
    }
   ],
   "source": [
    "\n",
    "convex_hull_volume_bis(xyz)"
   ]
  },
  {
   "cell_type": "code",
   "execution_count": 6,
   "metadata": {},
   "outputs": [
    {
     "output_type": "execute_result",
     "data": {
      "text/plain": "122754.87266821973"
     },
     "metadata": {},
     "execution_count": 6
    }
   ],
   "source": [
    "vol_ch"
   ]
  },
  {
   "source": [
    "# Compute Exact value"
   ],
   "cell_type": "markdown",
   "metadata": {}
  },
  {
   "cell_type": "code",
   "execution_count": 7,
   "metadata": {},
   "outputs": [
    {
     "output_type": "execute_result",
     "data": {
      "text/plain": "123115.42216175977"
     },
     "metadata": {},
     "execution_count": 7
    }
   ],
   "source": [
    "a = 65\n",
    "b = 25\n",
    "pi = np.pi\n",
    "\n",
    "m = 20\n",
    "n = -65\n",
    "\n",
    "vol = pi * b*b * (m - n - ( (m**3 - n**3)/(3* a**2) ))\n",
    "vol"
   ]
  },
  {
   "cell_type": "code",
   "execution_count": 8,
   "metadata": {},
   "outputs": [
    {
     "output_type": "execute_result",
     "data": {
      "text/plain": "-360.54949354003475"
     },
     "metadata": {},
     "execution_count": 8
    }
   ],
   "source": [
    "vol_ch - vol"
   ]
  },
  {
   "source": [
    "# Compute based on tetrahedrons"
   ],
   "cell_type": "markdown",
   "metadata": {}
  },
  {
   "cell_type": "code",
   "execution_count": 9,
   "metadata": {
    "tags": []
   },
   "outputs": [],
   "source": [
    "surfs = data_m.get_nodes_from_surface([(\"Surface\", \"Endocardio\", \"any\")])\n",
    "endo_surf = surfs[0]"
   ]
  },
  {
   "cell_type": "code",
   "execution_count": 10,
   "metadata": {},
   "outputs": [],
   "source": [
    "centroid = node_data[[\"x\", \"y\", \"z\"]].mean().to_numpy()"
   ]
  },
  {
   "cell_type": "code",
   "execution_count": 11,
   "metadata": {},
   "outputs": [
    {
     "output_type": "execute_result",
     "data": {
      "text/plain": "array([-6.39232769e-17, -1.96919206e-16, -2.52217891e+01])"
     },
     "metadata": {},
     "execution_count": 11
    }
   ],
   "source": [
    "centroid"
   ]
  },
  {
   "source": [
    "## Using an approximation method "
   ],
   "cell_type": "markdown",
   "metadata": {}
  },
  {
   "cell_type": "code",
   "execution_count": 12,
   "metadata": {},
   "outputs": [],
   "source": [
    "def comp_tri_area(coords):\n",
    "    v = coords[0] - coords[1]\n",
    "    w = coords[0] - coords[2]\n",
    "    return np.linalg.norm(0.5 * np.cross(v,w))"
   ]
  },
  {
   "cell_type": "code",
   "execution_count": 13,
   "metadata": {},
   "outputs": [],
   "source": [
    "#ref https://stackoverflow.com/questions/12642256/python-find-area-of-polygon-from-xyz-coordinates\n",
    "#determinant of matrix a\n",
    "def det(a):\n",
    "    return a[0][0]*a[1][1]*a[2][2] + a[0][1]*a[1][2]*a[2][0] + a[0][2]*a[1][0]*a[2][1] - a[0][2]*a[1][1]*a[2][0] - a[0][1]*a[1][0]*a[2][2] - a[0][0]*a[1][2]*a[2][1]\n",
    "\n",
    "#unit normal vector of plane defined by points a, b, and c\n",
    "def unit_normal(a, b, c):\n",
    "    x = det([[1,a[1],a[2]],\n",
    "             [1,b[1],b[2]],\n",
    "             [1,c[1],c[2]]])\n",
    "    y = det([[a[0],1,a[2]],\n",
    "             [b[0],1,b[2]],\n",
    "             [c[0],1,c[2]]])\n",
    "    z = det([[a[0],a[1],1],\n",
    "             [b[0],b[1],1],\n",
    "             [c[0],c[1],1]])\n",
    "    magnitude = (x**2 + y**2 + z**2)**.5\n",
    "    return (x/magnitude, y/magnitude, z/magnitude)\n",
    "\n",
    "#dot product of vectors a and b\n",
    "def dot(a, b):\n",
    "    return a[0]*b[0] + a[1]*b[1] + a[2]*b[2]\n",
    "\n",
    "#cross product of vectors a and b\n",
    "def cross(a, b):\n",
    "    x = a[1] * b[2] - a[2] * b[1]\n",
    "    y = a[2] * b[0] - a[0] * b[2]\n",
    "    z = a[0] * b[1] - a[1] * b[0]\n",
    "    return (x, y, z)\n",
    "\n",
    "#area of polygon poly\n",
    "def area(poly):\n",
    "    if len(poly) < 3: # not a plane - no area\n",
    "        return 0\n",
    "\n",
    "    total = [0, 0, 0]\n",
    "    for i in range(len(poly)):\n",
    "        vi1 = poly[i]\n",
    "        if i is len(poly)-1:\n",
    "            vi2 = poly[0]\n",
    "        else:\n",
    "            vi2 = poly[i+1]\n",
    "        prod = cross(vi1, vi2)\n",
    "        total[0] += prod[0]\n",
    "        total[1] += prod[1]\n",
    "        total[2] += prod[2]\n",
    "    result = dot(total, unit_normal(poly[0], poly[1], poly[2]))\n",
    "    return abs(result/2)"
   ]
  },
  {
   "cell_type": "code",
   "execution_count": 14,
   "metadata": {},
   "outputs": [],
   "source": [
    "def get_centr(vertices):\n",
    "    return vertices.transpose().mean(axis=1)\n",
    "\n",
    "def get_unit_vector(vec):\n",
    "    return vec / np.linalg.norm(vec)\n",
    "\n",
    "def get_angle_between(v1, v2):\n",
    "    v1_u = get_unit_vector(v1)\n",
    "    v2_u = get_unit_vector(v2)\n",
    "\n",
    "    angle = np.arccos(np.clip(np.dot(v1_u, v2_u), -1.0, 1.0))\n",
    "    delta = v1[0]*v2[1] - v1[1]*v2[0]\n",
    "    if delta > 0:\n",
    "        angle += np.pi\n",
    "\n",
    "    return angle\n",
    "    \n",
    "def sort_by_internal_angle(vertices):\n",
    "    # get centroid\n",
    "    centr = get_centr(vertices)\n",
    "    v_an = list()\n",
    "    v1 = centr - vertices[0]\n",
    "    for p2 in vertices[1:]:\n",
    "        v2 = centr - p2\n",
    "        v_an.append( (get_angle_between(v1,v2), p2) )\n",
    "    # print(v_an)\n",
    "    arr = np.array(v_an, dtype=[('a', float), ('v',object)])\n",
    "    # print(arr[:3])\n",
    "    s_arr = np.sort(arr, order=['a'])\n",
    "    return np.vstack((vertices[0], [ve[1] for ve in s_arr]))\n",
    "\n",
    "def normal(v1,v2):\n",
    "    return np.cross(v1, v2)\n",
    "\n",
    "def poly_area(vertices):\n",
    "    \"\"\"Input: np array of vertices \"\"\"\n",
    "    # ref http://geomalgorithms.com/a01-_area.html#3D%20Polygons\n",
    "    \n",
    "    # check if it is a polygon:\n",
    "    if len(vertices) < 3:\n",
    "        return 0.0\n",
    "    vertices = np.array(vertices)\n",
    "    # Check if polygon is closed:\n",
    "    # if vertices[0].all() != vertices[-1].all():\n",
    "    \n",
    "\n",
    "    # sort vertices\n",
    "    vertices = sort_by_internal_angle(vertices)\n",
    "    # # print(vertices.reverse())\n",
    "\n",
    "    vertices = vertices.tolist()\n",
    "    vertices.reverse()\n",
    "    if vertices[0] != vertices[-1]: \n",
    "        vertices = np.vstack((vertices, vertices[0]))\n",
    "\n",
    "    vertices = np.array(vertices)\n",
    "\n",
    "    # get number of vertices\n",
    "    n = len(vertices) - 1\n",
    "\n",
    "    # get plane normal vector\n",
    "    A1 = vertices[0] - vertices[1]\n",
    "    A2 = vertices[0] - vertices[2]\n",
    "\n",
    "    normal_vec = np.cross(A1, A2)\n",
    "    # use abs coord to ignore for projection\n",
    "    abs_normal_vec = np.absolute(normal_vec)\n",
    "    # select largest coord\n",
    "    coord = 3;\n",
    "    if abs_normal_vec[0] > abs_normal_vec[1]:\n",
    "        if abs_normal_vec[0] > abs_normal_vec[2]:\n",
    "            coord = 1\n",
    "    elif abs_normal_vec[1] > abs_normal_vec[2]:\n",
    "        coord = 2\n",
    "    \n",
    "\n",
    "    # scale\n",
    "    an = np.linalg.norm(abs_normal_vec)\n",
    "    \n",
    "    # compute area of 2D polygon\n",
    "    area = 0.0\n",
    "    j = 2\n",
    "    k = 0\n",
    "\n",
    "    if coord == 1:\n",
    "        for (i, j, k) in zip(range(1, n), range(2, n), range(0, n)):\n",
    "            area += vertices[i][1] * (vertices[j][2] - vertices[k][2])\n",
    "    elif coord == 2:\n",
    "        for (i, j, k) in zip(range(1, n), range(2, n), range(0, n)):\n",
    "            area += vertices[i][2] * (vertices[j][0] - vertices[k][2])\n",
    "    elif coord == 3:\n",
    "        for (i, j, k) in zip(range(1, n), range(2, n), range(0, n)):\n",
    "            area += vertices[i][0] * (vertices[j][1] - vertices[k][1])\n",
    "\n",
    "    # wrap around\n",
    "    if coord == 1:\n",
    "        area += vertices[n][1] * (vertices[1][2] - vertices[n-1][2])\n",
    "        area *= (an/ (2 * normal_vec[0]))\n",
    "    if coord == 2:\n",
    "        area += vertices[n][2] * (vertices[1][0] - vertices[n-1][0])\n",
    "        area *= (an/ (2 * normal_vec[1]))\n",
    "    if coord == 3:\n",
    "        area += vertices[n][0] * (vertices[1][1] - vertices[n-1][1])\n",
    "        area *= (an/ (2 * normal_vec[2]))\n",
    "\n",
    "    return area\n"
   ]
  },
  {
   "source": [
    "### Validating algorithm"
   ],
   "cell_type": "markdown",
   "metadata": {}
  },
  {
   "source": [
    "# V1 = [0, 0, 0]\n",
    "# V2 = [1, 0, 0]\n",
    "# V3 = [0, 1, 0]\n",
    "# V4 = [1, 5, 0]\n",
    "\n",
    "V1 = [2, 3, 0]\n",
    "V2 = [6, 9, 0]\n",
    "V3 = [15, 12, 0]\n",
    "V4 = [16, 2, 0]\n",
    "\n",
    "vertices = np.array([V1, V4, V3, V2])\n",
    "\n",
    "poly_area(vertices)"
   ],
   "cell_type": "code",
   "metadata": {
    "tags": []
   },
   "execution_count": 15,
   "outputs": [
    {
     "output_type": "execute_result",
     "data": {
      "text/plain": "97.5"
     },
     "metadata": {},
     "execution_count": 15
    }
   ]
  },
  {
   "source": [
    "### Tryig to compute volume"
   ],
   "cell_type": "markdown",
   "metadata": {}
  },
  {
   "cell_type": "code",
   "execution_count": 16,
   "metadata": {},
   "outputs": [],
   "source": [
    "from scipy.spatial import Delaunay\n",
    "\n",
    "volume = 0\n",
    "for key in endo_surf:\n",
    "    c = endo_surf[key]\n",
    "    nodes = [v - 1 for v in c]\n",
    "    data = node_data.loc[nodes]\n",
    "    _centr = data[[\"x\", \"y\", \"z\"]].mean().to_numpy()\n",
    "    _xyz = data[[\"x\", \"y\", \"z\"]].to_numpy()\n",
    "\n",
    "    a = poly_area(_xyz)\n",
    "    h = np.linalg.norm(centroid - _centr)\n",
    "\n",
    "    volume += (1/3) * h * a"
   ]
  },
  {
   "cell_type": "code",
   "execution_count": 17,
   "metadata": {},
   "outputs": [
    {
     "output_type": "execute_result",
     "data": {
      "text/plain": "332854.07889173983"
     },
     "metadata": {},
     "execution_count": 17
    }
   ],
   "source": [
    "vol - volume"
   ]
  },
  {
   "source": [
    "### Using an implementation found online"
   ],
   "cell_type": "markdown",
   "metadata": {}
  },
  {
   "cell_type": "code",
   "execution_count": 18,
   "metadata": {},
   "outputs": [],
   "source": [
    "# ref https://stackoverflow.com/questions/12642256/python-find-area-of-polygon-from-xyz-coordinates\n",
    "\n",
    "def check(p1, p2, base_array):\n",
    "    idxs = np.indices(base_array.shape) # Create 3D array of indices\n",
    "\n",
    "    p1 = p1.astype(float)\n",
    "    p2 = p2.astype(float)\n",
    "\n",
    "    # Calculate max column idx for each row idx based on interpolated line between two points\n",
    "    max_col_idx = (idxs[0] - p1[0]) / (p2[0] - p1[0]) * (p2[1] - p1[1]) +  p1[1]    \n",
    "    sign = np.sign(p2[0] - p1[0])\n",
    "    return idxs[1] * sign <= max_col_idx * sign\n",
    "\n",
    "def create_polygon(vertices):\n",
    "    base_array = np.zeros(vertices.shape, dtype=float) \n",
    "    fill = np.ones(base_array.shape) * True \n",
    "\n",
    "    for k in range(vertices.shape[0]):\n",
    "        fill = np.all([fill, check(vertices[k-1], vertices[k], base_array)], axis=0)\n",
    "\n",
    "    base_array[fill] = 1\n",
    "\n",
    "    return base_array"
   ]
  },
  {
   "cell_type": "code",
   "execution_count": 19,
   "metadata": {
    "tags": []
   },
   "outputs": [],
   "source": [
    "from scipy.spatial import Delaunay\n",
    "\n",
    "volume = 0\n",
    "for key in endo_surf:\n",
    "    c = endo_surf[key]\n",
    "    nodes = [v - 1 for v in c]\n",
    "    data = node_data.loc[nodes]\n",
    "    _centr = data[[\"x\", \"y\", \"z\"]].mean().to_numpy()\n",
    "    _xyz = data[[\"x\", \"y\", \"z\"]].to_numpy()\n",
    "    # while len(_xyz) < 5:\n",
    "    #     _xyz = np.vstack((_xyz, _xyz[np.random.randint(len(_xyz))]))\n",
    "    # print(_xyz)\n",
    "    # tri = Delaunay(_xyz,qhull_options=\"Qt\")\n",
    "    # a = np.sum([comp_tri_area(s) for s in tri.simplices])\n",
    "    a = area(_xyz)\n",
    "    h = np.linalg.norm(centroid - _centr)\n",
    "\n",
    "    volume += (1/3) * h * a\n",
    "\n"
   ]
  },
  {
   "cell_type": "code",
   "execution_count": 20,
   "metadata": {},
   "outputs": [
    {
     "output_type": "execute_result",
     "data": {
      "text/plain": "746.8007476855273"
     },
     "metadata": {},
     "execution_count": 20
    }
   ],
   "source": [
    "vol - volume"
   ]
  }
 ]
}