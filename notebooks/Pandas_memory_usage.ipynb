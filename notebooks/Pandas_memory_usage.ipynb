{
 "metadata": {
  "language_info": {
   "codemirror_mode": {
    "name": "ipython",
    "version": 3
   },
   "file_extension": ".py",
   "mimetype": "text/x-python",
   "name": "python",
   "nbconvert_exporter": "python",
   "pygments_lexer": "ipython3",
   "version": "3.8.3-final"
  },
  "orig_nbformat": 2,
  "kernelspec": {
   "name": "Python 3.8.3 64-bit ('venv')",
   "display_name": "Python 3.8.3 64-bit ('venv')",
   "metadata": {
    "interpreter": {
     "hash": "4ce963eec525c72576d8dfcde812f8487bbeefd0db94f66638320c10fe71db33"
    }
   }
  }
 },
 "nbformat": 4,
 "nbformat_minor": 2,
 "cells": [
  {
   "source": [
    "ref: https://www.dataquest.io/blog/pandas-big-data/"
   ],
   "cell_type": "markdown",
   "metadata": {}
  },
  {
   "cell_type": "code",
   "execution_count": 1,
   "metadata": {},
   "outputs": [],
   "source": [
    "import pandas as pd"
   ]
  },
  {
   "cell_type": "code",
   "execution_count": 2,
   "metadata": {},
   "outputs": [],
   "source": [
    "sample_pickle = \"D:\\\\Igor\\\\Research_USF\\\\University of South Florida\\\\Mao, Wenbin - Igor\\\\Febio-Models\\\\Active-Models\\\\PAQ\\\\Gamma-5-2\\\\runs\\\\0-2\\\\runs\\\\pickles\\\\tpm\\\\data-run-0.pickle\""
   ]
  },
  {
   "cell_type": "code",
   "execution_count": 3,
   "metadata": {},
   "outputs": [],
   "source": [
    "df = pd.read_pickle(sample_pickle)"
   ]
  },
  {
   "cell_type": "code",
   "execution_count": 4,
   "metadata": {},
   "outputs": [
    {
     "output_type": "execute_result",
     "data": {
      "text/plain": [
       "           x         y        z        ux        uy        uz  node  timestep  \\\n",
       "0   0.006057  0.002620 -65.4601  0.006057  0.002620 -0.460083   1.0     0.004   \n",
       "1  -0.004150  0.001450 -75.4548 -0.004150  0.001450 -0.454839   2.0     0.004   \n",
       "2  34.431600 -0.089488  20.0000  0.698981 -0.089488  0.000000   3.0     0.004   \n",
       "3  24.728400  0.199886  20.0000  0.941239  0.199886  0.000000   4.0     0.004   \n",
       "4   0.003990  0.002142 -67.1256  0.003990  0.002142 -0.458888   5.0     0.004   \n",
       "\n",
       "   run_ref  param_val  sx  sy  sz  sxy  sxz  syz  elem  \n",
       "0        0        0.0 NaN NaN NaN  NaN  NaN  NaN   NaN  \n",
       "1        0        0.0 NaN NaN NaN  NaN  NaN  NaN   NaN  \n",
       "2        0        0.0 NaN NaN NaN  NaN  NaN  NaN   NaN  \n",
       "3        0        0.0 NaN NaN NaN  NaN  NaN  NaN   NaN  \n",
       "4        0        0.0 NaN NaN NaN  NaN  NaN  NaN   NaN  "
      ],
      "text/html": "<div>\n<style scoped>\n    .dataframe tbody tr th:only-of-type {\n        vertical-align: middle;\n    }\n\n    .dataframe tbody tr th {\n        vertical-align: top;\n    }\n\n    .dataframe thead th {\n        text-align: right;\n    }\n</style>\n<table border=\"1\" class=\"dataframe\">\n  <thead>\n    <tr style=\"text-align: right;\">\n      <th></th>\n      <th>x</th>\n      <th>y</th>\n      <th>z</th>\n      <th>ux</th>\n      <th>uy</th>\n      <th>uz</th>\n      <th>node</th>\n      <th>timestep</th>\n      <th>run_ref</th>\n      <th>param_val</th>\n      <th>sx</th>\n      <th>sy</th>\n      <th>sz</th>\n      <th>sxy</th>\n      <th>sxz</th>\n      <th>syz</th>\n      <th>elem</th>\n    </tr>\n  </thead>\n  <tbody>\n    <tr>\n      <th>0</th>\n      <td>0.006057</td>\n      <td>0.002620</td>\n      <td>-65.4601</td>\n      <td>0.006057</td>\n      <td>0.002620</td>\n      <td>-0.460083</td>\n      <td>1.0</td>\n      <td>0.004</td>\n      <td>0</td>\n      <td>0.0</td>\n      <td>NaN</td>\n      <td>NaN</td>\n      <td>NaN</td>\n      <td>NaN</td>\n      <td>NaN</td>\n      <td>NaN</td>\n      <td>NaN</td>\n    </tr>\n    <tr>\n      <th>1</th>\n      <td>-0.004150</td>\n      <td>0.001450</td>\n      <td>-75.4548</td>\n      <td>-0.004150</td>\n      <td>0.001450</td>\n      <td>-0.454839</td>\n      <td>2.0</td>\n      <td>0.004</td>\n      <td>0</td>\n      <td>0.0</td>\n      <td>NaN</td>\n      <td>NaN</td>\n      <td>NaN</td>\n      <td>NaN</td>\n      <td>NaN</td>\n      <td>NaN</td>\n      <td>NaN</td>\n    </tr>\n    <tr>\n      <th>2</th>\n      <td>34.431600</td>\n      <td>-0.089488</td>\n      <td>20.0000</td>\n      <td>0.698981</td>\n      <td>-0.089488</td>\n      <td>0.000000</td>\n      <td>3.0</td>\n      <td>0.004</td>\n      <td>0</td>\n      <td>0.0</td>\n      <td>NaN</td>\n      <td>NaN</td>\n      <td>NaN</td>\n      <td>NaN</td>\n      <td>NaN</td>\n      <td>NaN</td>\n      <td>NaN</td>\n    </tr>\n    <tr>\n      <th>3</th>\n      <td>24.728400</td>\n      <td>0.199886</td>\n      <td>20.0000</td>\n      <td>0.941239</td>\n      <td>0.199886</td>\n      <td>0.000000</td>\n      <td>4.0</td>\n      <td>0.004</td>\n      <td>0</td>\n      <td>0.0</td>\n      <td>NaN</td>\n      <td>NaN</td>\n      <td>NaN</td>\n      <td>NaN</td>\n      <td>NaN</td>\n      <td>NaN</td>\n      <td>NaN</td>\n    </tr>\n    <tr>\n      <th>4</th>\n      <td>0.003990</td>\n      <td>0.002142</td>\n      <td>-67.1256</td>\n      <td>0.003990</td>\n      <td>0.002142</td>\n      <td>-0.458888</td>\n      <td>5.0</td>\n      <td>0.004</td>\n      <td>0</td>\n      <td>0.0</td>\n      <td>NaN</td>\n      <td>NaN</td>\n      <td>NaN</td>\n      <td>NaN</td>\n      <td>NaN</td>\n      <td>NaN</td>\n      <td>NaN</td>\n    </tr>\n  </tbody>\n</table>\n</div>"
     },
     "metadata": {},
     "execution_count": 4
    }
   ],
   "source": [
    "df.head()"
   ]
  },
  {
   "cell_type": "code",
   "execution_count": 5,
   "metadata": {},
   "outputs": [
    {
     "output_type": "stream",
     "name": "stdout",
     "text": [
      "<class 'pandas.core.frame.DataFrame'>\nRangeIndex: 3933038 entries, 0 to 3933037\nData columns (total 17 columns):\n #   Column     Dtype  \n---  ------     -----  \n 0   x          float64\n 1   y          float64\n 2   z          float64\n 3   ux         float64\n 4   uy         float64\n 5   uz         float64\n 6   node       float64\n 7   timestep   float64\n 8   run_ref    int64  \n 9   param_val  float64\n 10  sx         float64\n 11  sy         float64\n 12  sz         float64\n 13  sxy        float64\n 14  sxz        float64\n 15  syz        float64\n 16  elem       float64\ndtypes: float64(16), int64(1)\nmemory usage: 510.1 MB\n"
     ]
    }
   ],
   "source": [
    "df.info(memory_usage='deep')"
   ]
  },
  {
   "cell_type": "code",
   "execution_count": 6,
   "metadata": {},
   "outputs": [],
   "source": [
    "def mem_usage(pandas_obj):\n",
    "    if isinstance(pandas_obj,pd.DataFrame):\n",
    "        usage_b = pandas_obj.memory_usage(deep=True).sum()\n",
    "    else: # we assume if not a df it's a series\n",
    "        usage_b = pandas_obj.memory_usage(deep=True)\n",
    "    usage_mb = usage_b / 1024 ** 2 # convert bytes to megabytes\n",
    "    return \"{:03.2f} MB\".format(usage_mb)"
   ]
  },
  {
   "cell_type": "code",
   "execution_count": 7,
   "metadata": {},
   "outputs": [
    {
     "output_type": "stream",
     "name": "stdout",
     "text": [
      "0.00 MB\n0.00 MB\n"
     ]
    },
    {
     "output_type": "execute_result",
     "data": {
      "text/plain": [
       "Empty DataFrame\n",
       "Columns: [before, after]\n",
       "Index: []"
      ],
      "text/html": "<div>\n<style scoped>\n    .dataframe tbody tr th:only-of-type {\n        vertical-align: middle;\n    }\n\n    .dataframe tbody tr th {\n        vertical-align: top;\n    }\n\n    .dataframe thead th {\n        text-align: right;\n    }\n</style>\n<table border=\"1\" class=\"dataframe\">\n  <thead>\n    <tr style=\"text-align: right;\">\n      <th></th>\n      <th>before</th>\n      <th>after</th>\n    </tr>\n  </thead>\n  <tbody>\n  </tbody>\n</table>\n</div>"
     },
     "metadata": {},
     "execution_count": 7
    }
   ],
   "source": [
    "df_int = df.select_dtypes(include=['int'])\n",
    "converted_int = df_int.apply(pd.to_numeric,downcast='unsigned')\n",
    "print(mem_usage(df_int))\n",
    "print(mem_usage(converted_int))\n",
    "compare_ints = pd.concat([df_int.dtypes,converted_int.dtypes],axis=1)\n",
    "compare_ints.columns = ['before','after']\n",
    "compare_ints.apply(pd.Series.value_counts)"
   ]
  },
  {
   "cell_type": "code",
   "execution_count": 9,
   "metadata": {},
   "outputs": [
    {
     "output_type": "stream",
     "name": "stdout",
     "text": [
      "480.11 MB\n240.05 MB\n"
     ]
    },
    {
     "output_type": "execute_result",
     "data": {
      "text/plain": [
       "         before  after\n",
       "float32     NaN   16.0\n",
       "float64    16.0    NaN"
      ],
      "text/html": "<div>\n<style scoped>\n    .dataframe tbody tr th:only-of-type {\n        vertical-align: middle;\n    }\n\n    .dataframe tbody tr th {\n        vertical-align: top;\n    }\n\n    .dataframe thead th {\n        text-align: right;\n    }\n</style>\n<table border=\"1\" class=\"dataframe\">\n  <thead>\n    <tr style=\"text-align: right;\">\n      <th></th>\n      <th>before</th>\n      <th>after</th>\n    </tr>\n  </thead>\n  <tbody>\n    <tr>\n      <th>float32</th>\n      <td>NaN</td>\n      <td>16.0</td>\n    </tr>\n    <tr>\n      <th>float64</th>\n      <td>16.0</td>\n      <td>NaN</td>\n    </tr>\n  </tbody>\n</table>\n</div>"
     },
     "metadata": {},
     "execution_count": 9
    }
   ],
   "source": [
    "df_float = df.select_dtypes(include=['float'])\n",
    "converted_float = df_float.apply(pd.to_numeric,downcast='float')\n",
    "print(mem_usage(df_float))\n",
    "print(mem_usage(converted_float))\n",
    "compare_floats = pd.concat([df_float.dtypes,converted_float.dtypes],axis=1)\n",
    "compare_floats.columns = ['before','after']\n",
    "compare_floats.apply(pd.Series.value_counts)"
   ]
  },
  {
   "cell_type": "code",
   "execution_count": 11,
   "metadata": {},
   "outputs": [
    {
     "output_type": "stream",
     "name": "stdout",
     "text": [
      "510.11 MB\n270.06 MB\n"
     ]
    }
   ],
   "source": [
    "optimized_df = df.copy()\n",
    "optimized_df[converted_int.columns] = converted_int\n",
    "optimized_df[converted_float.columns] = converted_float\n",
    "print(mem_usage(df))\n",
    "print(mem_usage(optimized_df))"
   ]
  },
  {
   "cell_type": "code",
   "execution_count": 13,
   "metadata": {},
   "outputs": [
    {
     "output_type": "stream",
     "name": "stdout",
     "text": [
      "<class 'pandas.core.frame.DataFrame'>\nRangeIndex: 3933038 entries, 0 to 3933037\nData columns (total 17 columns):\n #   Column     Dtype  \n---  ------     -----  \n 0   x          float32\n 1   y          float32\n 2   z          float32\n 3   ux         float32\n 4   uy         float32\n 5   uz         float32\n 6   node       float32\n 7   timestep   float32\n 8   run_ref    int64  \n 9   param_val  float32\n 10  sx         float32\n 11  sy         float32\n 12  sz         float32\n 13  sxy        float32\n 14  sxz        float32\n 15  syz        float32\n 16  elem       float32\ndtypes: float32(16), int64(1)\nmemory usage: 270.1 MB\n"
     ]
    }
   ],
   "source": [
    "optimized_df.info(memory_usage='deep')"
   ]
  },
  {
   "cell_type": "code",
   "execution_count": 17,
   "metadata": {},
   "outputs": [],
   "source": [
    "optimized_df.loc[:,\"run_ref\"] = optimized_df[\"run_ref\"].astype('uint8')"
   ]
  },
  {
   "cell_type": "code",
   "execution_count": 18,
   "metadata": {},
   "outputs": [
    {
     "output_type": "stream",
     "name": "stdout",
     "text": [
      "510.11 MB\n243.80 MB\n"
     ]
    }
   ],
   "source": [
    "print(mem_usage(df))\n",
    "print(mem_usage(optimized_df))"
   ]
  },
  {
   "cell_type": "code",
   "execution_count": 44,
   "metadata": {},
   "outputs": [],
   "source": [
    "df_obj = df[[\"elem\", \"node\", \"param_val\"]]\n",
    "\n",
    "converted_obj = pd.DataFrame()\n",
    "for col in df_obj.columns:\n",
    "    num_unique_values = len(df_obj[col].unique())\n",
    "    num_total_values = len(df_obj[col])\n",
    "    if num_unique_values / num_total_values < 0.5:\n",
    "        converted_obj.loc[:,col] = df_obj[col].astype('category')\n",
    "    else:\n",
    "        converted_obj.loc[:,col] = df_obj[col]"
   ]
  },
  {
   "cell_type": "code",
   "execution_count": 45,
   "metadata": {},
   "outputs": [
    {
     "output_type": "stream",
     "name": "stdout",
     "text": [
      "90.02 MB\n30.17 MB\n"
     ]
    },
    {
     "output_type": "execute_result",
     "data": {
      "text/plain": [
       "          before  after\n",
       "float64      3.0    NaN\n",
       "category     NaN    1.0\n",
       "category     NaN    1.0\n",
       "category     NaN    1.0"
      ],
      "text/html": "<div>\n<style scoped>\n    .dataframe tbody tr th:only-of-type {\n        vertical-align: middle;\n    }\n\n    .dataframe tbody tr th {\n        vertical-align: top;\n    }\n\n    .dataframe thead th {\n        text-align: right;\n    }\n</style>\n<table border=\"1\" class=\"dataframe\">\n  <thead>\n    <tr style=\"text-align: right;\">\n      <th></th>\n      <th>before</th>\n      <th>after</th>\n    </tr>\n  </thead>\n  <tbody>\n    <tr>\n      <th>float64</th>\n      <td>3.0</td>\n      <td>NaN</td>\n    </tr>\n    <tr>\n      <th>category</th>\n      <td>NaN</td>\n      <td>1.0</td>\n    </tr>\n    <tr>\n      <th>category</th>\n      <td>NaN</td>\n      <td>1.0</td>\n    </tr>\n    <tr>\n      <th>category</th>\n      <td>NaN</td>\n      <td>1.0</td>\n    </tr>\n  </tbody>\n</table>\n</div>"
     },
     "metadata": {},
     "execution_count": 45
    }
   ],
   "source": [
    "print(mem_usage(df_obj))\n",
    "print(mem_usage(converted_obj))\n",
    "compare_obj = pd.concat([df_obj.dtypes,converted_obj.dtypes],axis=1)\n",
    "compare_obj.columns = ['before','after']\n",
    "compare_obj.apply(pd.Series.value_counts)"
   ]
  },
  {
   "cell_type": "code",
   "execution_count": 46,
   "metadata": {},
   "outputs": [
    {
     "output_type": "stream",
     "name": "stdout",
     "text": [
      "510.11 MB\n228.97 MB\n"
     ]
    }
   ],
   "source": [
    "optimized_df[converted_obj.columns] = converted_obj\n",
    "print(mem_usage(df))\n",
    "print(mem_usage(optimized_df))"
   ]
  },
  {
   "cell_type": "code",
   "execution_count": 42,
   "metadata": {},
   "outputs": [],
   "source": [
    "dtypes = optimized_df.dtypes\n",
    "dtypes_col = dtypes.index\n",
    "dtypes_type = [i.name for i in dtypes.values]\n",
    "column_types = dict(zip(dtypes_col, dtypes_type))\n",
    "\n",
    "\n",
    "# rather than print all 161 items, we'll\n",
    "# sample 10 key/value pairs from the dict\n",
    "# and print it nicely using prettyprint\n",
    "# preview = first2pairs = {key:value for key,value in list(column_types.items())[:10]}\n",
    "# import pprintpp\n",
    "# pp = pp = pprint.PrettyPrinter(indent=4)\n",
    "# pp.pprint(preview)"
   ]
  },
  {
   "cell_type": "code",
   "execution_count": 43,
   "metadata": {},
   "outputs": [
    {
     "output_type": "execute_result",
     "data": {
      "text/plain": [
       "{'x': 'float32',\n",
       " 'y': 'float32',\n",
       " 'z': 'float32',\n",
       " 'ux': 'float32',\n",
       " 'uy': 'float32',\n",
       " 'uz': 'float32',\n",
       " 'node': 'category',\n",
       " 'timestep': 'float32',\n",
       " 'run_ref': 'uint8',\n",
       " 'param_val': 'float32',\n",
       " 'sx': 'float32',\n",
       " 'sy': 'float32',\n",
       " 'sz': 'float32',\n",
       " 'sxy': 'float32',\n",
       " 'sxz': 'float32',\n",
       " 'syz': 'float32',\n",
       " 'elem': 'category'}"
      ]
     },
     "metadata": {},
     "execution_count": 43
    }
   ],
   "source": [
    "column_types"
   ]
  },
  {
   "cell_type": "code",
   "execution_count": 47,
   "metadata": {},
   "outputs": [
    {
     "output_type": "execute_result",
     "data": {
      "text/plain": [
       "                 x         y          z        ux        uy        uz node  \\\n",
       "0         0.006057  0.002620 -65.460098  0.006057  0.002620 -0.460083  1.0   \n",
       "1        -0.004150  0.001450 -75.454803 -0.004150  0.001450 -0.454839  2.0   \n",
       "2        34.431599 -0.089488  20.000000  0.698981 -0.089488  0.000000  3.0   \n",
       "3        24.728399  0.199886  20.000000  0.941239  0.199886  0.000000  4.0   \n",
       "4         0.003990  0.002142 -67.125603  0.003990  0.002142 -0.458888  5.0   \n",
       "...            ...       ...        ...       ...       ...       ...  ...   \n",
       "3933033        NaN       NaN        NaN       NaN       NaN       NaN  NaN   \n",
       "3933034        NaN       NaN        NaN       NaN       NaN       NaN  NaN   \n",
       "3933035        NaN       NaN        NaN       NaN       NaN       NaN  NaN   \n",
       "3933036        NaN       NaN        NaN       NaN       NaN       NaN  NaN   \n",
       "3933037        NaN       NaN        NaN       NaN       NaN       NaN  NaN   \n",
       "\n",
       "         timestep  run_ref param_val        sx        sy        sz      sxy  \\\n",
       "0           0.004        0       0.0       NaN       NaN       NaN      NaN   \n",
       "1           0.004        0       0.0       NaN       NaN       NaN      NaN   \n",
       "2           0.004        0       0.0       NaN       NaN       NaN      NaN   \n",
       "3           0.004        0       0.0       NaN       NaN       NaN      NaN   \n",
       "4           0.004        0       0.0       NaN       NaN       NaN      NaN   \n",
       "...           ...      ...       ...       ...       ...       ...      ...   \n",
       "3933033     0.190        0       0.0  2.263010   7.46183   9.53921  5.20193   \n",
       "3933034     0.190        0       0.0  2.009360   9.16172  10.36140  4.14563   \n",
       "3933035     0.190        0       0.0  0.420362   9.75423   9.58764  3.54162   \n",
       "3933036     0.190        0       0.0 -0.216978  10.47010   9.35995  2.43152   \n",
       "3933037     0.190        0       0.0  0.106113  10.50340  10.19680  0.93146   \n",
       "\n",
       "              sxz       syz     elem  \n",
       "0             NaN       NaN      NaN  \n",
       "1             NaN       NaN      NaN  \n",
       "2             NaN       NaN      NaN  \n",
       "3             NaN       NaN      NaN  \n",
       "4             NaN       NaN      NaN  \n",
       "...           ...       ...      ...  \n",
       "3933033 -0.698568 -0.926148  18812.0  \n",
       "3933034 -0.323419 -0.569763  18813.0  \n",
       "3933035 -0.575045 -1.136300  18814.0  \n",
       "3933036 -0.652445 -1.947120  18815.0  \n",
       "3933037 -0.085438 -0.580077  18816.0  \n",
       "\n",
       "[3933038 rows x 17 columns]"
      ],
      "text/html": "<div>\n<style scoped>\n    .dataframe tbody tr th:only-of-type {\n        vertical-align: middle;\n    }\n\n    .dataframe tbody tr th {\n        vertical-align: top;\n    }\n\n    .dataframe thead th {\n        text-align: right;\n    }\n</style>\n<table border=\"1\" class=\"dataframe\">\n  <thead>\n    <tr style=\"text-align: right;\">\n      <th></th>\n      <th>x</th>\n      <th>y</th>\n      <th>z</th>\n      <th>ux</th>\n      <th>uy</th>\n      <th>uz</th>\n      <th>node</th>\n      <th>timestep</th>\n      <th>run_ref</th>\n      <th>param_val</th>\n      <th>sx</th>\n      <th>sy</th>\n      <th>sz</th>\n      <th>sxy</th>\n      <th>sxz</th>\n      <th>syz</th>\n      <th>elem</th>\n    </tr>\n  </thead>\n  <tbody>\n    <tr>\n      <th>0</th>\n      <td>0.006057</td>\n      <td>0.002620</td>\n      <td>-65.460098</td>\n      <td>0.006057</td>\n      <td>0.002620</td>\n      <td>-0.460083</td>\n      <td>1.0</td>\n      <td>0.004</td>\n      <td>0</td>\n      <td>0.0</td>\n      <td>NaN</td>\n      <td>NaN</td>\n      <td>NaN</td>\n      <td>NaN</td>\n      <td>NaN</td>\n      <td>NaN</td>\n      <td>NaN</td>\n    </tr>\n    <tr>\n      <th>1</th>\n      <td>-0.004150</td>\n      <td>0.001450</td>\n      <td>-75.454803</td>\n      <td>-0.004150</td>\n      <td>0.001450</td>\n      <td>-0.454839</td>\n      <td>2.0</td>\n      <td>0.004</td>\n      <td>0</td>\n      <td>0.0</td>\n      <td>NaN</td>\n      <td>NaN</td>\n      <td>NaN</td>\n      <td>NaN</td>\n      <td>NaN</td>\n      <td>NaN</td>\n      <td>NaN</td>\n    </tr>\n    <tr>\n      <th>2</th>\n      <td>34.431599</td>\n      <td>-0.089488</td>\n      <td>20.000000</td>\n      <td>0.698981</td>\n      <td>-0.089488</td>\n      <td>0.000000</td>\n      <td>3.0</td>\n      <td>0.004</td>\n      <td>0</td>\n      <td>0.0</td>\n      <td>NaN</td>\n      <td>NaN</td>\n      <td>NaN</td>\n      <td>NaN</td>\n      <td>NaN</td>\n      <td>NaN</td>\n      <td>NaN</td>\n    </tr>\n    <tr>\n      <th>3</th>\n      <td>24.728399</td>\n      <td>0.199886</td>\n      <td>20.000000</td>\n      <td>0.941239</td>\n      <td>0.199886</td>\n      <td>0.000000</td>\n      <td>4.0</td>\n      <td>0.004</td>\n      <td>0</td>\n      <td>0.0</td>\n      <td>NaN</td>\n      <td>NaN</td>\n      <td>NaN</td>\n      <td>NaN</td>\n      <td>NaN</td>\n      <td>NaN</td>\n      <td>NaN</td>\n    </tr>\n    <tr>\n      <th>4</th>\n      <td>0.003990</td>\n      <td>0.002142</td>\n      <td>-67.125603</td>\n      <td>0.003990</td>\n      <td>0.002142</td>\n      <td>-0.458888</td>\n      <td>5.0</td>\n      <td>0.004</td>\n      <td>0</td>\n      <td>0.0</td>\n      <td>NaN</td>\n      <td>NaN</td>\n      <td>NaN</td>\n      <td>NaN</td>\n      <td>NaN</td>\n      <td>NaN</td>\n      <td>NaN</td>\n    </tr>\n    <tr>\n      <th>...</th>\n      <td>...</td>\n      <td>...</td>\n      <td>...</td>\n      <td>...</td>\n      <td>...</td>\n      <td>...</td>\n      <td>...</td>\n      <td>...</td>\n      <td>...</td>\n      <td>...</td>\n      <td>...</td>\n      <td>...</td>\n      <td>...</td>\n      <td>...</td>\n      <td>...</td>\n      <td>...</td>\n      <td>...</td>\n    </tr>\n    <tr>\n      <th>3933033</th>\n      <td>NaN</td>\n      <td>NaN</td>\n      <td>NaN</td>\n      <td>NaN</td>\n      <td>NaN</td>\n      <td>NaN</td>\n      <td>NaN</td>\n      <td>0.190</td>\n      <td>0</td>\n      <td>0.0</td>\n      <td>2.263010</td>\n      <td>7.46183</td>\n      <td>9.53921</td>\n      <td>5.20193</td>\n      <td>-0.698568</td>\n      <td>-0.926148</td>\n      <td>18812.0</td>\n    </tr>\n    <tr>\n      <th>3933034</th>\n      <td>NaN</td>\n      <td>NaN</td>\n      <td>NaN</td>\n      <td>NaN</td>\n      <td>NaN</td>\n      <td>NaN</td>\n      <td>NaN</td>\n      <td>0.190</td>\n      <td>0</td>\n      <td>0.0</td>\n      <td>2.009360</td>\n      <td>9.16172</td>\n      <td>10.36140</td>\n      <td>4.14563</td>\n      <td>-0.323419</td>\n      <td>-0.569763</td>\n      <td>18813.0</td>\n    </tr>\n    <tr>\n      <th>3933035</th>\n      <td>NaN</td>\n      <td>NaN</td>\n      <td>NaN</td>\n      <td>NaN</td>\n      <td>NaN</td>\n      <td>NaN</td>\n      <td>NaN</td>\n      <td>0.190</td>\n      <td>0</td>\n      <td>0.0</td>\n      <td>0.420362</td>\n      <td>9.75423</td>\n      <td>9.58764</td>\n      <td>3.54162</td>\n      <td>-0.575045</td>\n      <td>-1.136300</td>\n      <td>18814.0</td>\n    </tr>\n    <tr>\n      <th>3933036</th>\n      <td>NaN</td>\n      <td>NaN</td>\n      <td>NaN</td>\n      <td>NaN</td>\n      <td>NaN</td>\n      <td>NaN</td>\n      <td>NaN</td>\n      <td>0.190</td>\n      <td>0</td>\n      <td>0.0</td>\n      <td>-0.216978</td>\n      <td>10.47010</td>\n      <td>9.35995</td>\n      <td>2.43152</td>\n      <td>-0.652445</td>\n      <td>-1.947120</td>\n      <td>18815.0</td>\n    </tr>\n    <tr>\n      <th>3933037</th>\n      <td>NaN</td>\n      <td>NaN</td>\n      <td>NaN</td>\n      <td>NaN</td>\n      <td>NaN</td>\n      <td>NaN</td>\n      <td>NaN</td>\n      <td>0.190</td>\n      <td>0</td>\n      <td>0.0</td>\n      <td>0.106113</td>\n      <td>10.50340</td>\n      <td>10.19680</td>\n      <td>0.93146</td>\n      <td>-0.085438</td>\n      <td>-0.580077</td>\n      <td>18816.0</td>\n    </tr>\n  </tbody>\n</table>\n<p>3933038 rows × 17 columns</p>\n</div>"
     },
     "metadata": {},
     "execution_count": 47
    }
   ],
   "source": [
    "optimized_df"
   ]
  },
  {
   "cell_type": "code",
   "execution_count": 48,
   "metadata": {},
   "outputs": [
    {
     "output_type": "execute_result",
     "data": {
      "text/plain": [
       "count     3933038.0\n",
       "unique          1.0\n",
       "top             0.0\n",
       "freq      3933038.0\n",
       "Name: param_val, dtype: float64"
      ]
     },
     "metadata": {},
     "execution_count": 48
    }
   ],
   "source": [
    "optimized_df[\"param_val\"].describe()"
   ]
  },
  {
   "cell_type": "code",
   "execution_count": 52,
   "metadata": {},
   "outputs": [
    {
     "output_type": "stream",
     "name": "stdout",
     "text": [
      "510.11 MB\n525.12 MB\n"
     ]
    }
   ],
   "source": [
    "optimized_df2 = df.convert_dtypes()\n",
    "print(mem_usage(df))\n",
    "print(mem_usage(optimized_df2))"
   ]
  },
  {
   "cell_type": "code",
   "execution_count": null,
   "metadata": {},
   "outputs": [],
   "source": []
  }
 ]
}