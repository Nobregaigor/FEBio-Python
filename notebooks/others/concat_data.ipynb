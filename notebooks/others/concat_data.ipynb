{
 "cells": [
  {
   "cell_type": "code",
   "execution_count": 1,
   "metadata": {},
   "outputs": [],
   "source": [
    "from os import listdir\n",
    "from os.path import isfile, join, isdir\n",
    "import sys, getopt\n",
    "import subprocess\n",
    "\n",
    "import pandas as pd\n"
   ]
  },
  {
   "cell_type": "code",
   "execution_count": 2,
   "metadata": {},
   "outputs": [],
   "source": [
    "PATH_TO_STUDY_FOLDER = 'C:\\\\Users\\\\igorp\\\\University of South Florida\\\\Mao, Wenbin - Myocardium (organized)\\\\Active\\\\Guccione_oneElem_study\\\\study2'\n",
    "PATH_TO_PARAMS_FILE = PATH_TO_STUDY_FOLDER + \"\\\\\" + 'modified_param_log.csv'\n",
    "PATH_TO_OUTPUT_FILE = 'C:\\\\Users\\\\igorp\\\\University of South Florida\\\\Mao, Wenbin - Myocardium (organized)\\\\Active\\\\Guccione_oneElem_study\\\\pickleData\\\\data.pickle'"
   ]
  },
  {
   "cell_type": "code",
   "execution_count": 3,
   "metadata": {
    "tags": []
   },
   "outputs": [
    {
     "output_type": "stream",
     "name": "stdout",
     "text": "-- Getting files\nNumber of files found: 7\n"
    }
   ],
   "source": [
    "def find_files(path_to_folder, condition=None):\n",
    "\tif (condition):\n",
    "\t\tif (condition[0] == \"fileFormat\"):\n",
    "\t\t\t_l = len(condition[1])\n",
    "\t\t\treturn [(join(path_to_folder,f), f,f[:-_l - 1]) for f in listdir(path_to_folder) if isfile(join(path_to_folder, f)) and f[-_l:] == condition[1]]\n",
    "\t\telse:\n",
    "\t\t\traise(ValueError(\"Condition should be a tuple where the first argument is the condition name and the second is its value\"))\n",
    "\telse:\n",
    "\t\treturn [(join(path_to_folder,f), f, f.rsplit(\".\")[0]) for f in listdir(path_to_folder) if isfile(join(path_to_folder, f))]\n",
    "\n",
    "print(\"-- Getting files\")\n",
    "files = find_files(PATH_TO_STUDY_FOLDER, (\"fileFormat\",\"pickle\"))\n",
    "print(\"Number of files found:\", len(files))"
   ]
  },
  {
   "cell_type": "code",
   "execution_count": 4,
   "metadata": {
    "tags": []
   },
   "outputs": [
    {
     "output_type": "stream",
     "name": "stdout",
     "text": "-- Compiling data\n"
    }
   ],
   "source": [
    "def compile_data(files):\n",
    "  frames = []\n",
    "  for i, (fp, ff, fn) in enumerate(files):\n",
    "    ndf = pd.read_pickle(fp)\n",
    "    frames.append(ndf)\n",
    "\n",
    "  df = pd.concat(frames, ignore_index=True)\n",
    "  return df\n",
    "\n",
    "print(\"-- Compiling data\")\n",
    "df = compile_data(files)"
   ]
  },
  {
   "cell_type": "code",
   "execution_count": 5,
   "metadata": {
    "tags": []
   },
   "outputs": [
    {
     "output_type": "stream",
     "name": "stdout",
     "text": "a       1.000000e+00\nb       1.000000e+00\ntime    1.000000e-03\nfail    0.000000e+00\nx_1    -5.000000e-01\ny_1    -5.000000e-01\nz_1     0.000000e+00\nx_2    -5.000000e-01\ny_2    -5.000000e-01\nz_2     1.000160e+00\nx_3    -5.000000e-01\ny_3     5.000120e-01\nz_3     0.000000e+00\nx_4    -5.000000e-01\ny_4     5.000120e-01\nz_4     1.000160e+00\nx_5     4.998300e-01\ny_5    -5.000000e-01\nz_5     0.000000e+00\nx_6     4.998300e-01\ny_6    -5.000000e-01\nz_6     1.000160e+00\nx_7     4.998300e-01\ny_7     5.000120e-01\nz_7     0.000000e+00\nx_8     4.998300e-01\ny_8     5.000120e-01\nz_8     1.000160e+00\nux_1    0.000000e+00\nuy_1    0.000000e+00\nuz_1    0.000000e+00\nux_2    0.000000e+00\nuy_2    0.000000e+00\nuz_2    1.575250e-04\nux_3    0.000000e+00\nuy_3    1.243420e-05\nuz_3    0.000000e+00\nux_4    0.000000e+00\nuy_4    1.243420e-05\nuz_4    1.575250e-04\nux_5   -1.699330e-04\nuy_5    0.000000e+00\nuz_5    0.000000e+00\nux_6   -1.699330e-04\nuy_6    0.000000e+00\nuz_6    1.575250e-04\nux_7   -1.699330e-04\nuy_7    1.243420e-05\nuz_7    0.000000e+00\nux_8   -1.699330e-04\nuy_8    1.243420e-05\nuz_8    1.575250e-04\nsx      2.265380e-05\nsy     -1.657970e-06\nsz     -2.100680e-05\nsxy     7.331860e-17\nsxz    -5.359270e-17\nsyz    -5.573070e-17\nName: 0, dtype: float64\n"
    }
   ],
   "source": [
    "print(df.loc[0,:])"
   ]
  },
  {
   "cell_type": "code",
   "execution_count": 6,
   "metadata": {},
   "outputs": [
    {
     "output_type": "execute_result",
     "data": {
      "text/plain": "              a         b      time  fail  x_1  y_1  z_1  x_2  y_2      z_2  \\\n68035  3.647059  5.764706  0.185130   0.0 -0.5 -0.5  0.0 -0.5 -0.5  1.06815   \n68036  3.647059  5.764706  0.189527   0.0 -0.5 -0.5  0.0 -0.5 -0.5  1.06928   \n68037  3.647059  5.764706  0.194227   0.0 -0.5 -0.5  0.0 -0.5 -0.5  1.07051   \n68038  3.647059  5.764706  0.198927   0.0 -0.5 -0.5  0.0 -0.5 -0.5  1.07169   \n68039  3.647059  5.764706  0.200000   0.0 -0.5 -0.5  0.0 -0.5 -0.5  1.07203   \n\n       ...  uz_7      ux_8      uy_8      uz_8        sx        sy        sz  \\\n68035  ...   0.0 -0.068955  0.005536  0.068148  0.000439  0.000489  0.000470   \n68036  ...   0.0 -0.070048  0.005650  0.069283 -0.000505 -0.000562 -0.000539   \n68037  ...   0.0 -0.071239  0.005781  0.070515  0.000396  0.000442  0.000426   \n68038  ...   0.0 -0.072368  0.005902  0.071689 -0.000482 -0.000538 -0.000517   \n68039  ...   0.0 -0.072705  0.005948  0.072028  0.003130  0.003482  0.003347   \n\n                sxy           sxz           syz  \n68035  3.124450e-12 -1.012750e-12  1.013210e-12  \n68036 -3.084330e-12  1.004490e-12 -1.002950e-12  \n68037  2.960620e-12 -9.688910e-13  9.655970e-13  \n68038 -2.903580e-12  9.549440e-13 -9.497070e-13  \n68039  1.191220e-11 -3.980790e-12  3.952490e-12  \n\n[5 rows x 58 columns]",
      "text/html": "<div>\n<style scoped>\n    .dataframe tbody tr th:only-of-type {\n        vertical-align: middle;\n    }\n\n    .dataframe tbody tr th {\n        vertical-align: top;\n    }\n\n    .dataframe thead th {\n        text-align: right;\n    }\n</style>\n<table border=\"1\" class=\"dataframe\">\n  <thead>\n    <tr style=\"text-align: right;\">\n      <th></th>\n      <th>a</th>\n      <th>b</th>\n      <th>time</th>\n      <th>fail</th>\n      <th>x_1</th>\n      <th>y_1</th>\n      <th>z_1</th>\n      <th>x_2</th>\n      <th>y_2</th>\n      <th>z_2</th>\n      <th>...</th>\n      <th>uz_7</th>\n      <th>ux_8</th>\n      <th>uy_8</th>\n      <th>uz_8</th>\n      <th>sx</th>\n      <th>sy</th>\n      <th>sz</th>\n      <th>sxy</th>\n      <th>sxz</th>\n      <th>syz</th>\n    </tr>\n  </thead>\n  <tbody>\n    <tr>\n      <th>68035</th>\n      <td>3.647059</td>\n      <td>5.764706</td>\n      <td>0.185130</td>\n      <td>0.0</td>\n      <td>-0.5</td>\n      <td>-0.5</td>\n      <td>0.0</td>\n      <td>-0.5</td>\n      <td>-0.5</td>\n      <td>1.06815</td>\n      <td>...</td>\n      <td>0.0</td>\n      <td>-0.068955</td>\n      <td>0.005536</td>\n      <td>0.068148</td>\n      <td>0.000439</td>\n      <td>0.000489</td>\n      <td>0.000470</td>\n      <td>3.124450e-12</td>\n      <td>-1.012750e-12</td>\n      <td>1.013210e-12</td>\n    </tr>\n    <tr>\n      <th>68036</th>\n      <td>3.647059</td>\n      <td>5.764706</td>\n      <td>0.189527</td>\n      <td>0.0</td>\n      <td>-0.5</td>\n      <td>-0.5</td>\n      <td>0.0</td>\n      <td>-0.5</td>\n      <td>-0.5</td>\n      <td>1.06928</td>\n      <td>...</td>\n      <td>0.0</td>\n      <td>-0.070048</td>\n      <td>0.005650</td>\n      <td>0.069283</td>\n      <td>-0.000505</td>\n      <td>-0.000562</td>\n      <td>-0.000539</td>\n      <td>-3.084330e-12</td>\n      <td>1.004490e-12</td>\n      <td>-1.002950e-12</td>\n    </tr>\n    <tr>\n      <th>68037</th>\n      <td>3.647059</td>\n      <td>5.764706</td>\n      <td>0.194227</td>\n      <td>0.0</td>\n      <td>-0.5</td>\n      <td>-0.5</td>\n      <td>0.0</td>\n      <td>-0.5</td>\n      <td>-0.5</td>\n      <td>1.07051</td>\n      <td>...</td>\n      <td>0.0</td>\n      <td>-0.071239</td>\n      <td>0.005781</td>\n      <td>0.070515</td>\n      <td>0.000396</td>\n      <td>0.000442</td>\n      <td>0.000426</td>\n      <td>2.960620e-12</td>\n      <td>-9.688910e-13</td>\n      <td>9.655970e-13</td>\n    </tr>\n    <tr>\n      <th>68038</th>\n      <td>3.647059</td>\n      <td>5.764706</td>\n      <td>0.198927</td>\n      <td>0.0</td>\n      <td>-0.5</td>\n      <td>-0.5</td>\n      <td>0.0</td>\n      <td>-0.5</td>\n      <td>-0.5</td>\n      <td>1.07169</td>\n      <td>...</td>\n      <td>0.0</td>\n      <td>-0.072368</td>\n      <td>0.005902</td>\n      <td>0.071689</td>\n      <td>-0.000482</td>\n      <td>-0.000538</td>\n      <td>-0.000517</td>\n      <td>-2.903580e-12</td>\n      <td>9.549440e-13</td>\n      <td>-9.497070e-13</td>\n    </tr>\n    <tr>\n      <th>68039</th>\n      <td>3.647059</td>\n      <td>5.764706</td>\n      <td>0.200000</td>\n      <td>0.0</td>\n      <td>-0.5</td>\n      <td>-0.5</td>\n      <td>0.0</td>\n      <td>-0.5</td>\n      <td>-0.5</td>\n      <td>1.07203</td>\n      <td>...</td>\n      <td>0.0</td>\n      <td>-0.072705</td>\n      <td>0.005948</td>\n      <td>0.072028</td>\n      <td>0.003130</td>\n      <td>0.003482</td>\n      <td>0.003347</td>\n      <td>1.191220e-11</td>\n      <td>-3.980790e-12</td>\n      <td>3.952490e-12</td>\n    </tr>\n  </tbody>\n</table>\n<p>5 rows × 58 columns</p>\n</div>"
     },
     "metadata": {},
     "execution_count": 6
    }
   ],
   "source": [
    "df.tail()"
   ]
  },
  {
   "cell_type": "code",
   "execution_count": 7,
   "metadata": {
    "tags": []
   },
   "outputs": [
    {
     "output_type": "stream",
     "name": "stdout",
     "text": "-- Checking for missing parameters\n No parameters are missing\n"
    }
   ],
   "source": [
    "print(\"-- Checking for missing parameters\")\n",
    "import csv\n",
    "\n",
    "def load_params_vals(file):\n",
    "\tparams = {}\n",
    "\tparams_2 = set()\n",
    "\twith open(file, 'r',newline='') as csvfile:\n",
    "\t\tspamreader = csv.reader(csvfile, delimiter=',', quotechar='|')\n",
    "\t\tfor i, row in enumerate(spamreader):\n",
    "\t\t\tparams[i] = [float(v) for v in row[-1].split(\";\")]\n",
    "\t\t\tparams_2.add(tuple(params[i]))\n",
    "\treturn params, params_2\n",
    "\n",
    "\n",
    "params, params_2 = load_params_vals(PATH_TO_PARAMS_FILE)\n",
    "\n",
    "has_failed = False\n",
    "for index, row in df.iterrows():\n",
    "\ta = row['a']\n",
    "\tb = row['b']\n",
    "\tif (a, b) not in params_2:\n",
    "\t\thas_failed = True\n",
    "\t\tprint(\"fail at\", [a, b])\n",
    "\n",
    "assert has_failed == False\n",
    "\n",
    "print(\" No parameters are missing\")\n"
   ]
  },
  {
   "cell_type": "code",
   "execution_count": 8,
   "metadata": {
    "tags": []
   },
   "outputs": [
    {
     "output_type": "stream",
     "name": "stdout",
     "text": "-- Saving new pickle\n"
    }
   ],
   "source": [
    "print(\"-- Saving new pickle\")\n",
    "df.to_pickle(PATH_TO_OUTPUT_FILE)"
   ]
  },
  {
   "cell_type": "code",
   "execution_count": null,
   "metadata": {},
   "outputs": [],
   "source": []
  }
 ],
 "metadata": {
  "language_info": {
   "codemirror_mode": {
    "name": "ipython",
    "version": 3
   },
   "file_extension": ".py",
   "mimetype": "text/x-python",
   "name": "python",
   "nbconvert_exporter": "python",
   "pygments_lexer": "ipython3",
   "version": "3.8.3-final"
  },
  "orig_nbformat": 2,
  "kernelspec": {
   "name": "python38364bit00c0969f8e19410ca4eb2fb4ece289da",
   "display_name": "Python 3.8.3 64-bit"
  }
 },
 "nbformat": 4,
 "nbformat_minor": 2
}