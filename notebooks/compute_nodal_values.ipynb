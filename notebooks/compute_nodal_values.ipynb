{
 "metadata": {
  "language_info": {
   "codemirror_mode": {
    "name": "ipython",
    "version": 3
   },
   "file_extension": ".py",
   "mimetype": "text/x-python",
   "name": "python",
   "nbconvert_exporter": "python",
   "pygments_lexer": "ipython3",
   "version": "3.8.3-final"
  },
  "orig_nbformat": 2,
  "kernelspec": {
   "name": "python_defaultSpec_1601072913987",
   "display_name": "Python 3.8.3 64-bit ('venv')",
   "metadata": {
    "interpreter": {
     "hash": "4ce963eec525c72576d8dfcde812f8487bbeefd0db94f66638320c10fe71db33"
    }
   }
  }
 },
 "nbformat": 4,
 "nbformat_minor": 2,
 "cells": [
  {
   "source": [
    "# 1 - get node dicts"
   ],
   "cell_type": "markdown",
   "metadata": {}
  },
  {
   "cell_type": "code",
   "execution_count": 1,
   "metadata": {},
   "outputs": [],
   "source": [
    "import sys  \n",
    "from os import path\n",
    "import numpy as np\n",
    "import pandas as pd\n",
    "\n",
    "sys.path.append('../src/')\n"
   ]
  },
  {
   "cell_type": "code",
   "execution_count": 2,
   "metadata": {},
   "outputs": [],
   "source": [
    "from modules.classes import FEBio_xml_parser as FEBIO_PARSER"
   ]
  },
  {
   "source": [
    "#### Using functions from \"get_node_dicts\""
   ],
   "cell_type": "markdown",
   "metadata": {}
  },
  {
   "cell_type": "code",
   "execution_count": 3,
   "metadata": {},
   "outputs": [],
   "source": [
    "def get_nodes_from_elems(elems):\n",
    "    \"\"\"Creates a dictionary with nodes as keys and a list of element numbers for each node.\"\"\"\n",
    "    nodeDict = dict()\n",
    "    for el in elems:\n",
    "        el_num = int(el[0])\n",
    "        el_nods = [int(v) for v in el[1:]]\n",
    "        for node_num in el_nods:\n",
    "            if node_num in nodeDict:\n",
    "                nodeDict[node_num].append(el_num)\n",
    "            else:\n",
    "                nodeDict[node_num] = [el_num]\n",
    "    return nodeDict"
   ]
  },
  {
   "cell_type": "code",
   "execution_count": 4,
   "metadata": {},
   "outputs": [],
   "source": [
    "def get_faceSets(nodeLists):\n",
    "    \"\"\"Returns a list of sets containing node numbers of a given face\"\"\"\n",
    "    to_return = list()\n",
    "    for _list in nodeLists:\n",
    "        to_return.append(set([int(v[0]) for v in _list]))\n",
    "    return to_return"
   ]
  },
  {
   "cell_type": "code",
   "execution_count": 5,
   "metadata": {},
   "outputs": [],
   "source": [
    "def get_face_dict(nodeDict, faceSets):\n",
    "    \"\"\"Returns list with dicts containing the intersections between a nodeDict and a faceSet\"\"\"\n",
    "    to_return = list()\n",
    "    for _faceSet in faceSets:\n",
    "        faceDict = dict()\n",
    "        for node_num in _faceSet:\n",
    "            faceDict[node_num] = nodeDict[node_num]\n",
    "        to_return.append(faceDict)\n",
    "    return to_return"
   ]
  },
  {
   "cell_type": "code",
   "execution_count": 6,
   "metadata": {},
   "outputs": [],
   "source": [
    "file_dir = \"D:/Igor/Research_USF/University of South Florida/Mao, Wenbin - Igor/Febio-Models/Active-Models/PAQ/Myo_test/myo_hex_coarse_8_PAQ\"\n",
    "file_name = \"myo_hex_coarse_8_PAQ.feb\"\n",
    "\n",
    "\n",
    "file_path = path.join(file_dir, file_name)"
   ]
  },
  {
   "cell_type": "code",
   "execution_count": 7,
   "metadata": {
    "tags": []
   },
   "outputs": [
    {
     "output_type": "stream",
     "name": "stdout",
     "text": "Initializing...\n-Parsing.\n-Rooting.\n-Finding tags.\n--Found: Module.\n--Found: Control.\n--Found: Material.\n--Found: Globals.\n--Found: Geometry.\n--Found: Boundary.\n--Found: Loads.\n--Found: LoadData.\n--Found: Output.\n--Found: MeshData.\n"
    }
   ],
   "source": [
    "FBEIO_obj = FEBIO_PARSER.FEBio_xml_parser(file_path)\n",
    "FEBio_nodests = FBEIO_obj.get_geometry_data(what=[(\"NodeSet\", \"Endocardio\", \"node\"), (\"NodeSet\", \"Epicardio\", \"node\"), (\"NodeSet\", \"Top_surface\", \"node\")])\n",
    "\n",
    "nodes = FEBio_nodests[0]\n",
    "elems = FEBio_nodests[1]\n",
    "endoNodeList = FEBio_nodests[2][\"Endocardio\"]\n",
    "epiNodeList = FEBio_nodests[3][\"Epicardio\"]\n",
    "topNodeList = FEBio_nodests[4][\"Top_surface\"]"
   ]
  },
  {
   "cell_type": "code",
   "execution_count": 8,
   "metadata": {},
   "outputs": [],
   "source": [
    "nodeDict = get_nodes_from_elems(elems)\n",
    "faceSets = get_faceSets([endoNodeList, epiNodeList, topNodeList])\n",
    "faceDicts = get_face_dict(nodeDict, faceSets)\n",
    "(endoFace, epiFace, topFace) = faceDicts"
   ]
  },
  {
   "source": [
    "# 2 - Compute nodal values"
   ],
   "cell_type": "markdown",
   "metadata": {}
  },
  {
   "cell_type": "code",
   "execution_count": 9,
   "metadata": {},
   "outputs": [],
   "source": [
    "from os import listdir, makedirs\n",
    "from os.path import isfile, join, isdir\n",
    "\n",
    "def find_files(path_to_folder, condition=None):\n",
    "\tif (condition):\n",
    "\t\tif (condition[0] == \"fileFormat\"):\n",
    "\t\t\t_l = len(condition[1])\n",
    "\t\t\treturn [(join(path_to_folder,f), f,f[:-_l - 1]) for f in listdir(path_to_folder) if isfile(join(path_to_folder, f)) and f[-_l:] == condition[1]]\n",
    "\t\telse:\n",
    "\t\t\traise(ValueError(\"Condition should be a tuple where the first argument is the condition name and the second is its value\"))\n",
    "\telse:\n",
    "\t\treturn [(join(path_to_folder,f), f, f.rsplit(\".\")[0]) for f in listdir(path_to_folder) if isfile(join(path_to_folder, f))]"
   ]
  },
  {
   "source": [
    "### Load dataframes"
   ],
   "cell_type": "markdown",
   "metadata": {}
  },
  {
   "cell_type": "code",
   "execution_count": 10,
   "metadata": {},
   "outputs": [],
   "source": [
    "# import compiled data\n",
    "\n",
    "compiled_dir = \"./compiled_data\"\n",
    "elems_file = \"elems_compiled.pickle\"\n",
    "nodes_file = \"nodes_compiled.pickle\"\n",
    "\n",
    "e_p = join(compiled_dir, elems_file)\n",
    "n_p = join(compiled_dir, nodes_file)\n",
    "\n",
    "elems_df = pd.read_pickle(e_p)\n",
    "nodes_df = pd.read_pickle(n_p)"
   ]
  },
  {
   "source": [
    "### Create a dictionary with the elem number and its data"
   ],
   "cell_type": "markdown",
   "metadata": {}
  },
  {
   "cell_type": "code",
   "execution_count": 11,
   "metadata": {},
   "outputs": [],
   "source": [
    "elem_vec = elems_df.to_dict('records')\n",
    "elem_data_dict = dict()\n",
    "for elem in elem_vec:\n",
    "    elem_data_dict[(elem[\"elem\"],elem[\"time\"])] = elem"
   ]
  },
  {
   "source": [
    "### Calculate nodal data based on average values of neighboring nodes"
   ],
   "cell_type": "markdown",
   "metadata": {}
  },
  {
   "cell_type": "code",
   "execution_count": 12,
   "metadata": {
    "tags": []
   },
   "outputs": [],
   "source": [
    "elem_data_labels = [\"sx\", \"sy\", \"sz\", \"sxy\", \"sxz\", \"syz\"]\n",
    "\n",
    "# vectorize nodes_df\n",
    "nodes_vec = nodes_df.to_dict('records')\n",
    "\n",
    "# loop through nodes and add nodal data based on elemen value\n",
    "for node in nodes_vec:\n",
    "    # get node number and timestep\n",
    "    node_num = node[\"node\"]\n",
    "    time_step = node[\"time\"]\n",
    "\n",
    "    # get elems that are connected to given node\n",
    "    elems_c_node = nodeDict[int(node_num)]\n",
    "\n",
    "    # get elem_data\n",
    "    elem_data = np.zeros((1,len(elem_data_labels)))\n",
    "    for elem_num in elems_c_node:\n",
    "        elem_vals = elem_data_dict[(elem_num, time_step)]\n",
    "        elem_data += np.array([elem_vals[v] for v in elem_data_labels])\n",
    "    elem_data = elem_data / len(elems_c_node)\n",
    "\n",
    "    # add nodal data\n",
    "    for i, el_label in enumerate(elem_data_labels):\n",
    "        node[el_label] = elem_data[0][i]"
   ]
  },
  {
   "source": [
    "### Recreate nodal dataframe with additional data"
   ],
   "cell_type": "markdown",
   "metadata": {}
  },
  {
   "cell_type": "code",
   "execution_count": 13,
   "metadata": {},
   "outputs": [],
   "source": [
    "new_nodes_df = pd.DataFrame.from_records(nodes_vec)\n"
   ]
  },
  {
   "cell_type": "code",
   "execution_count": 14,
   "metadata": {},
   "outputs": [
    {
     "output_type": "execute_result",
     "data": {
      "text/plain": "        time     node             x             y        z        ux  \\\n0      0.004      1.0  7.532080e-04  3.288430e-03 -63.3090  0.000753   \n1      0.004      2.0  2.143130e-15 -5.249160e-31 -74.7245  0.000000   \n2      0.004      3.0  3.170800e+01 -3.688090e+00  20.0000 -2.024590   \n3      0.004      4.0  2.160600e+01  1.375530e+00  20.0000 -2.181190   \n4      0.004      5.0  3.856660e-03  1.302220e-03 -65.0116  0.003857   \n...      ...      ...           ...           ...      ...       ...   \n45013  0.200  22505.0  2.452680e+01 -2.234780e+01  17.6554 -1.966900   \n45014  0.200  22506.0  2.713600e+01 -1.909560e+01  17.6514 -1.561350   \n45015  0.200  22507.0  2.931470e+01 -1.554540e+01  17.6564 -1.133710   \n45016  0.200  22508.0  3.102770e+01 -1.174320e+01  17.6467 -0.691526   \n45017  0.200  22509.0  3.225850e+01 -7.764780e+00  17.6470 -0.231302   \n\n             uy        uz              fileName        sx         sy  \\\n0      0.003288  1.691010  myo_hex_coarse_8_PAQ -4.479295  -4.487203   \n1      0.000000  0.275538  myo_hex_coarse_8_PAQ -2.541123  -2.536295   \n2     -3.688090  0.000000  myo_hex_coarse_8_PAQ  0.153580   0.851263   \n3      1.375530  0.000000  myo_hex_coarse_8_PAQ  0.040380  -0.045753   \n4      0.001302  1.238390  myo_hex_coarse_8_PAQ -3.805604  -3.815178   \n...         ...       ...                   ...       ...        ...   \n45013 -3.099000 -0.211331  myo_hex_coarse_8_PAQ  2.113051  12.271661   \n45014 -3.319080 -0.215368  myo_hex_coarse_8_PAQ  0.670111  14.139651   \n45015 -3.490040 -0.210332  myo_hex_coarse_8_PAQ -0.525584  15.509006   \n45016 -3.599090 -0.220055  myo_hex_coarse_8_PAQ -1.041410  15.984050   \n45017 -3.660360 -0.219748  myo_hex_coarse_8_PAQ -1.103257  16.009662   \n\n              sz       sxy       sxz        syz  \n0      -2.370364 -0.006004 -0.003095   0.000133  \n1      -4.239592  0.103267 -0.007552   0.007496  \n2       2.911360 -0.343081 -0.064210   0.710516  \n3       0.939052 -0.198804 -0.016145  -0.297368  \n4      -2.588628 -0.004874 -0.000586   0.000595  \n...          ...       ...       ...        ...  \n45013  27.291750  6.378113  6.002079   8.097112  \n45014  28.194638  5.083924  5.206872   9.393216  \n45015  28.673550  3.308281  4.059597  10.181537  \n45016  28.272125  1.234811  2.649293  10.408104  \n45017  27.885375 -0.889433  1.261111  10.585326  \n\n[45018 rows x 15 columns]",
      "text/html": "<div>\n<style scoped>\n    .dataframe tbody tr th:only-of-type {\n        vertical-align: middle;\n    }\n\n    .dataframe tbody tr th {\n        vertical-align: top;\n    }\n\n    .dataframe thead th {\n        text-align: right;\n    }\n</style>\n<table border=\"1\" class=\"dataframe\">\n  <thead>\n    <tr style=\"text-align: right;\">\n      <th></th>\n      <th>time</th>\n      <th>node</th>\n      <th>x</th>\n      <th>y</th>\n      <th>z</th>\n      <th>ux</th>\n      <th>uy</th>\n      <th>uz</th>\n      <th>fileName</th>\n      <th>sx</th>\n      <th>sy</th>\n      <th>sz</th>\n      <th>sxy</th>\n      <th>sxz</th>\n      <th>syz</th>\n    </tr>\n  </thead>\n  <tbody>\n    <tr>\n      <th>0</th>\n      <td>0.004</td>\n      <td>1.0</td>\n      <td>7.532080e-04</td>\n      <td>3.288430e-03</td>\n      <td>-63.3090</td>\n      <td>0.000753</td>\n      <td>0.003288</td>\n      <td>1.691010</td>\n      <td>myo_hex_coarse_8_PAQ</td>\n      <td>-4.479295</td>\n      <td>-4.487203</td>\n      <td>-2.370364</td>\n      <td>-0.006004</td>\n      <td>-0.003095</td>\n      <td>0.000133</td>\n    </tr>\n    <tr>\n      <th>1</th>\n      <td>0.004</td>\n      <td>2.0</td>\n      <td>2.143130e-15</td>\n      <td>-5.249160e-31</td>\n      <td>-74.7245</td>\n      <td>0.000000</td>\n      <td>0.000000</td>\n      <td>0.275538</td>\n      <td>myo_hex_coarse_8_PAQ</td>\n      <td>-2.541123</td>\n      <td>-2.536295</td>\n      <td>-4.239592</td>\n      <td>0.103267</td>\n      <td>-0.007552</td>\n      <td>0.007496</td>\n    </tr>\n    <tr>\n      <th>2</th>\n      <td>0.004</td>\n      <td>3.0</td>\n      <td>3.170800e+01</td>\n      <td>-3.688090e+00</td>\n      <td>20.0000</td>\n      <td>-2.024590</td>\n      <td>-3.688090</td>\n      <td>0.000000</td>\n      <td>myo_hex_coarse_8_PAQ</td>\n      <td>0.153580</td>\n      <td>0.851263</td>\n      <td>2.911360</td>\n      <td>-0.343081</td>\n      <td>-0.064210</td>\n      <td>0.710516</td>\n    </tr>\n    <tr>\n      <th>3</th>\n      <td>0.004</td>\n      <td>4.0</td>\n      <td>2.160600e+01</td>\n      <td>1.375530e+00</td>\n      <td>20.0000</td>\n      <td>-2.181190</td>\n      <td>1.375530</td>\n      <td>0.000000</td>\n      <td>myo_hex_coarse_8_PAQ</td>\n      <td>0.040380</td>\n      <td>-0.045753</td>\n      <td>0.939052</td>\n      <td>-0.198804</td>\n      <td>-0.016145</td>\n      <td>-0.297368</td>\n    </tr>\n    <tr>\n      <th>4</th>\n      <td>0.004</td>\n      <td>5.0</td>\n      <td>3.856660e-03</td>\n      <td>1.302220e-03</td>\n      <td>-65.0116</td>\n      <td>0.003857</td>\n      <td>0.001302</td>\n      <td>1.238390</td>\n      <td>myo_hex_coarse_8_PAQ</td>\n      <td>-3.805604</td>\n      <td>-3.815178</td>\n      <td>-2.588628</td>\n      <td>-0.004874</td>\n      <td>-0.000586</td>\n      <td>0.000595</td>\n    </tr>\n    <tr>\n      <th>...</th>\n      <td>...</td>\n      <td>...</td>\n      <td>...</td>\n      <td>...</td>\n      <td>...</td>\n      <td>...</td>\n      <td>...</td>\n      <td>...</td>\n      <td>...</td>\n      <td>...</td>\n      <td>...</td>\n      <td>...</td>\n      <td>...</td>\n      <td>...</td>\n      <td>...</td>\n    </tr>\n    <tr>\n      <th>45013</th>\n      <td>0.200</td>\n      <td>22505.0</td>\n      <td>2.452680e+01</td>\n      <td>-2.234780e+01</td>\n      <td>17.6554</td>\n      <td>-1.966900</td>\n      <td>-3.099000</td>\n      <td>-0.211331</td>\n      <td>myo_hex_coarse_8_PAQ</td>\n      <td>2.113051</td>\n      <td>12.271661</td>\n      <td>27.291750</td>\n      <td>6.378113</td>\n      <td>6.002079</td>\n      <td>8.097112</td>\n    </tr>\n    <tr>\n      <th>45014</th>\n      <td>0.200</td>\n      <td>22506.0</td>\n      <td>2.713600e+01</td>\n      <td>-1.909560e+01</td>\n      <td>17.6514</td>\n      <td>-1.561350</td>\n      <td>-3.319080</td>\n      <td>-0.215368</td>\n      <td>myo_hex_coarse_8_PAQ</td>\n      <td>0.670111</td>\n      <td>14.139651</td>\n      <td>28.194638</td>\n      <td>5.083924</td>\n      <td>5.206872</td>\n      <td>9.393216</td>\n    </tr>\n    <tr>\n      <th>45015</th>\n      <td>0.200</td>\n      <td>22507.0</td>\n      <td>2.931470e+01</td>\n      <td>-1.554540e+01</td>\n      <td>17.6564</td>\n      <td>-1.133710</td>\n      <td>-3.490040</td>\n      <td>-0.210332</td>\n      <td>myo_hex_coarse_8_PAQ</td>\n      <td>-0.525584</td>\n      <td>15.509006</td>\n      <td>28.673550</td>\n      <td>3.308281</td>\n      <td>4.059597</td>\n      <td>10.181537</td>\n    </tr>\n    <tr>\n      <th>45016</th>\n      <td>0.200</td>\n      <td>22508.0</td>\n      <td>3.102770e+01</td>\n      <td>-1.174320e+01</td>\n      <td>17.6467</td>\n      <td>-0.691526</td>\n      <td>-3.599090</td>\n      <td>-0.220055</td>\n      <td>myo_hex_coarse_8_PAQ</td>\n      <td>-1.041410</td>\n      <td>15.984050</td>\n      <td>28.272125</td>\n      <td>1.234811</td>\n      <td>2.649293</td>\n      <td>10.408104</td>\n    </tr>\n    <tr>\n      <th>45017</th>\n      <td>0.200</td>\n      <td>22509.0</td>\n      <td>3.225850e+01</td>\n      <td>-7.764780e+00</td>\n      <td>17.6470</td>\n      <td>-0.231302</td>\n      <td>-3.660360</td>\n      <td>-0.219748</td>\n      <td>myo_hex_coarse_8_PAQ</td>\n      <td>-1.103257</td>\n      <td>16.009662</td>\n      <td>27.885375</td>\n      <td>-0.889433</td>\n      <td>1.261111</td>\n      <td>10.585326</td>\n    </tr>\n  </tbody>\n</table>\n<p>45018 rows × 15 columns</p>\n</div>"
     },
     "metadata": {},
     "execution_count": 14
    }
   ],
   "source": [
    "new_nodes_df"
   ]
  },
  {
   "cell_type": "code",
   "execution_count": 15,
   "metadata": {},
   "outputs": [],
   "source": [
    "compiled_dir = \"./compiled_data\"\n",
    "new_nodes_file = \"nodes_with_data.pickle\"\n",
    "\n",
    "new_nodes_df.to_pickle(join(compiled_dir, new_nodes_file))"
   ]
  },
  {
   "cell_type": "code",
   "execution_count": null,
   "metadata": {},
   "outputs": [],
   "source": []
  }
 ]
}