{
 "metadata": {
  "language_info": {
   "codemirror_mode": {
    "name": "ipython",
    "version": 3
   },
   "file_extension": ".py",
   "mimetype": "text/x-python",
   "name": "python",
   "nbconvert_exporter": "python",
   "pygments_lexer": "ipython3",
   "version": "3.8.3-final"
  },
  "orig_nbformat": 2,
  "kernelspec": {
   "name": "python_defaultSpec_1601072913987",
   "display_name": "Python 3.8.3 64-bit ('venv')",
   "metadata": {
    "interpreter": {
     "hash": "4ce963eec525c72576d8dfcde812f8487bbeefd0db94f66638320c10fe71db33"
    }
   }
  }
 },
 "nbformat": 4,
 "nbformat_minor": 2,
 "cells": [
  {
   "source": [
    "# 1 - get node dicts"
   ],
   "cell_type": "markdown",
   "metadata": {}
  },
  {
   "cell_type": "code",
   "execution_count": 1,
   "metadata": {},
   "outputs": [],
   "source": [
    "import sys  \n",
    "from os import path\n",
    "import numpy as np\n",
    "import pandas as pd\n",
    "\n",
    "sys.path.append('../src/')\n"
   ]
  },
  {
   "cell_type": "code",
   "execution_count": 2,
   "metadata": {},
   "outputs": [],
   "source": [
    "from modules.classes import FEBio_xml_parser as FEBIO_PARSER"
   ]
  },
  {
   "source": [
    "#### Using functions from \"get_node_dicts\""
   ],
   "cell_type": "markdown",
   "metadata": {}
  },
  {
   "cell_type": "code",
   "execution_count": 3,
   "metadata": {},
   "outputs": [],
   "source": [
    "def get_nodes_from_elems(elems):\n",
    "    \"\"\"Creates a dictionary with nodes as keys and a list of element numbers for each node.\"\"\"\n",
    "    nodeDict = dict()\n",
    "    for el in elems:\n",
    "        el_num = int(el[0])\n",
    "        el_nods = [int(v) for v in el[1:]]\n",
    "        for node_num in el_nods:\n",
    "            if node_num in nodeDict:\n",
    "                nodeDict[node_num].append(el_num)\n",
    "            else:\n",
    "                nodeDict[node_num] = [el_num]\n",
    "    return nodeDict"
   ]
  },
  {
   "cell_type": "code",
   "execution_count": 4,
   "metadata": {},
   "outputs": [],
   "source": [
    "def get_faceSets(nodeLists):\n",
    "    \"\"\"Returns a list of sets containing node numbers of a given face\"\"\"\n",
    "    to_return = list()\n",
    "    for _list in nodeLists:\n",
    "        to_return.append(set([int(v[0]) for v in _list]))\n",
    "    return to_return"
   ]
  },
  {
   "cell_type": "code",
   "execution_count": 5,
   "metadata": {},
   "outputs": [],
   "source": [
    "def get_face_dict(nodeDict, faceSets):\n",
    "    \"\"\"Returns list with dicts containing the intersections between a nodeDict and a faceSet\"\"\"\n",
    "    to_return = list()\n",
    "    for _faceSet in faceSets:\n",
    "        faceDict = dict()\n",
    "        for node_num in _faceSet:\n",
    "            faceDict[node_num] = nodeDict[node_num]\n",
    "        to_return.append(faceDict)\n",
    "    return to_return"
   ]
  },
  {
   "cell_type": "code",
   "execution_count": 6,
   "metadata": {},
   "outputs": [],
   "source": [
    "file_dir = \"D:/Igor/Research_USF/University of South Florida/Mao, Wenbin - Igor/Febio-Models/Active-Models/PAQ/Myo_test/myo_hex_coarse_8_PAQ\"\n",
    "file_name = \"myo_hex_coarse_8_PAQ.feb\"\n",
    "\n",
    "\n",
    "file_path = path.join(file_dir, file_name)"
   ]
  },
  {
   "cell_type": "code",
   "execution_count": 7,
   "metadata": {
    "tags": []
   },
   "outputs": [
    {
     "output_type": "stream",
     "name": "stdout",
     "text": "Initializing...\n-Parsing.\n-Rooting.\n-Finding tags.\n--Found: Module.\n--Found: Control.\n--Found: Material.\n--Found: Globals.\n--Found: Geometry.\n--Found: Boundary.\n--Found: Loads.\n--Found: LoadData.\n--Found: Output.\n--Found: MeshData.\n"
    }
   ],
   "source": [
    "FBEIO_obj = FEBIO_PARSER.FEBio_xml_parser(file_path)\n",
    "FEBio_nodests = FBEIO_obj.get_geometry_data(what=[(\"NodeSet\", \"Endocardio\", \"node\"), (\"NodeSet\", \"Epicardio\", \"node\"), (\"NodeSet\", \"Top_surface\", \"node\")])\n",
    "\n",
    "nodes = FEBio_nodests[0]\n",
    "elems = FEBio_nodests[1]\n",
    "endoNodeList = FEBio_nodests[2][\"Endocardio\"]\n",
    "epiNodeList = FEBio_nodests[3][\"Epicardio\"]\n",
    "topNodeList = FEBio_nodests[4][\"Top_surface\"]"
   ]
  },
  {
   "cell_type": "code",
   "execution_count": 8,
   "metadata": {},
   "outputs": [],
   "source": [
    "nodeDict = get_nodes_from_elems(elems)\n",
    "faceSets = get_faceSets([endoNodeList, epiNodeList, topNodeList])\n",
    "faceDicts = get_face_dict(nodeDict, faceSets)\n",
    "(endoFace, epiFace, topFace) = faceDicts"
   ]
  },
  {
   "source": [
    "# 2 - Open compiled dataframe"
   ],
   "cell_type": "markdown",
   "metadata": {}
  },
  {
   "cell_type": "code",
   "execution_count": 9,
   "metadata": {},
   "outputs": [],
   "source": [
    "from os import listdir, makedirs\n",
    "from os.path import isfile, join, isdir\n",
    "\n",
    "def find_files(path_to_folder, condition=None):\n",
    "\tif (condition):\n",
    "\t\tif (condition[0] == \"fileFormat\"):\n",
    "\t\t\t_l = len(condition[1])\n",
    "\t\t\treturn [(join(path_to_folder,f), f,f[:-_l - 1]) for f in listdir(path_to_folder) if isfile(join(path_to_folder, f)) and f[-_l:] == condition[1]]\n",
    "\t\telse:\n",
    "\t\t\traise(ValueError(\"Condition should be a tuple where the first argument is the condition name and the second is its value\"))\n",
    "\telse:\n",
    "\t\treturn [(join(path_to_folder,f), f, f.rsplit(\".\")[0]) for f in listdir(path_to_folder) if isfile(join(path_to_folder, f))]"
   ]
  },
  {
   "source": [
    "Load dataframes"
   ],
   "cell_type": "markdown",
   "metadata": {}
  },
  {
   "cell_type": "code",
   "execution_count": 10,
   "metadata": {},
   "outputs": [],
   "source": [
    "# import compiled data\n",
    "\n",
    "compiled_dir = \"./compiled_data\"\n",
    "elems_file = \"elems_compiled.pickle\"\n",
    "nodes_file = \"nodes_compiled.pickle\"\n",
    "\n",
    "e_p = join(compiled_dir, elems_file)\n",
    "n_p = join(compiled_dir, nodes_file)\n",
    "\n",
    "elems_df = pd.read_pickle(e_p)\n",
    "nodes_df = pd.read_pickle(n_p)"
   ]
  },
  {
   "source": [
    "Create a dictionary with the elem number and its data"
   ],
   "cell_type": "markdown",
   "metadata": {}
  },
  {
   "cell_type": "code",
   "execution_count": 26,
   "metadata": {},
   "outputs": [],
   "source": [
    "elem_vec = elems_df.to_dict('records')\n",
    "elem_data_dict = dict()\n",
    "for elem in elem_vec:\n",
    "    elem_data_dict[(elem[\"elem\"],elem[\"time\"])] = elem"
   ]
  },
  {
   "source": [
    "Calculate nodal data based on average values of neighboring nodes"
   ],
   "cell_type": "markdown",
   "metadata": {}
  },
  {
   "cell_type": "code",
   "execution_count": 32,
   "metadata": {
    "tags": []
   },
   "outputs": [],
   "source": [
    "elem_data_labels = [\"sx\", \"sy\", \"sz\", \"sxy\", \"sxz\", \"syz\"]\n",
    "\n",
    "# vectorize nodes_df\n",
    "nodes_vec = nodes_df.to_dict('records')\n",
    "\n",
    "# loop through nodes and add nodal data based on elemen value\n",
    "for node in nodes_vec:\n",
    "    # get node number and timestep\n",
    "    node_num = node[\"node\"]\n",
    "    time_step = node[\"time\"]\n",
    "\n",
    "    # get elems that are connected to given node\n",
    "    elems_c_node = nodeDict[int(node_num)]\n",
    "\n",
    "    # get elem_data\n",
    "    elem_data = np.zeros((1,len(elem_data_labels)))\n",
    "    for elem_num in elems_c_node:\n",
    "        elem_vals = elem_data_dict[(elem_num, time_step)]\n",
    "        elem_data += np.array([elem_vals[v] for v in elem_data_labels])\n",
    "    elem_data = elem_data / len(elems_c_node)\n",
    "\n",
    "    # add nodal data\n",
    "    for i, el_label in enumerate(elem_data_labels):\n",
    "        node[el_label] = elem_data[0][i]"
   ]
  }
 ]
}