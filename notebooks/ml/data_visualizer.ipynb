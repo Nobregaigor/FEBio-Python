{
 "cells": [
  {
   "cell_type": "code",
   "execution_count": 1,
   "metadata": {},
   "outputs": [],
   "source": [
    "# Imports\n",
    "# -----------\n",
    "\n",
    "# required libraries\n",
    "import pathlib\n",
    "import matplotlib.pyplot as plt\n",
    "import numpy as np\n",
    "import pandas as pd\n",
    "import os\n",
    "# tensorflow\n",
    "import tensorflow as tf\n",
    "from tensorflow import keras\n",
    "\n",
    "import ipywidgets as widgets\n",
    "from IPython.display import display"
   ]
  },
  {
   "cell_type": "markdown",
   "metadata": {},
   "source": [
    "## Part 1 - Define functions to render controls"
   ]
  },
  {
   "cell_type": "code",
   "execution_count": 2,
   "metadata": {},
   "outputs": [],
   "source": [
    "def create_slider_with_text_input(callback=None, label=\"slider\", min=1, max=10, step=0.05):\n",
    "    slider_input = widgets.FloatSlider(min=min, max=max, step=step, description=label, \n",
    "        continuous_update=False, layout={'width': '85%'})\n",
    "    slider_input.style.handle_color = 'orange'\n",
    "    text_input = widgets.FloatText(continuous_update=False, layout={'width': '10%'})\n",
    "    widgets.link((text_input, 'value'), (slider_input, 'value'))\n",
    "    if callback != None:\n",
    "        slider_input.observe(callback, names='value')\n",
    "        text_input.observe(callback, names='value')\n",
    "\n",
    "    return slider_input, text_input\n"
   ]
  },
  {
   "cell_type": "code",
   "execution_count": 3,
   "metadata": {},
   "outputs": [],
   "source": [
    "def create_controls(callback=None, output_section=None, show=False):\n",
    "    slider_a, input_a = create_slider_with_text_input(label=\"ca0\")\n",
    "    slider_b, input_b = create_slider_with_text_input(label=\"beta\")\n",
    "    box_1 = widgets.HBox([slider_a, input_a])\n",
    "    box_2 = widgets.HBox([slider_b, input_b])\n",
    "\n",
    "    controls_box = widgets.VBox([box_1, box_2], \n",
    "        layout={'border': '1px solid black', 'margin': \"15px\", 'justify-content':\"center\"})\n",
    "\n",
    "    if callback != None:\n",
    "        out = widgets.interactive_output(callback, {'a': slider_a, 'b': slider_b})\n",
    "    else:\n",
    "        out = widgets.Output(layout={'border': '1px 1px 1px 1px solid black'})\n",
    "    output =  out if output_section == None else output_section\n",
    "    \n",
    "    if show == True:\n",
    "        display(controls_box, output)\n",
    "\n",
    "    return controls_box, output"
   ]
  },
  {
   "cell_type": "markdown",
   "metadata": {},
   "source": [
    "## Part 2 - Load model and predict data"
   ]
  },
  {
   "cell_type": "code",
   "execution_count": 4,
   "metadata": {},
   "outputs": [],
   "source": [
    "#################\n",
    "# Define Macros #\n",
    "#################\n",
    "\n",
    "# Define inputs and features\n",
    "INPUT_PARAMS = ['a','b','time']\n",
    "HAS_FAILED_FEATURE = ['fail']\n",
    "STRESS_FEATURES = ['sx', 'sy', 'sz','sxy', 'sxz','syz']\n",
    "DISPLACEMENT_FEATURES = ['u{axis}_{node}'.format(axis=a, node=i) for i in range(1,9) for a in ['x', 'y', 'z']]\n",
    "\n",
    "# This macro determines if the \"fail\" feature should be \n",
    "# included in the FEATURES list of the model. \n",
    "INCLUDE_HAS_FAILED_FEATURE = False\n",
    "\n",
    "STATS_PATH = 'stats/train_stats.pickle'\n",
    "SAVED_MODEL_PATH = 'saved_models/model_1'"
   ]
  },
  {
   "cell_type": "code",
   "execution_count": 5,
   "metadata": {},
   "outputs": [],
   "source": [
    "# Set the list of FEATURES that will be used in our model\n",
    "if INCLUDE_HAS_FAILED_FEATURE == True:\n",
    "    FEATURES = np.hstack((HAS_FAILED_FEATURE, DISPLACEMENT_FEATURES, STRESS_FEATURES))\n",
    "else:\n",
    "    FEATURES = np.hstack((DISPLACEMENT_FEATURES, STRESS_FEATURES))"
   ]
  },
  {
   "cell_type": "code",
   "execution_count": 6,
   "metadata": {
    "tags": []
   },
   "outputs": [
    {
     "output_type": "stream",
     "name": "stdout",
     "text": "Model: \"sequential\"\n_________________________________________________________________\nLayer (type)                 Output Shape              Param #   \n=================================================================\ndense (Dense)                (None, 60)                240       \n_________________________________________________________________\ndense_1 (Dense)              (None, 80)                4880      \n_________________________________________________________________\ndense_2 (Dense)              (None, 100)               8100      \n_________________________________________________________________\ndense_3 (Dense)              (None, 120)               12120     \n_________________________________________________________________\ndense_4 (Dense)              (None, 140)               16940     \n_________________________________________________________________\ndense_5 (Dense)              (None, 120)               16920     \n_________________________________________________________________\ndense_6 (Dense)              (None, 100)               12100     \n_________________________________________________________________\ndense_7 (Dense)              (None, 80)                8080      \n_________________________________________________________________\ndense_8 (Dense)              (None, 30)                2430      \n=================================================================\nTotal params: 81,810\nTrainable params: 81,810\nNon-trainable params: 0\n_________________________________________________________________\n"
    }
   ],
   "source": [
    "##############\n",
    "# Load model #\n",
    "##############\n",
    "\n",
    "model = tf.keras.models.load_model(SAVED_MODEL_PATH)\n",
    "model.summary()"
   ]
  },
  {
   "cell_type": "code",
   "execution_count": 7,
   "metadata": {},
   "outputs": [],
   "source": [
    "###################################\n",
    "# Load statistics and create norm #\n",
    "###################################\n",
    "stats = pd.read_pickle(STATS_PATH)\n",
    "\n",
    "def norm(x):\n",
    "    return (x - stats['mean']) / stats['std']"
   ]
  },
  {
   "cell_type": "code",
   "execution_count": 8,
   "metadata": {},
   "outputs": [],
   "source": [
    "def predict_data(a, b):\n",
    "    t_space = np.linspace(0,0.2,100)\n",
    "    a_space = np.full(len(t_space), a)\n",
    "    b_space = np.full(len(t_space), b)\n",
    "    pred_inp = pd.DataFrame(data={'a': a_space, 'b': b_space, 'time': t_space})\n",
    "    normed_pred = norm(pred_inp)\n",
    "    predictions = pd.DataFrame(model.predict(normed_pred), columns=FEATURES)\n",
    "    return pred_inp, predictions\n"
   ]
  },
  {
   "cell_type": "code",
   "execution_count": 9,
   "metadata": {},
   "outputs": [],
   "source": [
    "def plot_f_curve(axis, pred_inp, predictions, feature, title=None):\n",
    "    axis.scatter(pred_inp['time'], predictions[feature])\n",
    "    axis.set_xlabel('time [s]')\n",
    "    axis.set_ylabel('Predictions [{fe}]'.format(fe=feature))\n",
    "    axis.set_title(title)\n",
    "\n",
    "def plot_predictions(pred_inp, predictions, features):\n",
    "    fs = np.array(np.copy(features))\n",
    "    fs = np.array(np.split(fs, len(fs) / 3))\n",
    "    fig, axs = plt.subplots(nrows=fs.shape[0], ncols=3, figsize=(15,30), dpi= 80)\n",
    "    axs = axs.flatten() \n",
    "    for i, ax in enumerate(axs):\n",
    "        plot_f_curve(ax, pred_inp, predictions, features[i], title=\"pred. \" + features[i])\n",
    "        \n",
    "    fig.tight_layout()\n",
    "    "
   ]
  },
  {
   "cell_type": "code",
   "execution_count": 10,
   "metadata": {
    "tags": []
   },
   "outputs": [],
   "source": [
    "def predict_and_plot(a, b):\n",
    "    pred_inp, predictions = predict_data(a, b)\n",
    "    plot_predictions(pred_inp, predictions, FEATURES)"
   ]
  },
  {
   "cell_type": "code",
   "execution_count": 11,
   "metadata": {},
   "outputs": [
    {
     "output_type": "display_data",
     "data": {
      "text/plain": "VBox(children=(HBox(children=(FloatSlider(value=1.0, continuous_update=False, description='ca0', layout=Layout…",
      "application/vnd.jupyter.widget-view+json": {
       "version_major": 2,
       "version_minor": 0,
       "model_id": "a3e8ccc141f14014a2f93ce474c6cbbe"
      }
     },
     "metadata": {}
    },
    {
     "output_type": "display_data",
     "data": {
      "text/plain": "Output()",
      "application/vnd.jupyter.widget-view+json": {
       "version_major": 2,
       "version_minor": 0,
       "model_id": "25dcf37901eb4ccca792e61733ad1540"
      }
     },
     "metadata": {}
    }
   ],
   "source": [
    "controls_box, output = create_controls(predict_and_plot, show=True)"
   ]
  },
  {
   "cell_type": "code",
   "execution_count": null,
   "metadata": {},
   "outputs": [],
   "source": []
  }
 ],
 "metadata": {
  "language_info": {
   "codemirror_mode": {
    "name": "ipython",
    "version": 3
   },
   "file_extension": ".py",
   "mimetype": "text/x-python",
   "name": "python",
   "nbconvert_exporter": "python",
   "pygments_lexer": "ipython3",
   "version": "3.8.3-final"
  },
  "orig_nbformat": 2,
  "kernelspec": {
   "name": "python38364bit00c0969f8e19410ca4eb2fb4ece289da",
   "display_name": "Python 3.8.3 64-bit"
  }
 },
 "nbformat": 4,
 "nbformat_minor": 2
}