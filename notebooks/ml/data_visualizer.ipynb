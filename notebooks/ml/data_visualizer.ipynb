{
 "cells": [
  {
   "cell_type": "code",
   "execution_count": 1,
   "metadata": {},
   "outputs": [],
   "source": [
    "# Imports\n",
    "# -----------\n",
    "\n",
    "# required libraries\n",
    "import pathlib\n",
    "import matplotlib.pyplot as plt\n",
    "import numpy as np\n",
    "import pandas as pd\n",
    "import os\n",
    "# tensorflow\n",
    "import tensorflow as tf\n",
    "from tensorflow import keras\n",
    "\n",
    "import ipywidgets as widgets\n",
    "from IPython.display import display"
   ]
  },
  {
   "cell_type": "markdown",
   "metadata": {},
   "source": [
    "## Part 1 - Define functions to render controls"
   ]
  },
  {
   "cell_type": "code",
   "execution_count": 2,
   "metadata": {},
   "outputs": [],
   "source": [
    "def create_slider_with_text_input(callback=None, label=\"slider\", min=1, max=10, step=0.05):\n",
    "    slider_input = widgets.FloatSlider(min=min, max=max, step=step, description=label, \n",
    "        continuous_update=False, layout={'width': '85%'})\n",
    "    slider_input.style.handle_color = 'orange'\n",
    "    text_input = widgets.FloatText(continuous_update=False, layout={'width': '10%'})\n",
    "\n",
    "    if callback != None:\n",
    "        slider_input.observe(callback, names='value')\n",
    "        text_input.observe(callback, names='value')\n",
    "\n",
    "    return slider_input, text_input\n"
   ]
  },
  {
   "cell_type": "code",
   "execution_count": 3,
   "metadata": {},
   "outputs": [],
   "source": [
    "def create_controls(callback=None, output_section=None, show=False):\n",
    "    slider_a, input_a = create_slider_with_text_input(callback=on_value_change, label=\"ca0\")\n",
    "    slider_b, input_b = create_slider_with_text_input(callback=on_value_change, label=\"beta\")\n",
    "    output = widgets.Output(layout={'border': '1px 1px 1px 1px solid black'}) if output_section == None else output_section\n",
    "    box_1 = widgets.HBox([slider_a, input_a])\n",
    "    box_2 = widgets.HBox([slider_b, input_b])\n",
    "    controls_box = widgets.VBox([box_1, box_2], \n",
    "        layout={'border': '1px solid black', 'margin': \"15px\", 'justify-content':\"center\"})\n",
    "    if show == True:\n",
    "        display(controls_box, output)\n",
    "\n",
    "    return controls_box, output"
   ]
  },
  {
   "cell_type": "code",
   "execution_count": 4,
   "metadata": {},
   "outputs": [
    {
     "output_type": "display_data",
     "data": {
      "text/plain": "VBox(children=(HBox(children=(FloatSlider(value=1.0, continuous_update=False, description='ca0', layout=Layout…",
      "application/vnd.jupyter.widget-view+json": {
       "version_major": 2,
       "version_minor": 0,
       "model_id": "8a79a4af245c465eabaab2a50bf887c6"
      }
     },
     "metadata": {}
    },
    {
     "output_type": "display_data",
     "data": {
      "text/plain": "Output()",
      "application/vnd.jupyter.widget-view+json": {
       "version_major": 2,
       "version_minor": 0,
       "model_id": "a2478dd047364a3699e0b4754074cd95"
      }
     },
     "metadata": {}
    }
   ],
   "source": [
    "output2 = widgets.Output()\n",
    "\n",
    "def on_value_change(change):\n",
    "    output2.clear_output()\n",
    "    with output2:\n",
    "        print(change['new'])\n",
    "\n",
    "\n",
    "cb, out = create_controls(on_value_change, output2, show=True)\n",
    "\n"
   ]
  },
  {
   "cell_type": "markdown",
   "metadata": {},
   "source": [
    "## Part 2 - Load model and predict data"
   ]
  },
  {
   "cell_type": "code",
   "execution_count": null,
   "metadata": {},
   "outputs": [],
   "source": [
    "# Define inputs and features\n",
    "INPUT_PARAMS = ['a','b','time']\n",
    "HAS_FAILED_FEATURE = ['fail']\n",
    "STRESS_FEATURES = ['sx', 'sy', 'sz','sxy', 'sxz','syz']"
   ]
  },
  {
   "cell_type": "code",
   "execution_count": null,
   "metadata": {},
   "outputs": [],
   "source": [
    "##############\n",
    "# Load model #\n",
    "##############\n",
    "\n",
    "model = tf.keras.models.load_model('saved_models/model_1')\n",
    "model.summary()"
   ]
  },
  {
   "cell_type": "code",
   "execution_count": null,
   "metadata": {},
   "outputs": [],
   "source": [
    "def predict_data(a, b):\n",
    "    t_space = np.linspace(0,0.2,100)\n",
    "    a_space = np.full(len(t_space), A)\n",
    "    b_space = np.full(len(t_space), B)\n",
    "    pred_inp = pd.DataFrame(data={'a': a_space, 'b': b_space, 'time': t_space})\n",
    "    test_predictions = pd.DataFrame(model.predict(pred_inp), columns=FEATURES)\n"
   ]
  },
  {
   "cell_type": "code",
   "execution_count": null,
   "metadata": {},
   "outputs": [],
   "source": [
    "# Predict\n",
    "A = 1.2\n",
    "B = 2.5\n",
    "\n",
    "t_space = np.linspace(0,0.2,100)\n",
    "a_space = np.full(len(t_space), A)\n",
    "b_space = np.full(len(t_space), B)\n",
    "\n",
    "d = {'a': a_space, 'b': b_space, 'time': t_space}\n",
    "\n",
    "pred_inp = pd.DataFrame(data=d)\n",
    "test_predictions = model.predict(pred_inp)\n",
    "test_predictions = pd.DataFrame(test_predictions, columns=FEATURES)\n",
    "test_predictions.tail()"
   ]
  },
  {
   "cell_type": "code",
   "execution_count": null,
   "metadata": {},
   "outputs": [],
   "source": [
    "def plot_curve(feature, title=None):\n",
    "    fig, a = plt.subplots()\n",
    "    a.scatter(pred_inp['time'], test_predictions[feature])\n",
    "\n",
    "    a.set_xlabel('time [s]')\n",
    "    a.set_ylabel('Predictions [{fe}]'.format(fe=feature))\n",
    "    \n",
    "    a.set_title(title)"
   ]
  }
 ],
 "metadata": {
  "language_info": {
   "codemirror_mode": {
    "name": "ipython",
    "version": 3
   },
   "file_extension": ".py",
   "mimetype": "text/x-python",
   "name": "python",
   "nbconvert_exporter": "python",
   "pygments_lexer": "ipython3",
   "version": "3.8.3-final"
  },
  "orig_nbformat": 2,
  "kernelspec": {
   "name": "python38364bit00c0969f8e19410ca4eb2fb4ece289da",
   "display_name": "Python 3.8.3 64-bit"
  }
 },
 "nbformat": 4,
 "nbformat_minor": 2
}