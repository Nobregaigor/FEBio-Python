{
 "cells": [
  {
   "cell_type": "markdown",
   "metadata": {},
   "source": [
    "# Machine Learning regression model - Version 1.0"
   ]
  },
  {
   "cell_type": "markdown",
   "metadata": {},
   "source": [
    "!!!! Requries x64 !!!!\n",
    "\n",
    "Required libraries:\n",
    "- Requires the latest pip\n",
    "-> pip install --upgrade pip\n",
    "- Current stable release for CPU and GPU\n",
    "-> pip install tensorflow\n",
    "- Use seaborn for pairplot\n",
    "-> pip install -q seaborn\n",
    "- Pandas library: pip install pandas\n",
    "- Use some functions from tensorflow_docs\n",
    "-> pip install -q git+https://github.com/tensorflow/docs\n",
    "- Numpy (if not already installed) \n",
    "-> pip install numpy\n",
    "- Matplotlib (if not already installed)\n",
    "-> pip install matplotlib"
   ]
  },
  {
   "cell_type": "code",
   "execution_count": 1,
   "metadata": {},
   "outputs": [],
   "source": [
    "# Imports\n",
    "# -----------\n",
    "\n",
    "# required libraries\n",
    "import pathlib\n",
    "import matplotlib.pyplot as plt\n",
    "import numpy as np\n",
    "import pandas as pd\n",
    "# seaborn\n",
    "import seaborn as sns\n",
    "# tensorflow\n",
    "import tensorflow as tf\n",
    "from tensorflow import keras\n",
    "from tensorflow.keras import layers\n",
    "# tensorflow_docs\n",
    "import tensorflow_docs as tfdocs\n",
    "import tensorflow_docs.plots\n",
    "import tensorflow_docs.modeling"
   ]
  },
  {
   "cell_type": "code",
   "execution_count": 33,
   "metadata": {},
   "outputs": [
    {
     "output_type": "execute_result",
     "data": {
      "text/plain": "                a          b      time  x_1  y_1  z_1  x_2  y_2      z_2  x_3  \\\n2016680  1.910112  19.899471  0.181091 -0.5 -0.5  0.0 -0.5 -0.5  1.04309 -0.5   \n2016681  1.910112  19.899471  0.186464 -0.5 -0.5  0.0 -0.5 -0.5  1.04410 -0.5   \n2016682  1.910112  19.899471  0.191838 -0.5 -0.5  0.0 -0.5 -0.5  1.04510 -0.5   \n2016683  1.910112  19.899471  0.197461 -0.5 -0.5  0.0 -0.5 -0.5  1.04613 -0.5   \n2016684  1.910112  19.899471  0.200000 -0.5 -0.5  0.0 -0.5 -0.5  1.04660 -0.5   \n\n         ...  uz_7      ux_8      uy_8      uz_8        sx        sy  \\\n2016680  ...   0.0 -0.044380  0.003211  0.043092  0.000466  0.000181   \n2016681  ...   0.0 -0.045413  0.003327  0.044099 -0.000352 -0.000142   \n2016682  ...   0.0 -0.046380  0.003380  0.045103  0.000442  0.000173   \n2016683  ...   0.0 -0.047426  0.003498  0.046127 -0.000337 -0.000136   \n2016684  ...   0.0 -0.047836  0.003475  0.046601  0.001258  0.000501   \n\n               sz           sxy           sxz           syz  \n2016680  0.000444  2.352090e-11 -6.473650e-12  6.933660e-12  \n2016681 -0.000340 -2.304490e-11  6.357920e-12 -6.802380e-12  \n2016682  0.000424  2.248710e-11 -6.228770e-12  6.652260e-12  \n2016683 -0.000326 -2.214350e-11  6.149400e-12 -6.560290e-12  \n2016684  0.001214  4.550390e-11 -1.270210e-11  1.352900e-11  \n\n[5 rows x 57 columns]",
      "text/html": "<div>\n<style scoped>\n    .dataframe tbody tr th:only-of-type {\n        vertical-align: middle;\n    }\n\n    .dataframe tbody tr th {\n        vertical-align: top;\n    }\n\n    .dataframe thead th {\n        text-align: right;\n    }\n</style>\n<table border=\"1\" class=\"dataframe\">\n  <thead>\n    <tr style=\"text-align: right;\">\n      <th></th>\n      <th>a</th>\n      <th>b</th>\n      <th>time</th>\n      <th>x_1</th>\n      <th>y_1</th>\n      <th>z_1</th>\n      <th>x_2</th>\n      <th>y_2</th>\n      <th>z_2</th>\n      <th>x_3</th>\n      <th>...</th>\n      <th>uz_7</th>\n      <th>ux_8</th>\n      <th>uy_8</th>\n      <th>uz_8</th>\n      <th>sx</th>\n      <th>sy</th>\n      <th>sz</th>\n      <th>sxy</th>\n      <th>sxz</th>\n      <th>syz</th>\n    </tr>\n  </thead>\n  <tbody>\n    <tr>\n      <th>2016680</th>\n      <td>1.910112</td>\n      <td>19.899471</td>\n      <td>0.181091</td>\n      <td>-0.5</td>\n      <td>-0.5</td>\n      <td>0.0</td>\n      <td>-0.5</td>\n      <td>-0.5</td>\n      <td>1.04309</td>\n      <td>-0.5</td>\n      <td>...</td>\n      <td>0.0</td>\n      <td>-0.044380</td>\n      <td>0.003211</td>\n      <td>0.043092</td>\n      <td>0.000466</td>\n      <td>0.000181</td>\n      <td>0.000444</td>\n      <td>2.352090e-11</td>\n      <td>-6.473650e-12</td>\n      <td>6.933660e-12</td>\n    </tr>\n    <tr>\n      <th>2016681</th>\n      <td>1.910112</td>\n      <td>19.899471</td>\n      <td>0.186464</td>\n      <td>-0.5</td>\n      <td>-0.5</td>\n      <td>0.0</td>\n      <td>-0.5</td>\n      <td>-0.5</td>\n      <td>1.04410</td>\n      <td>-0.5</td>\n      <td>...</td>\n      <td>0.0</td>\n      <td>-0.045413</td>\n      <td>0.003327</td>\n      <td>0.044099</td>\n      <td>-0.000352</td>\n      <td>-0.000142</td>\n      <td>-0.000340</td>\n      <td>-2.304490e-11</td>\n      <td>6.357920e-12</td>\n      <td>-6.802380e-12</td>\n    </tr>\n    <tr>\n      <th>2016682</th>\n      <td>1.910112</td>\n      <td>19.899471</td>\n      <td>0.191838</td>\n      <td>-0.5</td>\n      <td>-0.5</td>\n      <td>0.0</td>\n      <td>-0.5</td>\n      <td>-0.5</td>\n      <td>1.04510</td>\n      <td>-0.5</td>\n      <td>...</td>\n      <td>0.0</td>\n      <td>-0.046380</td>\n      <td>0.003380</td>\n      <td>0.045103</td>\n      <td>0.000442</td>\n      <td>0.000173</td>\n      <td>0.000424</td>\n      <td>2.248710e-11</td>\n      <td>-6.228770e-12</td>\n      <td>6.652260e-12</td>\n    </tr>\n    <tr>\n      <th>2016683</th>\n      <td>1.910112</td>\n      <td>19.899471</td>\n      <td>0.197461</td>\n      <td>-0.5</td>\n      <td>-0.5</td>\n      <td>0.0</td>\n      <td>-0.5</td>\n      <td>-0.5</td>\n      <td>1.04613</td>\n      <td>-0.5</td>\n      <td>...</td>\n      <td>0.0</td>\n      <td>-0.047426</td>\n      <td>0.003498</td>\n      <td>0.046127</td>\n      <td>-0.000337</td>\n      <td>-0.000136</td>\n      <td>-0.000326</td>\n      <td>-2.214350e-11</td>\n      <td>6.149400e-12</td>\n      <td>-6.560290e-12</td>\n    </tr>\n    <tr>\n      <th>2016684</th>\n      <td>1.910112</td>\n      <td>19.899471</td>\n      <td>0.200000</td>\n      <td>-0.5</td>\n      <td>-0.5</td>\n      <td>0.0</td>\n      <td>-0.5</td>\n      <td>-0.5</td>\n      <td>1.04660</td>\n      <td>-0.5</td>\n      <td>...</td>\n      <td>0.0</td>\n      <td>-0.047836</td>\n      <td>0.003475</td>\n      <td>0.046601</td>\n      <td>0.001258</td>\n      <td>0.000501</td>\n      <td>0.001214</td>\n      <td>4.550390e-11</td>\n      <td>-1.270210e-11</td>\n      <td>1.352900e-11</td>\n    </tr>\n  </tbody>\n</table>\n<p>5 rows × 57 columns</p>\n</div>"
     },
     "metadata": {},
     "execution_count": 33
    }
   ],
   "source": [
    "# Load dataset\n",
    "# -----------------\n",
    "DATASET_PATH = 'D:\\Igor\\Research_USF\\Python\\ml\\concatenated_data.pickle'\n",
    "# read pickle data and save as a pd dataset\n",
    "raw_dataset = pd.read_pickle(DATASET_PATH)\n",
    "# do not modify raw_data, instead, copy its instance\n",
    "dataset = raw_dataset.copy()\n",
    "# show some content\n",
    "dataset.tail()"
   ]
  },
  {
   "cell_type": "code",
   "execution_count": 34,
   "metadata": {},
   "outputs": [],
   "source": [
    "# Check if there are unknown values\n",
    "\n",
    "dataset.isna().sum()\n",
    "dataset = dataset.dropna()"
   ]
  },
  {
   "cell_type": "code",
   "execution_count": 35,
   "metadata": {},
   "outputs": [],
   "source": [
    "# Split data into train and test datasets\n",
    "# Here, we are spliting 80% of the data for training and the rest for testing\n",
    "train_dataset = dataset.sample(frac=0.8,random_state=0)\n",
    "test_dataset = dataset.drop(train_dataset.index)"
   ]
  },
  {
   "cell_type": "code",
   "execution_count": null,
   "metadata": {},
   "outputs": [],
   "source": [
    "# Inpect data\n",
    "sns.pairplot(train_dataset[['a','b','time']], diag_kind=\"kde\")"
   ]
  },
  {
   "cell_type": "code",
   "execution_count": 36,
   "metadata": {},
   "outputs": [],
   "source": [
    "# Set input params and data fetures\n",
    "INPUT_PARAMS = ['a','b','time']\n",
    "features = [v for v in list(dataset.columns.values) if v not in INPUT_PARAMS]"
   ]
  },
  {
   "cell_type": "code",
   "execution_count": 37,
   "metadata": {},
   "outputs": [
    {
     "output_type": "execute_result",
     "data": {
      "text/plain": "          count      mean       std    min       25%       50%        75%  \\\na     1613348.0  8.814532  5.979803  1.000  2.820225  8.137566  14.068783   \nb     1613348.0  6.436937  3.951849  1.000  3.325843  5.853933   8.483146   \ntime  1613348.0  0.075484  0.058789  0.001  0.023116  0.060393   0.122796   \n\n       max  \na     20.0  \nb     20.0  \ntime   0.2  ",
      "text/html": "<div>\n<style scoped>\n    .dataframe tbody tr th:only-of-type {\n        vertical-align: middle;\n    }\n\n    .dataframe tbody tr th {\n        vertical-align: top;\n    }\n\n    .dataframe thead th {\n        text-align: right;\n    }\n</style>\n<table border=\"1\" class=\"dataframe\">\n  <thead>\n    <tr style=\"text-align: right;\">\n      <th></th>\n      <th>count</th>\n      <th>mean</th>\n      <th>std</th>\n      <th>min</th>\n      <th>25%</th>\n      <th>50%</th>\n      <th>75%</th>\n      <th>max</th>\n    </tr>\n  </thead>\n  <tbody>\n    <tr>\n      <th>a</th>\n      <td>1613348.0</td>\n      <td>8.814532</td>\n      <td>5.979803</td>\n      <td>1.000</td>\n      <td>2.820225</td>\n      <td>8.137566</td>\n      <td>14.068783</td>\n      <td>20.0</td>\n    </tr>\n    <tr>\n      <th>b</th>\n      <td>1613348.0</td>\n      <td>6.436937</td>\n      <td>3.951849</td>\n      <td>1.000</td>\n      <td>3.325843</td>\n      <td>5.853933</td>\n      <td>8.483146</td>\n      <td>20.0</td>\n    </tr>\n    <tr>\n      <th>time</th>\n      <td>1613348.0</td>\n      <td>0.075484</td>\n      <td>0.058789</td>\n      <td>0.001</td>\n      <td>0.023116</td>\n      <td>0.060393</td>\n      <td>0.122796</td>\n      <td>0.2</td>\n    </tr>\n  </tbody>\n</table>\n</div>"
     },
     "metadata": {},
     "execution_count": 37
    }
   ],
   "source": [
    "# Obtain data statistics\n",
    "train_stats = train_dataset.describe()\n",
    "train_stats = train_stats.drop(features, axis=1)\n",
    "train_stats = train_stats.transpose()\n",
    "train_stats\n"
   ]
  },
  {
   "cell_type": "code",
   "execution_count": 38,
   "metadata": {},
   "outputs": [],
   "source": [
    "# split inputs and features\n",
    "train_labels = train_dataset.drop(INPUT_PARAMS, axis=1)     #outputs\n",
    "train_dataset = train_dataset.drop(features, axis=1)        #inputs\n",
    "\n",
    "test_labels = test_dataset.drop(INPUT_PARAMS, axis=1)\n",
    "test_labels = test_labels.drop(features, axis=1)"
   ]
  },
  {
   "cell_type": "code",
   "execution_count": 39,
   "metadata": {},
   "outputs": [
    {
     "output_type": "stream",
     "name": "stdout",
     "text": "train labels tail:\n"
    },
    {
     "output_type": "execute_result",
     "data": {
      "text/plain": "         x_1  y_1  z_1  x_2  y_2      z_2  x_3       y_3  z_3  x_4  ...  uz_7  \\\n1148901 -0.5 -0.5  0.0 -0.5 -0.5  1.16438 -0.5  0.391533  0.0 -0.5  ...   0.0   \n1759682 -0.5 -0.5  0.0 -0.5 -0.5  1.00362 -0.5  0.500255  0.0 -0.5  ...   0.0   \n1751402 -0.5 -0.5  0.0 -0.5 -0.5  1.05742 -0.5  0.504484  0.0 -0.5  ...   0.0   \n402755  -0.5 -0.5  0.0 -0.5 -0.5  1.06086 -0.5  0.504831  0.0 -0.5  ...   0.0   \n850476  -0.5 -0.5  0.0 -0.5 -0.5  1.03446 -0.5  0.502517  0.0 -0.5  ...   0.0   \n\n             ux_8      uy_8      uz_8        sx        sy        sz  \\\n1148901 -0.036726 -0.108570  0.164566 -0.289869 -0.427035  0.063522   \n1759682 -0.003861  0.000255  0.003619 -0.001253 -0.001206 -0.001218   \n1751402 -0.058524  0.004484  0.057419  0.000358  0.000340  0.000407   \n402755  -0.061904  0.004831  0.060865  0.001881  0.002198  0.001959   \n850476  -0.035734  0.002517  0.034455 -0.000096 -0.000273 -0.000099   \n\n                  sxy           sxz           syz  \n1148901 -1.328160e-05 -1.157120e-05  3.821920e-07  \n1759682 -3.110290e-17  2.849150e-17  4.088890e-17  \n1751402  2.408580e-10 -1.657120e-11  4.066080e-11  \n402755  -2.833160e-11  1.375860e-12 -4.537420e-12  \n850476   3.424360e-15 -9.427390e-16  1.003400e-15  \n\n[5 rows x 54 columns]",
      "text/html": "<div>\n<style scoped>\n    .dataframe tbody tr th:only-of-type {\n        vertical-align: middle;\n    }\n\n    .dataframe tbody tr th {\n        vertical-align: top;\n    }\n\n    .dataframe thead th {\n        text-align: right;\n    }\n</style>\n<table border=\"1\" class=\"dataframe\">\n  <thead>\n    <tr style=\"text-align: right;\">\n      <th></th>\n      <th>x_1</th>\n      <th>y_1</th>\n      <th>z_1</th>\n      <th>x_2</th>\n      <th>y_2</th>\n      <th>z_2</th>\n      <th>x_3</th>\n      <th>y_3</th>\n      <th>z_3</th>\n      <th>x_4</th>\n      <th>...</th>\n      <th>uz_7</th>\n      <th>ux_8</th>\n      <th>uy_8</th>\n      <th>uz_8</th>\n      <th>sx</th>\n      <th>sy</th>\n      <th>sz</th>\n      <th>sxy</th>\n      <th>sxz</th>\n      <th>syz</th>\n    </tr>\n  </thead>\n  <tbody>\n    <tr>\n      <th>1148901</th>\n      <td>-0.5</td>\n      <td>-0.5</td>\n      <td>0.0</td>\n      <td>-0.5</td>\n      <td>-0.5</td>\n      <td>1.16438</td>\n      <td>-0.5</td>\n      <td>0.391533</td>\n      <td>0.0</td>\n      <td>-0.5</td>\n      <td>...</td>\n      <td>0.0</td>\n      <td>-0.036726</td>\n      <td>-0.108570</td>\n      <td>0.164566</td>\n      <td>-0.289869</td>\n      <td>-0.427035</td>\n      <td>0.063522</td>\n      <td>-1.328160e-05</td>\n      <td>-1.157120e-05</td>\n      <td>3.821920e-07</td>\n    </tr>\n    <tr>\n      <th>1759682</th>\n      <td>-0.5</td>\n      <td>-0.5</td>\n      <td>0.0</td>\n      <td>-0.5</td>\n      <td>-0.5</td>\n      <td>1.00362</td>\n      <td>-0.5</td>\n      <td>0.500255</td>\n      <td>0.0</td>\n      <td>-0.5</td>\n      <td>...</td>\n      <td>0.0</td>\n      <td>-0.003861</td>\n      <td>0.000255</td>\n      <td>0.003619</td>\n      <td>-0.001253</td>\n      <td>-0.001206</td>\n      <td>-0.001218</td>\n      <td>-3.110290e-17</td>\n      <td>2.849150e-17</td>\n      <td>4.088890e-17</td>\n    </tr>\n    <tr>\n      <th>1751402</th>\n      <td>-0.5</td>\n      <td>-0.5</td>\n      <td>0.0</td>\n      <td>-0.5</td>\n      <td>-0.5</td>\n      <td>1.05742</td>\n      <td>-0.5</td>\n      <td>0.504484</td>\n      <td>0.0</td>\n      <td>-0.5</td>\n      <td>...</td>\n      <td>0.0</td>\n      <td>-0.058524</td>\n      <td>0.004484</td>\n      <td>0.057419</td>\n      <td>0.000358</td>\n      <td>0.000340</td>\n      <td>0.000407</td>\n      <td>2.408580e-10</td>\n      <td>-1.657120e-11</td>\n      <td>4.066080e-11</td>\n    </tr>\n    <tr>\n      <th>402755</th>\n      <td>-0.5</td>\n      <td>-0.5</td>\n      <td>0.0</td>\n      <td>-0.5</td>\n      <td>-0.5</td>\n      <td>1.06086</td>\n      <td>-0.5</td>\n      <td>0.504831</td>\n      <td>0.0</td>\n      <td>-0.5</td>\n      <td>...</td>\n      <td>0.0</td>\n      <td>-0.061904</td>\n      <td>0.004831</td>\n      <td>0.060865</td>\n      <td>0.001881</td>\n      <td>0.002198</td>\n      <td>0.001959</td>\n      <td>-2.833160e-11</td>\n      <td>1.375860e-12</td>\n      <td>-4.537420e-12</td>\n    </tr>\n    <tr>\n      <th>850476</th>\n      <td>-0.5</td>\n      <td>-0.5</td>\n      <td>0.0</td>\n      <td>-0.5</td>\n      <td>-0.5</td>\n      <td>1.03446</td>\n      <td>-0.5</td>\n      <td>0.502517</td>\n      <td>0.0</td>\n      <td>-0.5</td>\n      <td>...</td>\n      <td>0.0</td>\n      <td>-0.035734</td>\n      <td>0.002517</td>\n      <td>0.034455</td>\n      <td>-0.000096</td>\n      <td>-0.000273</td>\n      <td>-0.000099</td>\n      <td>3.424360e-15</td>\n      <td>-9.427390e-16</td>\n      <td>1.003400e-15</td>\n    </tr>\n  </tbody>\n</table>\n<p>5 rows × 54 columns</p>\n</div>"
     },
     "metadata": {},
     "execution_count": 39
    }
   ],
   "source": [
    "print(\"train labels tail:\")\n",
    "train_labels.tail()"
   ]
  },
  {
   "cell_type": "code",
   "execution_count": 40,
   "metadata": {},
   "outputs": [
    {
     "output_type": "stream",
     "name": "stdout",
     "text": "train dataset tail:\n"
    },
    {
     "output_type": "execute_result",
     "data": {
      "text/plain": "                 a         b      time\n1148901  11.455026  6.764045  0.022331\n1759682  19.597884  4.235955  0.008664\n1751402  19.497354  5.449438  0.150115\n402755    1.301587  4.134831  0.181303\n850476    8.640212  9.898876  0.073710",
      "text/html": "<div>\n<style scoped>\n    .dataframe tbody tr th:only-of-type {\n        vertical-align: middle;\n    }\n\n    .dataframe tbody tr th {\n        vertical-align: top;\n    }\n\n    .dataframe thead th {\n        text-align: right;\n    }\n</style>\n<table border=\"1\" class=\"dataframe\">\n  <thead>\n    <tr style=\"text-align: right;\">\n      <th></th>\n      <th>a</th>\n      <th>b</th>\n      <th>time</th>\n    </tr>\n  </thead>\n  <tbody>\n    <tr>\n      <th>1148901</th>\n      <td>11.455026</td>\n      <td>6.764045</td>\n      <td>0.022331</td>\n    </tr>\n    <tr>\n      <th>1759682</th>\n      <td>19.597884</td>\n      <td>4.235955</td>\n      <td>0.008664</td>\n    </tr>\n    <tr>\n      <th>1751402</th>\n      <td>19.497354</td>\n      <td>5.449438</td>\n      <td>0.150115</td>\n    </tr>\n    <tr>\n      <th>402755</th>\n      <td>1.301587</td>\n      <td>4.134831</td>\n      <td>0.181303</td>\n    </tr>\n    <tr>\n      <th>850476</th>\n      <td>8.640212</td>\n      <td>9.898876</td>\n      <td>0.073710</td>\n    </tr>\n  </tbody>\n</table>\n</div>"
     },
     "metadata": {},
     "execution_count": 40
    }
   ],
   "source": [
    "print(\"train dataset tail:\")\n",
    "train_dataset.tail()"
   ]
  },
  {
   "cell_type": "code",
   "execution_count": 41,
   "metadata": {},
   "outputs": [
    {
     "output_type": "execute_result",
     "data": {
      "text/plain": "                a         b      time\n1148901  0.441569  0.082773 -0.904128\n1759682  1.803295 -0.556950 -1.136608\n1751402  1.786484 -0.249883  1.269455\n402755  -1.256387 -0.582539  1.799968\n850476  -0.029152  0.876030 -0.030178",
      "text/html": "<div>\n<style scoped>\n    .dataframe tbody tr th:only-of-type {\n        vertical-align: middle;\n    }\n\n    .dataframe tbody tr th {\n        vertical-align: top;\n    }\n\n    .dataframe thead th {\n        text-align: right;\n    }\n</style>\n<table border=\"1\" class=\"dataframe\">\n  <thead>\n    <tr style=\"text-align: right;\">\n      <th></th>\n      <th>a</th>\n      <th>b</th>\n      <th>time</th>\n    </tr>\n  </thead>\n  <tbody>\n    <tr>\n      <th>1148901</th>\n      <td>0.441569</td>\n      <td>0.082773</td>\n      <td>-0.904128</td>\n    </tr>\n    <tr>\n      <th>1759682</th>\n      <td>1.803295</td>\n      <td>-0.556950</td>\n      <td>-1.136608</td>\n    </tr>\n    <tr>\n      <th>1751402</th>\n      <td>1.786484</td>\n      <td>-0.249883</td>\n      <td>1.269455</td>\n    </tr>\n    <tr>\n      <th>402755</th>\n      <td>-1.256387</td>\n      <td>-0.582539</td>\n      <td>1.799968</td>\n    </tr>\n    <tr>\n      <th>850476</th>\n      <td>-0.029152</td>\n      <td>0.876030</td>\n      <td>-0.030178</td>\n    </tr>\n  </tbody>\n</table>\n</div>"
     },
     "metadata": {},
     "execution_count": 41
    }
   ],
   "source": [
    "# normalize data\n",
    "def norm(x):\n",
    "    return (x - train_stats['mean']) / train_stats['std']\n",
    "\n",
    "normed_train_data = norm(train_dataset)\n",
    "normed_test_data = norm(test_dataset)\n",
    "\n",
    "# normed_train_data = train_dataset\n",
    "# normed_test_data = test_dataset\n",
    "\n",
    "normed_train_data.tail()"
   ]
  },
  {
   "cell_type": "code",
   "execution_count": 42,
   "metadata": {},
   "outputs": [],
   "source": [
    "# build model\n",
    "\n",
    "def build_model():\n",
    "    model = keras.Sequential([\n",
    "    layers.Dense(16, activation='relu', input_shape=[len(INPUT_PARAMS)]),\n",
    "    layers.Dense(32, activation='relu'),\n",
    "    layers.Dense(64, activation='relu'),\n",
    "    layers.Dense(len(features), activation='linear')\n",
    "    ])\n",
    "\n",
    "    optimizer = tf.keras.optimizers.RMSprop(0.001)\n",
    "    lossFunction = tf.keras.losses.MeanSquaredError()\n",
    "    metrics=['mean_squared_error']\n",
    "\n",
    "    # loss functions already trie:\n",
    "        # tf.keras.losses.CategoricalCrossentropy(from_logits=True)\n",
    "        # tf.keras.losses.MeanAbsoluteError(reduction=tf.keras.losses.Reduction.SUM)\n",
    "\n",
    "    # model.compile(\n",
    "    #             loss='mse',\n",
    "    #             optimizer=optimizer,\n",
    "    #             metrics=['mae', 'mse'])\n",
    "    model.compile(\n",
    "            loss=lossFunction,\n",
    "            optimizer=optimizer,\n",
    "            metrics=metrics)\n",
    "    return model\n",
    "\n",
    "model = build_model()"
   ]
  },
  {
   "cell_type": "code",
   "execution_count": 43,
   "metadata": {},
   "outputs": [
    {
     "output_type": "stream",
     "name": "stdout",
     "text": "Model: \"sequential_7\"\n_________________________________________________________________\nLayer (type)                 Output Shape              Param #   \n=================================================================\ndense_28 (Dense)             (None, 16)                64        \n_________________________________________________________________\ndense_29 (Dense)             (None, 32)                544       \n_________________________________________________________________\ndense_30 (Dense)             (None, 64)                2112      \n_________________________________________________________________\ndense_31 (Dense)             (None, 54)                3510      \n=================================================================\nTotal params: 6,230\nTrainable params: 6,230\nNon-trainable params: 0\n_________________________________________________________________\n"
    }
   ],
   "source": [
    "# inspect model\n",
    "model.summary()"
   ]
  },
  {
   "cell_type": "code",
   "execution_count": 44,
   "metadata": {},
   "outputs": [
    {
     "output_type": "execute_result",
     "data": {
      "text/plain": "array([[ 2.34042183e-01, -6.74772784e-02, -2.34096080e-01,\n        -6.83188289e-02, -3.84668887e-01, -2.82160908e-01,\n        -1.14328414e-01, -3.33077908e-01,  1.72905087e-01,\n        -1.73628964e-02,  1.15232609e-01, -3.35521437e-02,\n        -2.51486838e-01,  2.13168621e-01,  2.39614710e-01,\n        -5.27083635e-01, -3.12764615e-01, -1.17980622e-01,\n         1.29862517e-01, -2.03018039e-02, -4.33978252e-03,\n         1.14788145e-01, -1.95956603e-02, -2.61153460e-01,\n        -4.38284427e-02, -3.47724259e-01, -3.75586927e-01,\n        -6.99349344e-02,  3.36729884e-01, -1.02715015e-01,\n        -1.89245284e-01,  1.00331008e-03, -3.39205295e-01,\n        -2.85658628e-01,  8.52979645e-02, -5.98379932e-02,\n         8.26591477e-02, -1.27170160e-01, -1.15422815e-01,\n        -8.98819193e-02, -6.88349456e-02, -4.89543974e-02,\n        -1.63714588e-01, -1.30937412e-01,  7.35426098e-02,\n        -6.71119392e-02,  2.04966396e-01, -2.08686054e-01,\n        -1.58935487e-01, -5.36282957e-02,  3.33192766e-01,\n         1.96297795e-01, -1.46469653e-01, -1.03957519e-01],\n       [ 8.32697302e-02, -1.82056688e-02, -9.13351625e-02,\n         4.47410867e-02, -2.35586360e-01, -1.56956479e-01,\n        -6.61509335e-02, -7.24417865e-02,  5.29503189e-02,\n        -2.56414115e-02, -2.56938245e-02,  3.36048640e-02,\n        -9.95201692e-02,  1.69817463e-01,  1.38086408e-01,\n        -1.89791322e-01, -1.34813413e-01, -5.61299399e-02,\n         3.86584550e-04, -1.64021719e-02, -8.44451785e-02,\n         1.73423737e-01,  6.38389438e-02, -1.66976869e-01,\n        -3.62674221e-02, -1.28433064e-01, -1.85770303e-01,\n        -5.17028049e-02,  2.39310056e-01, -5.94493821e-02,\n         9.65114683e-03,  1.12252221e-01, -2.96706818e-02,\n        -2.26117164e-01,  1.18540823e-02, -6.36752844e-02,\n         5.66131622e-03, -3.62385735e-02, -2.07816400e-02,\n        -4.15286794e-02, -1.30400196e-01,  1.41537443e-01,\n        -5.29739261e-02, -3.89781445e-02, -3.70377079e-02,\n        -4.71390784e-03,  4.21827212e-02, -1.09782018e-01,\n        -5.76747470e-02, -5.60453646e-02,  8.00373107e-02,\n         7.39950836e-02, -3.57566737e-02,  6.14353716e-02]], dtype=float32)"
     },
     "metadata": {},
     "execution_count": 44
    }
   ],
   "source": [
    "# try out model\n",
    "normed_train_data.tail()\n",
    "example_batch = normed_train_data[-2:]\n",
    "\n",
    "example_result = model.predict(example_batch)\n",
    "example_result"
   ]
  },
  {
   "cell_type": "code",
   "execution_count": 45,
   "metadata": {},
   "outputs": [
    {
     "output_type": "stream",
     "name": "stdout",
     "text": "\nEpoch: 0, loss:nan,  mean_squared_error:nan,  val_loss:nan,  val_mean_squared_error:nan,  \n."
    },
    {
     "output_type": "error",
     "ename": "KeyboardInterrupt",
     "evalue": "",
     "traceback": [
      "\u001b[1;31m---------------------------------------------------------------------------\u001b[0m",
      "\u001b[1;31mKeyboardInterrupt\u001b[0m                         Traceback (most recent call last)",
      "\u001b[1;32m<ipython-input-45-c7f86228dec7>\u001b[0m in \u001b[0;36m<module>\u001b[1;34m\u001b[0m\n\u001b[0;32m      9\u001b[0m \u001b[1;31m#                     callbacks=[early_stop, tfdocs.modeling.EpochDots()])\u001b[0m\u001b[1;33m\u001b[0m\u001b[1;33m\u001b[0m\u001b[1;33m\u001b[0m\u001b[0m\n\u001b[0;32m     10\u001b[0m \u001b[1;33m\u001b[0m\u001b[0m\n\u001b[1;32m---> 11\u001b[1;33m history = model.fit(\n\u001b[0m\u001b[0;32m     12\u001b[0m   \u001b[0mnormed_train_data\u001b[0m\u001b[1;33m,\u001b[0m\u001b[1;33m\u001b[0m\u001b[1;33m\u001b[0m\u001b[0m\n\u001b[0;32m     13\u001b[0m   \u001b[0mtrain_labels\u001b[0m\u001b[1;33m,\u001b[0m\u001b[1;33m\u001b[0m\u001b[1;33m\u001b[0m\u001b[0m\n",
      "\u001b[1;32mC:\\Python38\\lib\\site-packages\\tensorflow\\python\\keras\\engine\\training.py\u001b[0m in \u001b[0;36m_method_wrapper\u001b[1;34m(self, *args, **kwargs)\u001b[0m\n\u001b[0;32m     64\u001b[0m   \u001b[1;32mdef\u001b[0m \u001b[0m_method_wrapper\u001b[0m\u001b[1;33m(\u001b[0m\u001b[0mself\u001b[0m\u001b[1;33m,\u001b[0m \u001b[1;33m*\u001b[0m\u001b[0margs\u001b[0m\u001b[1;33m,\u001b[0m \u001b[1;33m**\u001b[0m\u001b[0mkwargs\u001b[0m\u001b[1;33m)\u001b[0m\u001b[1;33m:\u001b[0m\u001b[1;33m\u001b[0m\u001b[1;33m\u001b[0m\u001b[0m\n\u001b[0;32m     65\u001b[0m     \u001b[1;32mif\u001b[0m \u001b[1;32mnot\u001b[0m \u001b[0mself\u001b[0m\u001b[1;33m.\u001b[0m\u001b[0m_in_multi_worker_mode\u001b[0m\u001b[1;33m(\u001b[0m\u001b[1;33m)\u001b[0m\u001b[1;33m:\u001b[0m  \u001b[1;31m# pylint: disable=protected-access\u001b[0m\u001b[1;33m\u001b[0m\u001b[1;33m\u001b[0m\u001b[0m\n\u001b[1;32m---> 66\u001b[1;33m       \u001b[1;32mreturn\u001b[0m \u001b[0mmethod\u001b[0m\u001b[1;33m(\u001b[0m\u001b[0mself\u001b[0m\u001b[1;33m,\u001b[0m \u001b[1;33m*\u001b[0m\u001b[0margs\u001b[0m\u001b[1;33m,\u001b[0m \u001b[1;33m**\u001b[0m\u001b[0mkwargs\u001b[0m\u001b[1;33m)\u001b[0m\u001b[1;33m\u001b[0m\u001b[1;33m\u001b[0m\u001b[0m\n\u001b[0m\u001b[0;32m     67\u001b[0m \u001b[1;33m\u001b[0m\u001b[0m\n\u001b[0;32m     68\u001b[0m     \u001b[1;31m# Running inside `run_distribute_coordinator` already.\u001b[0m\u001b[1;33m\u001b[0m\u001b[1;33m\u001b[0m\u001b[1;33m\u001b[0m\u001b[0m\n",
      "\u001b[1;32mC:\\Python38\\lib\\site-packages\\tensorflow\\python\\keras\\engine\\training.py\u001b[0m in \u001b[0;36mfit\u001b[1;34m(self, x, y, batch_size, epochs, verbose, callbacks, validation_split, validation_data, shuffle, class_weight, sample_weight, initial_epoch, steps_per_epoch, validation_steps, validation_batch_size, validation_freq, max_queue_size, workers, use_multiprocessing)\u001b[0m\n\u001b[0;32m    860\u001b[0m           val_x, val_y, val_sample_weight = (\n\u001b[0;32m    861\u001b[0m               data_adapter.unpack_x_y_sample_weight(validation_data))\n\u001b[1;32m--> 862\u001b[1;33m           val_logs = self.evaluate(\n\u001b[0m\u001b[0;32m    863\u001b[0m               \u001b[0mx\u001b[0m\u001b[1;33m=\u001b[0m\u001b[0mval_x\u001b[0m\u001b[1;33m,\u001b[0m\u001b[1;33m\u001b[0m\u001b[1;33m\u001b[0m\u001b[0m\n\u001b[0;32m    864\u001b[0m               \u001b[0my\u001b[0m\u001b[1;33m=\u001b[0m\u001b[0mval_y\u001b[0m\u001b[1;33m,\u001b[0m\u001b[1;33m\u001b[0m\u001b[1;33m\u001b[0m\u001b[0m\n",
      "\u001b[1;32mC:\\Python38\\lib\\site-packages\\tensorflow\\python\\keras\\engine\\training.py\u001b[0m in \u001b[0;36m_method_wrapper\u001b[1;34m(self, *args, **kwargs)\u001b[0m\n\u001b[0;32m     64\u001b[0m   \u001b[1;32mdef\u001b[0m \u001b[0m_method_wrapper\u001b[0m\u001b[1;33m(\u001b[0m\u001b[0mself\u001b[0m\u001b[1;33m,\u001b[0m \u001b[1;33m*\u001b[0m\u001b[0margs\u001b[0m\u001b[1;33m,\u001b[0m \u001b[1;33m**\u001b[0m\u001b[0mkwargs\u001b[0m\u001b[1;33m)\u001b[0m\u001b[1;33m:\u001b[0m\u001b[1;33m\u001b[0m\u001b[1;33m\u001b[0m\u001b[0m\n\u001b[0;32m     65\u001b[0m     \u001b[1;32mif\u001b[0m \u001b[1;32mnot\u001b[0m \u001b[0mself\u001b[0m\u001b[1;33m.\u001b[0m\u001b[0m_in_multi_worker_mode\u001b[0m\u001b[1;33m(\u001b[0m\u001b[1;33m)\u001b[0m\u001b[1;33m:\u001b[0m  \u001b[1;31m# pylint: disable=protected-access\u001b[0m\u001b[1;33m\u001b[0m\u001b[1;33m\u001b[0m\u001b[0m\n\u001b[1;32m---> 66\u001b[1;33m       \u001b[1;32mreturn\u001b[0m \u001b[0mmethod\u001b[0m\u001b[1;33m(\u001b[0m\u001b[0mself\u001b[0m\u001b[1;33m,\u001b[0m \u001b[1;33m*\u001b[0m\u001b[0margs\u001b[0m\u001b[1;33m,\u001b[0m \u001b[1;33m**\u001b[0m\u001b[0mkwargs\u001b[0m\u001b[1;33m)\u001b[0m\u001b[1;33m\u001b[0m\u001b[1;33m\u001b[0m\u001b[0m\n\u001b[0m\u001b[0;32m     67\u001b[0m \u001b[1;33m\u001b[0m\u001b[0m\n\u001b[0;32m     68\u001b[0m     \u001b[1;31m# Running inside `run_distribute_coordinator` already.\u001b[0m\u001b[1;33m\u001b[0m\u001b[1;33m\u001b[0m\u001b[1;33m\u001b[0m\u001b[0m\n",
      "\u001b[1;32mC:\\Python38\\lib\\site-packages\\tensorflow\\python\\keras\\engine\\training.py\u001b[0m in \u001b[0;36mevaluate\u001b[1;34m(self, x, y, batch_size, verbose, sample_weight, steps, callbacks, max_queue_size, workers, use_multiprocessing, return_dict)\u001b[0m\n\u001b[0;32m   1079\u001b[0m                 step_num=step):\n\u001b[0;32m   1080\u001b[0m               \u001b[0mcallbacks\u001b[0m\u001b[1;33m.\u001b[0m\u001b[0mon_test_batch_begin\u001b[0m\u001b[1;33m(\u001b[0m\u001b[0mstep\u001b[0m\u001b[1;33m)\u001b[0m\u001b[1;33m\u001b[0m\u001b[1;33m\u001b[0m\u001b[0m\n\u001b[1;32m-> 1081\u001b[1;33m               \u001b[0mtmp_logs\u001b[0m \u001b[1;33m=\u001b[0m \u001b[0mtest_function\u001b[0m\u001b[1;33m(\u001b[0m\u001b[0miterator\u001b[0m\u001b[1;33m)\u001b[0m\u001b[1;33m\u001b[0m\u001b[1;33m\u001b[0m\u001b[0m\n\u001b[0m\u001b[0;32m   1082\u001b[0m               \u001b[1;31m# Catch OutOfRangeError for Datasets of unknown size.\u001b[0m\u001b[1;33m\u001b[0m\u001b[1;33m\u001b[0m\u001b[1;33m\u001b[0m\u001b[0m\n\u001b[0;32m   1083\u001b[0m               \u001b[1;31m# This blocks until the batch has finished executing.\u001b[0m\u001b[1;33m\u001b[0m\u001b[1;33m\u001b[0m\u001b[1;33m\u001b[0m\u001b[0m\n",
      "\u001b[1;32mC:\\Python38\\lib\\site-packages\\tensorflow\\python\\eager\\def_function.py\u001b[0m in \u001b[0;36m__call__\u001b[1;34m(self, *args, **kwds)\u001b[0m\n\u001b[0;32m    578\u001b[0m         \u001b[0mxla_context\u001b[0m\u001b[1;33m.\u001b[0m\u001b[0mExit\u001b[0m\u001b[1;33m(\u001b[0m\u001b[1;33m)\u001b[0m\u001b[1;33m\u001b[0m\u001b[1;33m\u001b[0m\u001b[0m\n\u001b[0;32m    579\u001b[0m     \u001b[1;32melse\u001b[0m\u001b[1;33m:\u001b[0m\u001b[1;33m\u001b[0m\u001b[1;33m\u001b[0m\u001b[0m\n\u001b[1;32m--> 580\u001b[1;33m       \u001b[0mresult\u001b[0m \u001b[1;33m=\u001b[0m \u001b[0mself\u001b[0m\u001b[1;33m.\u001b[0m\u001b[0m_call\u001b[0m\u001b[1;33m(\u001b[0m\u001b[1;33m*\u001b[0m\u001b[0margs\u001b[0m\u001b[1;33m,\u001b[0m \u001b[1;33m**\u001b[0m\u001b[0mkwds\u001b[0m\u001b[1;33m)\u001b[0m\u001b[1;33m\u001b[0m\u001b[1;33m\u001b[0m\u001b[0m\n\u001b[0m\u001b[0;32m    581\u001b[0m \u001b[1;33m\u001b[0m\u001b[0m\n\u001b[0;32m    582\u001b[0m     \u001b[1;32mif\u001b[0m \u001b[0mtracing_count\u001b[0m \u001b[1;33m==\u001b[0m \u001b[0mself\u001b[0m\u001b[1;33m.\u001b[0m\u001b[0m_get_tracing_count\u001b[0m\u001b[1;33m(\u001b[0m\u001b[1;33m)\u001b[0m\u001b[1;33m:\u001b[0m\u001b[1;33m\u001b[0m\u001b[1;33m\u001b[0m\u001b[0m\n",
      "\u001b[1;32mC:\\Python38\\lib\\site-packages\\tensorflow\\python\\eager\\def_function.py\u001b[0m in \u001b[0;36m_call\u001b[1;34m(self, *args, **kwds)\u001b[0m\n\u001b[0;32m    616\u001b[0m       \u001b[1;31m# In this case we have not created variables on the first call. So we can\u001b[0m\u001b[1;33m\u001b[0m\u001b[1;33m\u001b[0m\u001b[1;33m\u001b[0m\u001b[0m\n\u001b[0;32m    617\u001b[0m       \u001b[1;31m# run the first trace but we should fail if variables are created.\u001b[0m\u001b[1;33m\u001b[0m\u001b[1;33m\u001b[0m\u001b[1;33m\u001b[0m\u001b[0m\n\u001b[1;32m--> 618\u001b[1;33m       \u001b[0mresults\u001b[0m \u001b[1;33m=\u001b[0m \u001b[0mself\u001b[0m\u001b[1;33m.\u001b[0m\u001b[0m_stateful_fn\u001b[0m\u001b[1;33m(\u001b[0m\u001b[1;33m*\u001b[0m\u001b[0margs\u001b[0m\u001b[1;33m,\u001b[0m \u001b[1;33m**\u001b[0m\u001b[0mkwds\u001b[0m\u001b[1;33m)\u001b[0m\u001b[1;33m\u001b[0m\u001b[1;33m\u001b[0m\u001b[0m\n\u001b[0m\u001b[0;32m    619\u001b[0m       \u001b[1;32mif\u001b[0m \u001b[0mself\u001b[0m\u001b[1;33m.\u001b[0m\u001b[0m_created_variables\u001b[0m\u001b[1;33m:\u001b[0m\u001b[1;33m\u001b[0m\u001b[1;33m\u001b[0m\u001b[0m\n\u001b[0;32m    620\u001b[0m         raise ValueError(\"Creating variables on a non-first call to a function\"\n",
      "\u001b[1;32mC:\\Python38\\lib\\site-packages\\tensorflow\\python\\eager\\function.py\u001b[0m in \u001b[0;36m__call__\u001b[1;34m(self, *args, **kwargs)\u001b[0m\n\u001b[0;32m   2418\u001b[0m     \u001b[1;32mwith\u001b[0m \u001b[0mself\u001b[0m\u001b[1;33m.\u001b[0m\u001b[0m_lock\u001b[0m\u001b[1;33m:\u001b[0m\u001b[1;33m\u001b[0m\u001b[1;33m\u001b[0m\u001b[0m\n\u001b[0;32m   2419\u001b[0m       \u001b[0mgraph_function\u001b[0m\u001b[1;33m,\u001b[0m \u001b[0margs\u001b[0m\u001b[1;33m,\u001b[0m \u001b[0mkwargs\u001b[0m \u001b[1;33m=\u001b[0m \u001b[0mself\u001b[0m\u001b[1;33m.\u001b[0m\u001b[0m_maybe_define_function\u001b[0m\u001b[1;33m(\u001b[0m\u001b[0margs\u001b[0m\u001b[1;33m,\u001b[0m \u001b[0mkwargs\u001b[0m\u001b[1;33m)\u001b[0m\u001b[1;33m\u001b[0m\u001b[1;33m\u001b[0m\u001b[0m\n\u001b[1;32m-> 2420\u001b[1;33m     \u001b[1;32mreturn\u001b[0m \u001b[0mgraph_function\u001b[0m\u001b[1;33m.\u001b[0m\u001b[0m_filtered_call\u001b[0m\u001b[1;33m(\u001b[0m\u001b[0margs\u001b[0m\u001b[1;33m,\u001b[0m \u001b[0mkwargs\u001b[0m\u001b[1;33m)\u001b[0m  \u001b[1;31m# pylint: disable=protected-access\u001b[0m\u001b[1;33m\u001b[0m\u001b[1;33m\u001b[0m\u001b[0m\n\u001b[0m\u001b[0;32m   2421\u001b[0m \u001b[1;33m\u001b[0m\u001b[0m\n\u001b[0;32m   2422\u001b[0m   \u001b[1;33m@\u001b[0m\u001b[0mproperty\u001b[0m\u001b[1;33m\u001b[0m\u001b[1;33m\u001b[0m\u001b[0m\n",
      "\u001b[1;32mC:\\Python38\\lib\\site-packages\\tensorflow\\python\\eager\\function.py\u001b[0m in \u001b[0;36m_filtered_call\u001b[1;34m(self, args, kwargs)\u001b[0m\n\u001b[0;32m   1659\u001b[0m       \u001b[0;31m`\u001b[0m\u001b[0margs\u001b[0m\u001b[0;31m`\u001b[0m \u001b[1;32mand\u001b[0m\u001b[0;31m \u001b[0m\u001b[0;31m`\u001b[0m\u001b[0mkwargs\u001b[0m\u001b[0;31m`\u001b[0m\u001b[1;33m.\u001b[0m\u001b[1;33m\u001b[0m\u001b[1;33m\u001b[0m\u001b[0m\n\u001b[0;32m   1660\u001b[0m     \"\"\"\n\u001b[1;32m-> 1661\u001b[1;33m     return self._call_flat(\n\u001b[0m\u001b[0;32m   1662\u001b[0m         (t for t in nest.flatten((args, kwargs), expand_composites=True)\n\u001b[0;32m   1663\u001b[0m          if isinstance(t, (ops.Tensor,\n",
      "\u001b[1;32mC:\\Python38\\lib\\site-packages\\tensorflow\\python\\eager\\function.py\u001b[0m in \u001b[0;36m_call_flat\u001b[1;34m(self, args, captured_inputs, cancellation_manager)\u001b[0m\n\u001b[0;32m   1743\u001b[0m         and executing_eagerly):\n\u001b[0;32m   1744\u001b[0m       \u001b[1;31m# No tape is watching; skip to running the function.\u001b[0m\u001b[1;33m\u001b[0m\u001b[1;33m\u001b[0m\u001b[1;33m\u001b[0m\u001b[0m\n\u001b[1;32m-> 1745\u001b[1;33m       return self._build_call_outputs(self._inference_function.call(\n\u001b[0m\u001b[0;32m   1746\u001b[0m           ctx, args, cancellation_manager=cancellation_manager))\n\u001b[0;32m   1747\u001b[0m     forward_backward = self._select_forward_and_backward_functions(\n",
      "\u001b[1;32mC:\\Python38\\lib\\site-packages\\tensorflow\\python\\eager\\function.py\u001b[0m in \u001b[0;36mcall\u001b[1;34m(self, ctx, args, cancellation_manager)\u001b[0m\n\u001b[0;32m    591\u001b[0m       \u001b[1;32mwith\u001b[0m \u001b[0m_InterpolateFunctionError\u001b[0m\u001b[1;33m(\u001b[0m\u001b[0mself\u001b[0m\u001b[1;33m)\u001b[0m\u001b[1;33m:\u001b[0m\u001b[1;33m\u001b[0m\u001b[1;33m\u001b[0m\u001b[0m\n\u001b[0;32m    592\u001b[0m         \u001b[1;32mif\u001b[0m \u001b[0mcancellation_manager\u001b[0m \u001b[1;32mis\u001b[0m \u001b[1;32mNone\u001b[0m\u001b[1;33m:\u001b[0m\u001b[1;33m\u001b[0m\u001b[1;33m\u001b[0m\u001b[0m\n\u001b[1;32m--> 593\u001b[1;33m           outputs = execute.execute(\n\u001b[0m\u001b[0;32m    594\u001b[0m               \u001b[0mstr\u001b[0m\u001b[1;33m(\u001b[0m\u001b[0mself\u001b[0m\u001b[1;33m.\u001b[0m\u001b[0msignature\u001b[0m\u001b[1;33m.\u001b[0m\u001b[0mname\u001b[0m\u001b[1;33m)\u001b[0m\u001b[1;33m,\u001b[0m\u001b[1;33m\u001b[0m\u001b[1;33m\u001b[0m\u001b[0m\n\u001b[0;32m    595\u001b[0m               \u001b[0mnum_outputs\u001b[0m\u001b[1;33m=\u001b[0m\u001b[0mself\u001b[0m\u001b[1;33m.\u001b[0m\u001b[0m_num_outputs\u001b[0m\u001b[1;33m,\u001b[0m\u001b[1;33m\u001b[0m\u001b[1;33m\u001b[0m\u001b[0m\n",
      "\u001b[1;32mC:\\Python38\\lib\\site-packages\\tensorflow\\python\\eager\\execute.py\u001b[0m in \u001b[0;36mquick_execute\u001b[1;34m(op_name, num_outputs, inputs, attrs, ctx, name)\u001b[0m\n\u001b[0;32m     57\u001b[0m   \u001b[1;32mtry\u001b[0m\u001b[1;33m:\u001b[0m\u001b[1;33m\u001b[0m\u001b[1;33m\u001b[0m\u001b[0m\n\u001b[0;32m     58\u001b[0m     \u001b[0mctx\u001b[0m\u001b[1;33m.\u001b[0m\u001b[0mensure_initialized\u001b[0m\u001b[1;33m(\u001b[0m\u001b[1;33m)\u001b[0m\u001b[1;33m\u001b[0m\u001b[1;33m\u001b[0m\u001b[0m\n\u001b[1;32m---> 59\u001b[1;33m     tensors = pywrap_tfe.TFE_Py_Execute(ctx._handle, device_name, op_name,\n\u001b[0m\u001b[0;32m     60\u001b[0m                                         inputs, attrs, num_outputs)\n\u001b[0;32m     61\u001b[0m   \u001b[1;32mexcept\u001b[0m \u001b[0mcore\u001b[0m\u001b[1;33m.\u001b[0m\u001b[0m_NotOkStatusException\u001b[0m \u001b[1;32mas\u001b[0m \u001b[0me\u001b[0m\u001b[1;33m:\u001b[0m\u001b[1;33m\u001b[0m\u001b[1;33m\u001b[0m\u001b[0m\n",
      "\u001b[1;31mKeyboardInterrupt\u001b[0m: "
     ]
    }
   ],
   "source": [
    "# train model based on epochs\n",
    "EPOCHS = 1000\n",
    "\n",
    "# # The patience parameter is the amount of epochs to check for improvement\n",
    "# early_stop = keras.callbacks.EarlyStopping(monitor='val_loss', patience=10)\n",
    "\n",
    "# early_history = model.fit(normed_train_data, train_labels, \n",
    "#                     epochs=EPOCHS, validation_split = 0.2, verbose=0, \n",
    "#                     callbacks=[early_stop, tfdocs.modeling.EpochDots()])\n",
    "\n",
    "history = model.fit(\n",
    "  normed_train_data, \n",
    "  train_labels,\n",
    "  epochs=EPOCHS, \n",
    "  validation_split = 0.2, \n",
    "  verbose=0,\n",
    "  callbacks=[tfdocs.modeling.EpochDots()]\n",
    "  )"
   ]
  },
  {
   "cell_type": "code",
   "execution_count": 23,
   "metadata": {},
   "outputs": [
    {
     "output_type": "error",
     "ename": "ValueError",
     "evalue": "x and y must have same first dimension, but have shapes (10,) and (17,)",
     "traceback": [
      "\u001b[1;31m---------------------------------------------------------------------------\u001b[0m",
      "\u001b[1;31mValueError\u001b[0m                                Traceback (most recent call last)",
      "\u001b[1;32m<ipython-input-23-b1bd92c2b893>\u001b[0m in \u001b[0;36m<module>\u001b[1;34m\u001b[0m\n\u001b[0;32m      6\u001b[0m \u001b[1;33m\u001b[0m\u001b[0m\n\u001b[0;32m      7\u001b[0m \u001b[0mplotter\u001b[0m \u001b[1;33m=\u001b[0m \u001b[0mtfdocs\u001b[0m\u001b[1;33m.\u001b[0m\u001b[0mplots\u001b[0m\u001b[1;33m.\u001b[0m\u001b[0mHistoryPlotter\u001b[0m\u001b[1;33m(\u001b[0m\u001b[0msmoothing_std\u001b[0m\u001b[1;33m=\u001b[0m\u001b[1;36m2\u001b[0m\u001b[1;33m)\u001b[0m\u001b[1;33m\u001b[0m\u001b[1;33m\u001b[0m\u001b[0m\n\u001b[1;32m----> 8\u001b[1;33m \u001b[0mplotter\u001b[0m\u001b[1;33m.\u001b[0m\u001b[0mplot\u001b[0m\u001b[1;33m(\u001b[0m\u001b[1;33m{\u001b[0m\u001b[1;34m'Early Stopping'\u001b[0m\u001b[1;33m:\u001b[0m \u001b[0mearly_history\u001b[0m\u001b[1;33m}\u001b[0m\u001b[1;33m,\u001b[0m \u001b[0mmetric\u001b[0m \u001b[1;33m=\u001b[0m \u001b[1;34m\"mae\"\u001b[0m\u001b[1;33m)\u001b[0m\u001b[1;33m\u001b[0m\u001b[1;33m\u001b[0m\u001b[0m\n\u001b[0m\u001b[0;32m      9\u001b[0m \u001b[0mplt\u001b[0m\u001b[1;33m.\u001b[0m\u001b[0mylim\u001b[0m\u001b[1;33m(\u001b[0m\u001b[1;33m[\u001b[0m\u001b[1;36m0\u001b[0m\u001b[1;33m,\u001b[0m \u001b[1;36m10\u001b[0m\u001b[1;33m]\u001b[0m\u001b[1;33m)\u001b[0m\u001b[1;33m\u001b[0m\u001b[1;33m\u001b[0m\u001b[0m\n\u001b[0;32m     10\u001b[0m \u001b[0mplt\u001b[0m\u001b[1;33m.\u001b[0m\u001b[0mylabel\u001b[0m\u001b[1;33m(\u001b[0m\u001b[1;34m'MAE [MPG]'\u001b[0m\u001b[1;33m)\u001b[0m\u001b[1;33m\u001b[0m\u001b[1;33m\u001b[0m\u001b[0m\n",
      "\u001b[1;32mC:\\Python38\\lib\\site-packages\\tensorflow_docs\\plots\\__init__.py\u001b[0m in \u001b[0;36mplot\u001b[1;34m(self, histories, metric, smoothing_std)\u001b[0m\n\u001b[0;32m     92\u001b[0m         \u001b[0mval_value\u001b[0m \u001b[1;33m=\u001b[0m \u001b[0m_smooth\u001b[0m\u001b[1;33m(\u001b[0m\u001b[0mval_value\u001b[0m\u001b[1;33m,\u001b[0m \u001b[0mstd\u001b[0m\u001b[1;33m=\u001b[0m\u001b[0msmoothing_std\u001b[0m\u001b[1;33m)\u001b[0m\u001b[1;33m\u001b[0m\u001b[1;33m\u001b[0m\u001b[0m\n\u001b[0;32m     93\u001b[0m \u001b[1;33m\u001b[0m\u001b[0m\n\u001b[1;32m---> 94\u001b[1;33m       plt.plot(\n\u001b[0m\u001b[0;32m     95\u001b[0m           \u001b[0mhistory\u001b[0m\u001b[1;33m.\u001b[0m\u001b[0mepoch\u001b[0m\u001b[1;33m,\u001b[0m\u001b[1;33m\u001b[0m\u001b[1;33m\u001b[0m\u001b[0m\n\u001b[0;32m     96\u001b[0m           \u001b[0mtrain_value\u001b[0m\u001b[1;33m,\u001b[0m\u001b[1;33m\u001b[0m\u001b[1;33m\u001b[0m\u001b[0m\n",
      "\u001b[1;32mC:\\Python38\\lib\\site-packages\\matplotlib\\pyplot.py\u001b[0m in \u001b[0;36mplot\u001b[1;34m(scalex, scaley, data, *args, **kwargs)\u001b[0m\n\u001b[0;32m   2759\u001b[0m \u001b[1;33m@\u001b[0m\u001b[0mdocstring\u001b[0m\u001b[1;33m.\u001b[0m\u001b[0mcopy\u001b[0m\u001b[1;33m(\u001b[0m\u001b[0mAxes\u001b[0m\u001b[1;33m.\u001b[0m\u001b[0mplot\u001b[0m\u001b[1;33m)\u001b[0m\u001b[1;33m\u001b[0m\u001b[1;33m\u001b[0m\u001b[0m\n\u001b[0;32m   2760\u001b[0m \u001b[1;32mdef\u001b[0m \u001b[0mplot\u001b[0m\u001b[1;33m(\u001b[0m\u001b[1;33m*\u001b[0m\u001b[0margs\u001b[0m\u001b[1;33m,\u001b[0m \u001b[0mscalex\u001b[0m\u001b[1;33m=\u001b[0m\u001b[1;32mTrue\u001b[0m\u001b[1;33m,\u001b[0m \u001b[0mscaley\u001b[0m\u001b[1;33m=\u001b[0m\u001b[1;32mTrue\u001b[0m\u001b[1;33m,\u001b[0m \u001b[0mdata\u001b[0m\u001b[1;33m=\u001b[0m\u001b[1;32mNone\u001b[0m\u001b[1;33m,\u001b[0m \u001b[1;33m**\u001b[0m\u001b[0mkwargs\u001b[0m\u001b[1;33m)\u001b[0m\u001b[1;33m:\u001b[0m\u001b[1;33m\u001b[0m\u001b[1;33m\u001b[0m\u001b[0m\n\u001b[1;32m-> 2761\u001b[1;33m     return gca().plot(\n\u001b[0m\u001b[0;32m   2762\u001b[0m         *args, scalex=scalex, scaley=scaley, **({\"data\": data} if data\n\u001b[0;32m   2763\u001b[0m         is not None else {}), **kwargs)\n",
      "\u001b[1;32mC:\\Python38\\lib\\site-packages\\matplotlib\\axes\\_axes.py\u001b[0m in \u001b[0;36mplot\u001b[1;34m(self, scalex, scaley, data, *args, **kwargs)\u001b[0m\n\u001b[0;32m   1644\u001b[0m         \"\"\"\n\u001b[0;32m   1645\u001b[0m         \u001b[0mkwargs\u001b[0m \u001b[1;33m=\u001b[0m \u001b[0mcbook\u001b[0m\u001b[1;33m.\u001b[0m\u001b[0mnormalize_kwargs\u001b[0m\u001b[1;33m(\u001b[0m\u001b[0mkwargs\u001b[0m\u001b[1;33m,\u001b[0m \u001b[0mmlines\u001b[0m\u001b[1;33m.\u001b[0m\u001b[0mLine2D\u001b[0m\u001b[1;33m)\u001b[0m\u001b[1;33m\u001b[0m\u001b[1;33m\u001b[0m\u001b[0m\n\u001b[1;32m-> 1646\u001b[1;33m         \u001b[0mlines\u001b[0m \u001b[1;33m=\u001b[0m \u001b[1;33m[\u001b[0m\u001b[1;33m*\u001b[0m\u001b[0mself\u001b[0m\u001b[1;33m.\u001b[0m\u001b[0m_get_lines\u001b[0m\u001b[1;33m(\u001b[0m\u001b[1;33m*\u001b[0m\u001b[0margs\u001b[0m\u001b[1;33m,\u001b[0m \u001b[0mdata\u001b[0m\u001b[1;33m=\u001b[0m\u001b[0mdata\u001b[0m\u001b[1;33m,\u001b[0m \u001b[1;33m**\u001b[0m\u001b[0mkwargs\u001b[0m\u001b[1;33m)\u001b[0m\u001b[1;33m]\u001b[0m\u001b[1;33m\u001b[0m\u001b[1;33m\u001b[0m\u001b[0m\n\u001b[0m\u001b[0;32m   1647\u001b[0m         \u001b[1;32mfor\u001b[0m \u001b[0mline\u001b[0m \u001b[1;32min\u001b[0m \u001b[0mlines\u001b[0m\u001b[1;33m:\u001b[0m\u001b[1;33m\u001b[0m\u001b[1;33m\u001b[0m\u001b[0m\n\u001b[0;32m   1648\u001b[0m             \u001b[0mself\u001b[0m\u001b[1;33m.\u001b[0m\u001b[0madd_line\u001b[0m\u001b[1;33m(\u001b[0m\u001b[0mline\u001b[0m\u001b[1;33m)\u001b[0m\u001b[1;33m\u001b[0m\u001b[1;33m\u001b[0m\u001b[0m\n",
      "\u001b[1;32mC:\\Python38\\lib\\site-packages\\matplotlib\\axes\\_base.py\u001b[0m in \u001b[0;36m__call__\u001b[1;34m(self, *args, **kwargs)\u001b[0m\n\u001b[0;32m    214\u001b[0m                 \u001b[0mthis\u001b[0m \u001b[1;33m+=\u001b[0m \u001b[0margs\u001b[0m\u001b[1;33m[\u001b[0m\u001b[1;36m0\u001b[0m\u001b[1;33m]\u001b[0m\u001b[1;33m,\u001b[0m\u001b[1;33m\u001b[0m\u001b[1;33m\u001b[0m\u001b[0m\n\u001b[0;32m    215\u001b[0m                 \u001b[0margs\u001b[0m \u001b[1;33m=\u001b[0m \u001b[0margs\u001b[0m\u001b[1;33m[\u001b[0m\u001b[1;36m1\u001b[0m\u001b[1;33m:\u001b[0m\u001b[1;33m]\u001b[0m\u001b[1;33m\u001b[0m\u001b[1;33m\u001b[0m\u001b[0m\n\u001b[1;32m--> 216\u001b[1;33m             \u001b[1;32myield\u001b[0m \u001b[1;32mfrom\u001b[0m \u001b[0mself\u001b[0m\u001b[1;33m.\u001b[0m\u001b[0m_plot_args\u001b[0m\u001b[1;33m(\u001b[0m\u001b[0mthis\u001b[0m\u001b[1;33m,\u001b[0m \u001b[0mkwargs\u001b[0m\u001b[1;33m)\u001b[0m\u001b[1;33m\u001b[0m\u001b[1;33m\u001b[0m\u001b[0m\n\u001b[0m\u001b[0;32m    217\u001b[0m \u001b[1;33m\u001b[0m\u001b[0m\n\u001b[0;32m    218\u001b[0m     \u001b[1;32mdef\u001b[0m \u001b[0mget_next_color\u001b[0m\u001b[1;33m(\u001b[0m\u001b[0mself\u001b[0m\u001b[1;33m)\u001b[0m\u001b[1;33m:\u001b[0m\u001b[1;33m\u001b[0m\u001b[1;33m\u001b[0m\u001b[0m\n",
      "\u001b[1;32mC:\\Python38\\lib\\site-packages\\matplotlib\\axes\\_base.py\u001b[0m in \u001b[0;36m_plot_args\u001b[1;34m(self, tup, kwargs)\u001b[0m\n\u001b[0;32m    340\u001b[0m \u001b[1;33m\u001b[0m\u001b[0m\n\u001b[0;32m    341\u001b[0m         \u001b[1;32mif\u001b[0m \u001b[0mx\u001b[0m\u001b[1;33m.\u001b[0m\u001b[0mshape\u001b[0m\u001b[1;33m[\u001b[0m\u001b[1;36m0\u001b[0m\u001b[1;33m]\u001b[0m \u001b[1;33m!=\u001b[0m \u001b[0my\u001b[0m\u001b[1;33m.\u001b[0m\u001b[0mshape\u001b[0m\u001b[1;33m[\u001b[0m\u001b[1;36m0\u001b[0m\u001b[1;33m]\u001b[0m\u001b[1;33m:\u001b[0m\u001b[1;33m\u001b[0m\u001b[1;33m\u001b[0m\u001b[0m\n\u001b[1;32m--> 342\u001b[1;33m             raise ValueError(f\"x and y must have same first dimension, but \"\n\u001b[0m\u001b[0;32m    343\u001b[0m                              f\"have shapes {x.shape} and {y.shape}\")\n\u001b[0;32m    344\u001b[0m         \u001b[1;32mif\u001b[0m \u001b[0mx\u001b[0m\u001b[1;33m.\u001b[0m\u001b[0mndim\u001b[0m \u001b[1;33m>\u001b[0m \u001b[1;36m2\u001b[0m \u001b[1;32mor\u001b[0m \u001b[0my\u001b[0m\u001b[1;33m.\u001b[0m\u001b[0mndim\u001b[0m \u001b[1;33m>\u001b[0m \u001b[1;36m2\u001b[0m\u001b[1;33m:\u001b[0m\u001b[1;33m\u001b[0m\u001b[1;33m\u001b[0m\u001b[0m\n",
      "\u001b[1;31mValueError\u001b[0m: x and y must have same first dimension, but have shapes (10,) and (17,)"
     ]
    }
   ],
   "source": [
    "# visualize history\n",
    "\n",
    "hist = pd.DataFrame(early_history.history)\n",
    "hist['epoch'] = early_history.epoch\n",
    "hist.tail()\n",
    "\n",
    "plotter = tfdocs.plots.HistoryPlotter(smoothing_std=2)\n",
    "plotter.plot({'Early Stopping': early_history}, metric = \"mae\")\n",
    "plt.ylim([0, 10])\n",
    "plt.ylabel('MAE [MPG]')"
   ]
  },
  {
   "cell_type": "code",
   "execution_count": null,
   "metadata": {},
   "outputs": [],
   "source": [
    "# evaluate model based on testing data\n",
    "\n",
    "loss, mae, mse = model.evaluate(normed_test_data, test_labels, verbose=2)\n",
    "\n",
    "print(\"Testing set Mean Abs Error: {:5.2f} MPG\".format(mae))"
   ]
  },
  {
   "cell_type": "code",
   "execution_count": null,
   "metadata": {},
   "outputs": [],
   "source": []
  }
 ],
 "metadata": {
  "language_info": {
   "codemirror_mode": {
    "name": "ipython",
    "version": 3
   },
   "file_extension": ".py",
   "mimetype": "text/x-python",
   "name": "python",
   "nbconvert_exporter": "python",
   "pygments_lexer": "ipython3",
   "version": "3.8.3-final"
  },
  "orig_nbformat": 2,
  "kernelspec": {
   "name": "python38364bit00c0969f8e19410ca4eb2fb4ece289da",
   "display_name": "Python 3.8.3 64-bit"
  }
 },
 "nbformat": 4,
 "nbformat_minor": 2
}