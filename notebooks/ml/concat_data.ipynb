{
 "cells": [
  {
   "cell_type": "code",
   "execution_count": 1,
   "metadata": {},
   "outputs": [],
   "source": [
    "from os import listdir\n",
    "from os.path import isfile, join, isdir\n",
    "import sys, getopt\n",
    "import subprocess\n",
    "\n",
    "import pandas as pd\n"
   ]
  },
  {
   "cell_type": "code",
   "execution_count": 2,
   "metadata": {},
   "outputs": [
    {
     "output_type": "stream",
     "name": "stdout",
     "text": "-- Getting files\n"
    }
   ],
   "source": [
    "def find_files(path_to_folder, condition=None):\n",
    "\tif (condition):\n",
    "\t\tif (condition[0] == \"fileFormat\"):\n",
    "\t\t\t_l = len(condition[1])\n",
    "\t\t\treturn [(join(path_to_folder,f), f,f[:-_l - 1]) for f in listdir(path_to_folder) if isfile(join(path_to_folder, f)) and f[-_l:] == condition[1]]\n",
    "\t\telse:\n",
    "\t\t\traise(ValueError(\"Condition should be a tuple where the first argument is the condition name and the second is its value\"))\n",
    "\telse:\n",
    "\t\treturn [(join(path_to_folder,f), f, f.rsplit(\".\")[0]) for f in listdir(path_to_folder) if isfile(join(path_to_folder, f))]\n",
    "\n",
    "print(\"-- Getting files\")\n",
    "files = find_files('D:\\Igor\\Research_USF\\Python\\pickleData')"
   ]
  },
  {
   "cell_type": "code",
   "execution_count": 3,
   "metadata": {},
   "outputs": [
    {
     "output_type": "stream",
     "name": "stdout",
     "text": "-- Compiling data\n"
    }
   ],
   "source": [
    "def compile_data(files):\n",
    "  frames = []\n",
    "  for (fp, ff, fn) in files:\n",
    "    ndf = pd.read_pickle(fp)\n",
    "    frames.append(ndf)\n",
    "\n",
    "  df = pd.concat(frames, ignore_index=True)\n",
    "  return df\n",
    "\n",
    "print(\"-- Compiling data\")\n",
    "df = compile_data(files)"
   ]
  },
  {
   "cell_type": "code",
   "execution_count": 4,
   "metadata": {},
   "outputs": [
    {
     "output_type": "stream",
     "name": "stdout",
     "text": "time    1.000000e-03\nx_1    -5.000000e-01\ny_1    -5.000000e-01\nz_1     0.000000e+00\nx_2    -5.000000e-01\ny_2    -5.000000e-01\nz_2     1.000160e+00\nx_3    -5.000000e-01\ny_3     5.000120e-01\nz_3     0.000000e+00\nx_4    -5.000000e-01\ny_4     5.000120e-01\nz_4     1.000160e+00\nx_5     4.998300e-01\ny_5    -5.000000e-01\nz_5     0.000000e+00\nx_6     4.998300e-01\ny_6    -5.000000e-01\nz_6     1.000160e+00\nx_7     4.998300e-01\ny_7     5.000120e-01\nz_7     0.000000e+00\nx_8     4.998300e-01\ny_8     5.000120e-01\nz_8     1.000160e+00\nux_1    0.000000e+00\nuy_1    0.000000e+00\nuz_1    0.000000e+00\nux_2    0.000000e+00\nuy_2    0.000000e+00\nuz_2    1.575250e-04\nux_3    0.000000e+00\nuy_3    1.243420e-05\nuz_3    0.000000e+00\nux_4    0.000000e+00\nuy_4    1.243420e-05\nuz_4    1.575250e-04\nux_5   -1.699330e-04\nuy_5    0.000000e+00\nuz_5    0.000000e+00\nux_6   -1.699330e-04\nuy_6    0.000000e+00\nuz_6    1.575250e-04\nux_7   -1.699330e-04\nuy_7    1.243420e-05\nuz_7    0.000000e+00\nux_8   -1.699330e-04\nuy_8    1.243420e-05\nuz_8    1.575250e-04\nsx      2.265380e-05\nsy     -1.657970e-06\nsz     -2.100680e-05\nsxy     7.331860e-17\nsxz    -5.359270e-17\nsyz    -5.573070e-17\na                NaN\nb                NaN\nName: 0, dtype: float64\n"
    }
   ],
   "source": [
    "print(df.loc[0,:])"
   ]
  },
  {
   "cell_type": "code",
   "execution_count": 5,
   "metadata": {},
   "outputs": [
    {
     "output_type": "stream",
     "name": "stdout",
     "text": "-- Fixing missing parameters\n[1.0, 1.0] [1.0, 1.101123595505618]\n"
    }
   ],
   "source": [
    "print(\"-- Fixing missing parameters\")\n",
    "import csv\n",
    "\n",
    "def load_params_vals(file):\n",
    "\tparams = {}\n",
    "\twith open(file, 'r',newline='') as csvfile:\n",
    "\t\tspamreader = csv.reader(csvfile, delimiter=',', quotechar='|')\n",
    "\t\tfor i, row in enumerate(spamreader):\n",
    "\t\t\tparams[i] = [float(v) for v in row[-1].split(\";\")]\n",
    "\treturn params\n",
    "\n",
    "\n",
    "params = load_params_vals('D:\\Igor\\Research_USF\\Python\\pickleData\\modified_param_log.csv')\n",
    "print(params[0], params[1])"
   ]
  },
  {
   "cell_type": "code",
   "execution_count": 6,
   "metadata": {},
   "outputs": [
    {
     "output_type": "error",
     "ename": "KeyError",
     "evalue": "20951",
     "traceback": [
      "\u001b[1;31m---------------------------------------------------------------------------\u001b[0m",
      "\u001b[1;31mKeyError\u001b[0m                                  Traceback (most recent call last)",
      "\u001b[1;32m<ipython-input-6-af1aac2123fe>\u001b[0m in \u001b[0;36m<module>\u001b[1;34m\u001b[0m\n\u001b[0;32m      1\u001b[0m \u001b[1;32mfor\u001b[0m \u001b[0mindex\u001b[0m\u001b[1;33m,\u001b[0m \u001b[0mrow\u001b[0m \u001b[1;32min\u001b[0m \u001b[0mdf\u001b[0m\u001b[1;33m.\u001b[0m\u001b[0miterrows\u001b[0m\u001b[1;33m(\u001b[0m\u001b[1;33m)\u001b[0m\u001b[1;33m:\u001b[0m\u001b[1;33m\u001b[0m\u001b[1;33m\u001b[0m\u001b[0m\n\u001b[1;32m----> 2\u001b[1;33m     \u001b[0mrow\u001b[0m\u001b[1;33m[\u001b[0m\u001b[1;34m'a'\u001b[0m\u001b[1;33m]\u001b[0m \u001b[1;33m=\u001b[0m \u001b[0mparams\u001b[0m\u001b[1;33m[\u001b[0m\u001b[0mindex\u001b[0m\u001b[1;33m]\u001b[0m\u001b[1;33m[\u001b[0m\u001b[1;36m0\u001b[0m\u001b[1;33m]\u001b[0m\u001b[1;33m\u001b[0m\u001b[1;33m\u001b[0m\u001b[0m\n\u001b[0m\u001b[0;32m      3\u001b[0m     \u001b[0mrow\u001b[0m\u001b[1;33m[\u001b[0m\u001b[1;34m'b'\u001b[0m\u001b[1;33m]\u001b[0m \u001b[1;33m=\u001b[0m \u001b[0mparams\u001b[0m\u001b[1;33m[\u001b[0m\u001b[0mindex\u001b[0m\u001b[1;33m]\u001b[0m\u001b[1;33m[\u001b[0m\u001b[1;36m1\u001b[0m\u001b[1;33m]\u001b[0m\u001b[1;33m\u001b[0m\u001b[1;33m\u001b[0m\u001b[0m\n",
      "\u001b[1;31mKeyError\u001b[0m: 20951"
     ]
    }
   ],
   "source": [
    "for index, row in df.iterrows():\n",
    "    row['a'] = params[index][0]\n",
    "    row['b'] = params[index][1]"
   ]
  },
  {
   "cell_type": "code",
   "execution_count": null,
   "metadata": {},
   "outputs": [],
   "source": []
  }
 ],
 "metadata": {
  "language_info": {
   "codemirror_mode": {
    "name": "ipython",
    "version": 3
   },
   "file_extension": ".py",
   "mimetype": "text/x-python",
   "name": "python",
   "nbconvert_exporter": "python",
   "pygments_lexer": "ipython3",
   "version": "3.8.3-final"
  },
  "orig_nbformat": 2,
  "kernelspec": {
   "name": "python38364bit00c0969f8e19410ca4eb2fb4ece289da",
   "display_name": "Python 3.8.3 64-bit"
  }
 },
 "nbformat": 4,
 "nbformat_minor": 2
}