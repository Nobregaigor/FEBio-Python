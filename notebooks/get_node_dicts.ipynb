{
 "metadata": {
  "language_info": {
   "codemirror_mode": {
    "name": "ipython",
    "version": 3
   },
   "file_extension": ".py",
   "mimetype": "text/x-python",
   "name": "python",
   "nbconvert_exporter": "python",
   "pygments_lexer": "ipython3",
   "version": "3.8.3-final"
  },
  "orig_nbformat": 2,
  "kernelspec": {
   "name": "python_defaultSpec_1601070005765",
   "display_name": "Python 3.8.3 64-bit ('venv')",
   "metadata": {
    "interpreter": {
     "hash": "f7b6484224e350b8389008d91e625eac0a2a85209c0b2ad34193e08db3096308"
    }
   }
  }
 },
 "nbformat": 4,
 "nbformat_minor": 2,
 "cells": [
  {
   "cell_type": "code",
   "execution_count": 1,
   "metadata": {
    "tags": []
   },
   "outputs": [
    {
     "output_type": "stream",
     "name": "stdout",
     "text": "colored from termcolor could not be loaded.\n"
    }
   ],
   "source": [
    "import modules.classes.FEBio_xml_parser as FEBIO_PARSER"
   ]
  },
  {
   "cell_type": "code",
   "execution_count": 2,
   "metadata": {},
   "outputs": [],
   "source": [
    "from os import path\n",
    "\n",
    "file_dir = \"C:/Users/IgorNobrega/Desktop\"\n",
    "\n",
    "file_name = \"myo_hex_8_coarse_PAQ.feb\"\n",
    "\n",
    "file_path = path.join(file_dir, file_name)"
   ]
  },
  {
   "cell_type": "code",
   "execution_count": 3,
   "metadata": {
    "tags": []
   },
   "outputs": [
    {
     "output_type": "stream",
     "name": "stdout",
     "text": "Initializing...\n-Parsing.\n-Rooting.\n-Finding tags.\n--Found: Module.\n--Found: Control.\n--Found: Material.\n--Found: Globals.\n--Found: Geometry.\n--Found: Boundary.\n--Found: Loads.\n--Found: LoadData.\n--Found: Output.\n--Found: MeshData.\n"
    }
   ],
   "source": [
    "FBEIO_obj = FEBIO_PARSER.FEBio_xml_parser(file_path)"
   ]
  },
  {
   "cell_type": "code",
   "execution_count": 4,
   "metadata": {},
   "outputs": [],
   "source": [
    "FEBio_nodests = FBEIO_obj.get_geometry_data(what=[(\"NodeSet\", \"Endocardio\", \"node\"), (\"NodeSet\", \"Epicardio\", \"node\"), (\"NodeSet\", \"Top_surface\", \"node\")])"
   ]
  },
  {
   "cell_type": "code",
   "execution_count": 5,
   "metadata": {},
   "outputs": [],
   "source": [
    "nodes = FEBio_nodests[0]\n",
    "elems = FEBio_nodests[1]\n",
    "endoNodeList = FEBio_nodests[2][\"Endocardio\"]\n",
    "epiNodeList = FEBio_nodests[3][\"Epicardio\"]\n",
    "topNodeList = FEBio_nodests[4][\"Top_surface\"]\n"
   ]
  },
  {
   "cell_type": "code",
   "execution_count": 6,
   "metadata": {},
   "outputs": [],
   "source": [
    "def get_nodes_from_elems(elems):\n",
    "    \"\"\"Creates a dictionary with nodes as keys and a list of element numbers for each node.\"\"\"\n",
    "    nodeDict = dict()\n",
    "    for el in elems:\n",
    "        el_num = int(el[0])\n",
    "        el_nods = [int(v) for v in el[1:]]\n",
    "        for node_num in el_nods:\n",
    "            if node_num in nodeDict:\n",
    "                nodeDict[node_num].append(el_num)\n",
    "            else:\n",
    "                nodeDict[node_num] = [el_num]\n",
    "    return nodeDict"
   ]
  },
  {
   "cell_type": "code",
   "execution_count": 7,
   "metadata": {},
   "outputs": [],
   "source": [
    "def get_faceSets(nodeLists):\n",
    "    \"\"\"Returns a list of sets containing node numbers of a given face\"\"\"\n",
    "    to_return = list()\n",
    "    for _list in nodeLists:\n",
    "        to_return.append(set([int(v[0]) for v in _list]))\n",
    "    return to_return"
   ]
  },
  {
   "cell_type": "code",
   "execution_count": 8,
   "metadata": {},
   "outputs": [],
   "source": [
    "def get_face_dict(nodeDict, faceSets):\n",
    "    \"\"\"Returns list with dicts containing the intersections between a nodeDict and a faceSet\"\"\"\n",
    "    to_return = list()\n",
    "    for _faceSet in faceSets:\n",
    "        faceDict = dict()\n",
    "        for node_num in _faceSet:\n",
    "            faceDict[node_num] = nodeDict[node_num]\n",
    "        to_return.append(faceDict)\n",
    "    return to_return"
   ]
  },
  {
   "cell_type": "code",
   "execution_count": 9,
   "metadata": {},
   "outputs": [],
   "source": [
    "nodeDict = get_nodes_from_elems(elems)\n",
    "faceSets = get_faceSets([endoNodeList, epiNodeList, topNodeList])\n",
    "faceDicts = get_face_dict(nodeDict, faceSets)"
   ]
  },
  {
   "cell_type": "code",
   "execution_count": 11,
   "metadata": {},
   "outputs": [],
   "source": [
    "(endoFace, epiFace, topFace) = faceDicts"
   ]
  },
  {
   "cell_type": "code",
   "execution_count": null,
   "metadata": {},
   "outputs": [],
   "source": []
  }
 ]
}