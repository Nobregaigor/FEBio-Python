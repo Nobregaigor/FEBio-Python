{
 "metadata": {
  "language_info": {
   "codemirror_mode": {
    "name": "ipython",
    "version": 3
   },
   "file_extension": ".py",
   "mimetype": "text/x-python",
   "name": "python",
   "nbconvert_exporter": "python",
   "pygments_lexer": "ipython3",
   "version": "3.8.3-final"
  },
  "orig_nbformat": 2,
  "kernelspec": {
   "name": "Python 3.8.3 64-bit ('venv')",
   "display_name": "Python 3.8.3 64-bit ('venv')",
   "metadata": {
    "interpreter": {
     "hash": "4ce963eec525c72576d8dfcde812f8487bbeefd0db94f66638320c10fe71db33"
    }
   }
  }
 },
 "nbformat": 4,
 "nbformat_minor": 2,
 "cells": [
  {
   "cell_type": "code",
   "execution_count": 1,
   "metadata": {},
   "outputs": [],
   "source": [
    "import sys  \n",
    "from os import path\n",
    "import numpy as np\n",
    "import pandas as pd\n",
    "\n",
    "sys.path.append('../src/')\n",
    "\n",
    "from modules.sys_functions.find_files_in_folder import search_dirs"
   ]
  },
  {
   "cell_type": "code",
   "execution_count": 2,
   "metadata": {},
   "outputs": [],
   "source": [
    "# Path to main directory\n",
    "runs_directory = \"D:\\\\Igor\\\\Research_USF\\\\University of South Florida\\\\Mao, Wenbin - Igor\\\\Febio-Models\\\\Active-Models\\\\PAQ\\\\Hex8-Hex20\\\\runs\\\\Hex8\"\n",
    "\n",
    "pickles_paths = search_dirs(runs_directory, \".pickle\")\n"
   ]
  },
  {
   "cell_type": "code",
   "execution_count": null,
   "metadata": {},
   "outputs": [],
   "source": [
    "pickles_paths"
   ]
  },
  {
   "cell_type": "code",
   "execution_count": 3,
   "metadata": {},
   "outputs": [],
   "source": [
    "df = pd.read_pickle(pickles_paths[0])"
   ]
  },
  {
   "cell_type": "code",
   "execution_count": null,
   "metadata": {},
   "outputs": [],
   "source": [
    "def combine_pickles(pickles_paths, df=None, started=False, _max=2):\n",
    "    odds  = pickles_paths[::2]\n",
    "    evens = pickles_paths[1::2]\n",
    "    \n",
    "    if len(pickles_paths) <= _max:\n",
    "        if started:\n",
    "            df_list = [df]\n",
    "            df_list.extend([pd.read_pickle(pp) for pp in pickles_paths])\n",
    "        else:\n",
    "            df_list = [pd.read_pickle(pp) for pp in pickles_paths]\n",
    "        \n",
    "        return pd.concat(df_list, sort=False).drop_duplicates(\n",
    "        ).reset_index(drop=True)\n",
    "\n",
    "    else:\n",
    "        odds_df  = combine_pickles(odds, df, True)\n",
    "        evens_df = combine_pickles(evens, df, True)\n",
    "\n",
    "        df = pd.concat([odds_df, evens_df], sort=False).drop_duplicates(\n",
    "        ).reset_index(drop=True)\n",
    "\n",
    "    return df\n",
    "\n",
    "    \n",
    "\n",
    "\n",
    "    "
   ]
  },
  {
   "cell_type": "code",
   "execution_count": null,
   "metadata": {},
   "outputs": [],
   "source": [
    "import timeit\n",
    "\n",
    "start = timeit.default_timer()\n",
    "\n",
    "df = combine_pickles(pickles_paths)\n",
    "\n",
    "stop = timeit.default_timer()\n",
    "print('Time: ', stop - start)  "
   ]
  },
  {
   "cell_type": "code",
   "execution_count": null,
   "metadata": {},
   "outputs": [],
   "source": [
    "df"
   ]
  },
  {
   "cell_type": "code",
   "execution_count": null,
   "metadata": {},
   "outputs": [],
   "source": [
    "start = timeit.default_timer()\n",
    "for i, pp in enumerate(pickles_paths):\n",
    "    print(pp)\n",
    "    if i == 0:\n",
    "        df = pd.read_pickle(pp)\n",
    "    else:\n",
    "        new_df = pd.read_pickle(pp)\n",
    "        df = pd.concat([df, new_df], sort=False).drop_duplicates(\n",
    "        ).reset_index(drop=True)\n",
    "\n",
    "stop = timeit.default_timer()\n",
    "print('Time: ', stop - start) "
   ]
  },
  {
   "cell_type": "code",
   "execution_count": null,
   "metadata": {},
   "outputs": [],
   "source": [
    "df"
   ]
  },
  {
   "cell_type": "code",
   "execution_count": null,
   "metadata": {},
   "outputs": [],
   "source": []
  }
 ]
}